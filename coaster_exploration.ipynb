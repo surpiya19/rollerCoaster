{
 "cells": [
  {
   "cell_type": "markdown",
   "id": "6644485f",
   "metadata": {},
   "source": [
    "### Step 0: Imports and Reading Data"
   ]
  },
  {
   "cell_type": "code",
   "execution_count": null,
   "id": "417a7f0c",
   "metadata": {},
   "outputs": [],
   "source": [
    "import polars as pl\n",
    "import matplotlib.pyplot as plt\n",
    "import seaborn as sns\n",
    "\n",
    "pl.Config.set_tbl_cols(200)\n",
    "pl.Config.set_tbl_rows(-1)"
   ]
  },
  {
   "cell_type": "code",
   "execution_count": null,
   "id": "dd2826d3",
   "metadata": {},
   "outputs": [],
   "source": [
    "df = pl.read_csv(\"coaster_db.csv\")"
   ]
  },
  {
   "cell_type": "markdown",
   "id": "eeeebd94",
   "metadata": {},
   "source": [
    "### Step 1: Data Understanding\n",
    "* Dataframe shape\n",
    "* *head* and *tail* \n",
    "* dtypes, columns\n",
    "* describe"
   ]
  },
  {
   "cell_type": "code",
   "execution_count": null,
   "id": "dd283091",
   "metadata": {},
   "outputs": [],
   "source": [
    "df.shape"
   ]
  },
  {
   "cell_type": "code",
   "execution_count": null,
   "id": "6d4670af",
   "metadata": {},
   "outputs": [],
   "source": [
    "df.head(5)"
   ]
  },
  {
   "cell_type": "code",
   "execution_count": null,
   "id": "4a925859",
   "metadata": {},
   "outputs": [],
   "source": [
    "print(\", \".join(df.columns))"
   ]
  },
  {
   "cell_type": "code",
   "execution_count": null,
   "id": "bcad4ee5",
   "metadata": {},
   "outputs": [],
   "source": [
    "pl.DataFrame({\"column\": df.columns, \"dtype\": df.dtypes})"
   ]
  },
  {
   "cell_type": "code",
   "execution_count": null,
   "id": "61346b71",
   "metadata": {},
   "outputs": [],
   "source": [
    "df.describe()"
   ]
  },
  {
   "cell_type": "markdown",
   "id": "bfcd8290",
   "metadata": {},
   "source": [
    "### Step 2: Data Preperation\n",
    "* Dropping irrelevant columns and rows\n",
    "* Identifying duplicated columns\n",
    "* Renaming Columns\n",
    "* Feature Creation"
   ]
  },
  {
   "cell_type": "code",
   "execution_count": 15,
   "id": "247666af",
   "metadata": {},
   "outputs": [],
   "source": [
    "coaster = df[\n",
    "    [\n",
    "        \"coaster_name\",\n",
    "        \"Location\",\n",
    "        \"Status\",\n",
    "        \"Manufacturer\",\n",
    "        \"year_introduced\",\n",
    "        \"latitude\",\n",
    "        \"longitude\",\n",
    "        \"Type_Main\",\n",
    "        \"opening_date_clean\",\n",
    "        \"speed_mph\",\n",
    "        \"height_ft\",\n",
    "        \"Inversions_clean\",\n",
    "        \"Gforce_clean\",\n",
    "    ]\n",
    "].clone()"
   ]
  },
  {
   "cell_type": "code",
   "execution_count": null,
   "id": "7a8f56c1",
   "metadata": {},
   "outputs": [],
   "source": [
    "coaster.describe"
   ]
  },
  {
   "cell_type": "code",
   "execution_count": 27,
   "id": "c562f120",
   "metadata": {},
   "outputs": [],
   "source": [
    "import plotly.express as px\n",
    "\n",
    "fig = px.scatter_geo(\n",
    "    coaster,\n",
    "    lat=\"latitude\",\n",
    "    lon=\"longitude\",\n",
    "    color=\"Type_Main\",\n",
    "    hover_name=\"coaster_name\",  # show coaster names on hover\n",
    "    hover_data={\"latitude\": False, \"longitude\": False},  # hide raw lat/lon\n",
    "    projection=\"natural earth\",  # cleaner map projection\n",
    "    title=\"🎢 Roller Coasters Around the World by Type\",\n",
    "    template=\"plotly_white\",\n",
    ")"
   ]
  },
  {
   "cell_type": "code",
   "execution_count": 29,
   "id": "fce0d708",
   "metadata": {},
   "outputs": [
    {
     "data": {
      "application/vnd.plotly.v1+json": {
       "config": {
        "plotlyServerURL": "https://plot.ly"
       },
       "data": [
        {
         "customdata": {
          "bdata": "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",
          "dtype": "f8",
          "shape": "198, 2"
         },
         "geo": "geo",
         "hovertemplate": "<b>%{hovertext}</b><br><br>Type_Main=Wood<extra></extra>",
         "hovertext": [
          "Switchback Railway",
          "Flip Flap Railway",
          "Cannon Coaster",
          "Leap-The-Dips",
          "Backety-Back Scenic Railway",
          "Racer (1910 roller coaster)",
          "Derby Racer",
          "The Great Scenic Railway",
          "Zippin Pippin",
          "Whirl Pool Dips",
          "Green Dragon (Lake Compounce)",
          "The Wild One (roller coaster)",
          "Jack Rabbit (Clementon Park)",
          "Jack Rabbit (Kennywood)",
          "Jack Rabbit (Seabreeze)",
          "Scenic Railway (roller coaster)",
          "Roller Coaster (Lagoon)",
          "Big Dipper (Blackpool Pleasure Beach)",
          "Wild Cat (Hersheypark)",
          "The Bobs (roller coaster)",
          "Giant Dipper",
          "Pippin (roller coaster)",
          "Thunderhawk (Dorney Park)",
          "Big Dipper (Geauga Lake)",
          "Cyclone (Revere Beach)",
          "Giant Dipper (Belmont Park)",
          "Jazz Railway",
          "Thunderbolt (1925 roller coaster)",
          "Thunderbolt (Savin Rock)",
          "Crystal Beach Cyclone",
          "Sesquicentennial Cyclone",
          "Tornado (Coney Island)",
          "Crystal Beach Cyclone",
          "Cyclone (Palisades Amusement Park)",
          "Lightning (Revere Beach)",
          "Racer (Kennywood)",
          "Wildcat (Lake Compounce)",
          "Zip (roller coaster)",
          "Airplane Coaster",
          "Dragon Coaster (Playland)",
          "Yankee Cannonball",
          "Roller Coaster (Great Yarmouth Pleasure Beach)",
          "Nickelodeon Streak",
          "Big Dipper (Luna Park Sydney)",
          "Grand National (roller coaster)",
          "Blue Streak (Conneaut Lake)",
          "Derby Racer",
          "Blue Streak (Conneaut Lake)",
          "Rollo Coaster",
          "Cyclone (Lakeside Amusement Park)",
          "Flyer Comet (Whalom Park)",
          "Giant Skyrocket",
          "Thunderbolt (Six Flags New England)",
          "Comet (Hersheypark)",
          "Comet (Lincoln Park)",
          "Little Dipper (Six Flags Great America)",
          "Big Dipper (Battersea Park)",
          "Comet (Waldameer)",
          "Vuoristorata",
          "Sea Dragon (roller coaster)",
          "Wild Mouse (Blackpool Pleasure Beach)",
          "Wooden Roller Coaster (Playland)",
          "Blue Streak (Cedar Point)",
          "Jetstream (roller coaster)",
          "Montaña Rusa (La Feria Chapultepec Mágico)",
          "Swamp Fox (roller coaster)",
          "Cannon Ball (roller coaster)",
          "Thunderbolt (Kennywood)",
          "The Racer (Kings Island)",
          "Scooby-Doo (Kings Island)",
          "Great American Scream Machine (Six Flags Over Georgia)",
          "Scooby-Doo (Kings Dominion)",
          "Racer 75",
          "Scooby-Doo (Carowinds)",
          "High Roller (Valleyfair)",
          "Screamin' Eagle",
          "Texas Cyclone",
          "Thunder Road (roller coaster)",
          "Arkansas Twister",
          "Tornado (Adventureland)",
          "The Beast (roller coaster)",
          "Rolling Thunder (roller coaster)",
          "Judge Roy Scream",
          "The Beastie (Kings Island)",
          "American Eagle (roller coaster)",
          "Ghoster Coaster (Canada's Wonderland)",
          "Mighty Canadian Minebuster",
          "Wilde Beast",
          "Grizzly (Kings Dominion)",
          "The Bush Beast",
          "Le Monstre",
          "Phoenix (roller coaster)",
          "The Grizzly",
          "Skyliner (roller coaster)",
          "Raging Wolf Bobs",
          "Wolverine Wildcat",
          "Hercules (roller coaster)",
          "Timber Wolf (roller coaster)",
          "Predator (roller coaster)",
          "Thunder Run (Kentucky Kingdom)",
          "Pegasus (Efteling)",
          "Psyclone (roller coaster)",
          "Wildcat (Frontier City)",
          "Jupiter (roller coaster)",
          "Kingdom Coaster",
          "Sierra Tonante",
          "Outlaw (roller coaster)",
          "The Comet (Great Escape)",
          "Hoosier Hurricane",
          "Hurler (roller coaster)",
          "White Canyon (roller coaster)",
          "Zach's Zoomer",
          "Cannonball Run (roller coaster)",
          "Cyclops (roller coaster)",
          "The Raven (roller coaster)",
          "Twister II",
          "Viper (Six Flags Great America)",
          "The Great White (Morey's Piers)",
          "Megafobia",
          "Pegasus (Mt. Olympus Water and Theme Park)",
          "Timber Terror",
          "The Underground (roller coaster)",
          "Wildcat (Hersheypark)",
          "Stampida",
          "Tonnerre de Zeus",
          "Zeus (roller coaster)",
          "Excalibur (Funtown Splashtown USA)",
          "GhostRider (roller coaster)",
          "Rampage (roller coaster)",
          "Roar (roller coaster)",
          "Shivering Timbers",
          "Bandit (Movie Park Germany)",
          "Montezum",
          "Roar (roller coaster)",
          "Silver Comet (roller coaster)",
          "Tremors (roller coaster)",
          "Twister (Knoebels Amusement Resort)",
          "The Boss (roller coaster)",
          "Boulder Dash (roller coaster)",
          "Dania Beach Hurricane",
          "Hurricane: Category 5",
          "The Legend (roller coaster)",
          "Lightning Racer",
          "Mega Zeph",
          "Son of Beast",
          "Cheetah (Wild Adventures)",
          "Colossos - Kampf der Giganten",
          "Cornball Express",
          "Thundercoaster (TusenFryd)",
          "Lost Coaster of Superstition Mountain",
          "New Mexico Rattler",
          "Balder (roller coaster)",
          "Ozark Wildcat",
          "Hell Cat",
          "Thunderhead (roller coaster)",
          "Fairly Odd Coaster (Carowinds)",
          "Hades 360",
          "Fairly Odd Coaster (Kings Island)",
          "Kentucky Rumbler",
          "Thunderbird (PowerPark)",
          "El Toro (Six Flags Great Adventure)",
          "The Voyage (roller coaster)",
          "Boardwalk Bullet",
          "Renegade (roller coaster)",
          "Troy (roller coaster)",
          "American Thunder (roller coaster)",
          "Ravine Flyer II",
          "T Express",
          "Apocalypse: The Ride",
          "Prowler (roller coaster)",
          "El Toro (Freizeitpark Plohn)",
          "Wooden Coaster - Fireball",
          "Joris en de Draak",
          "Little Dipper (Six Flags Great America)",
          "Woodstock Express (Carowinds)",
          "Woodstock Express (Kings Island)",
          "Wood Coaster (Mountain Flyer)",
          "Wooden Warrior",
          "Zippin Pippin",
          "Dauling Dragon",
          "Wodan Timbur Coaster",
          "Flying Turns (Knoebels)",
          "Gold Striker",
          "Hades 360",
          "Outlaw Run",
          "White Lightning (roller coaster)",
          "Woodstock Express (Kings Dominion)",
          "Roar-o-Saurus",
          "The Cú Chulainn Coaster",
          "ZDT's Amusement Park",
          "Wildfire (Kolmården Wildlife Park)",
          "InvadR",
          "Mine Blower",
          "Mystic Timbers",
          "Wicker Man (roller coaster)",
          "Kentucky Flyer",
          "Texas Stingray",
          "Leviathan (Sea World)"
         ],
         "lat": {
          "bdata": "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",
          "dtype": "f8"
         },
         "legendgroup": "Wood",
         "lon": {
          "bdata": "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",
          "dtype": "f8"
         },
         "marker": {
          "color": "#636efa",
          "line": {
           "color": "white",
           "width": 0.5
          },
          "opacity": 0.7,
          "size": 6,
          "symbol": "circle"
         },
         "mode": "markers",
         "name": "Wood",
         "showlegend": true,
         "type": "scattergeo"
        },
        {
         "customdata": {
          "bdata": "CtejcD3KREAUrkfhemRUwArXo3A9ykRAFK5H4XpkVMBEaW/whUlEQGb35GGhflLACtejcD3KREAUrkfhemRUwArXo3A9ykRAFK5H4XpkVMAK16NwPcpEQBSuR+F6ZFTACtejcD3KREAUrkfhemRUwH2utmJ/SURA2IFzRpR+UsDi6ZWyDKlFQKCJsOHpFQDACtejcD3KREAUrkfhemRUwEymCkYl5UpAAwmKH2NuCMAAAAAAAAD4fwAAAAAAAPh/AAAAAAAA+H8AAAAAAAD4fwAAAAAAAPh/AAAAAAAA+H8pyxDHumBAQHgLJCh+RFjAAAAAAAAA+H8AAAAAAAD4f2FUUiegEURA1XjpJjGcUsAAAAAAAAD4fwAAAAAAAPh/AAAAAAAA+H8AAAAAAAD4fwAAAAAAAPh/AAAAAAAA+H+xUGuad6xFQK62Yn/ZkVXAgy9Mpgp+SkACvAUSFD/+vwAAAAAAAPh/AAAAAAAA+H/NzMzMzKw9QDVeukkM2lfAQKTfvg7sQEAVjErqBIBdwAAAAAAAAPh/AAAAAAAA+H8Rx7q4jeZAwIXrUbge22JAQKTfvg7sRUB7gy9MpuJTwAAAAAAAAPh/AAAAAAAA+H9mZmZmZn5KQMZtNIC3QP6/AAAAAAAA+H8AAAAAAAD4fwAAAAAAAPh/AAAAAAAA+H+V1AloIqxDQCntDb4wEVXAAAAAAAAA+H8AAAAAAAD4fwAAAAAAAPh/AAAAAAAA+H8AAAAAAAD4fwAAAAAAAPh/KcsQx7pgQEB4CyQofkRYwAAAAAAAAPh/AAAAAAAA+H8AAAAAAAD4fwAAAAAAAPh/+aBns+prQUD3Bl+YTBFhQAAAAAAAAPh/AAAAAAAA+H8AAAAAAAD4fwAAAAAAAPh/8IXJVMF4PEBn1edqK15UwAAAAAAAAPh/AAAAAAAA+H9oke18P61EQCsYldQJWFTAsAPnjCitRECkcD0K11dUwAAAAAAAAPh/AAAAAAAA+H8AAAAAAAD4fwAAAAAAAPh/KcsQx7pgQEB4CyQofkRYwAAAAAAAAPh/AAAAAAAA+H8AAAAAAAD4fwAAAAAAAPh/at5xio5UPEAU0ETY8GBUwG+BBMWPIUhAGJXUCWjiHkCRfvs6cE5KQB04Z0Rpb/u/AAAAAAAA+H8AAAAAAAD4fwAAAAAAAPh/AAAAAAAA+H/pJjEIrBwtQBdIUPwYP15ACKwcWmTbQEDByqFFtrtTwAisHFpk20BAwcqhRba7U8AW+8vuyatDQNO84xQdEVXAjZduEoNwREC4HoXrUSBTwGiR7Xw/rURAKxiV1AlYVMC2hHzQswk8QJf/kH77mlTAat5xio5UPEAU0ETY8GBUwEymCkYl5UpAAwmKH2NuCMBQ/Bhz14pEQKqCUUmdgPI/AAAAAAAA+H8AAAAAAAD4fwAAAAAAAPh/AAAAAAAA+H9miGNd3C5FQI9TdCSX+1XA/tR46SYZQ0BWDi2ynW9VwAAAAAAAAPh/AAAAAAAA+H9q3nGKjlQ8QBTQRNjwYFTAY+5aQj4ASUCBBMWPMWczQA==",
          "dtype": "f8",
          "shape": "73, 2"
         },
         "geo": "geo",
         "hovertemplate": "<b>%{hovertext}</b><br><br>Type_Main=Other<extra></extra>",
         "hovertext": [
          "Switchback Railway (Euclid Beach Park)",
          "Figure Eight (Euclid Beach Park)",
          "Drop the Dip",
          "Scenic Railway (Euclid Beach Park)",
          "Aero Dips",
          "Racing Coaster",
          "The Thriller (roller coaster)",
          "Coney Island Cyclone",
          "Montaña Suiza",
          "Flying Turns (Euclid Beach Park)",
          "Zipper Dipper",
          "Big Dipper (Camden Park)",
          "Tornado (Wedgewood Village Amusement Park)",
          "Alpine Sleigh Ride",
          "Mini Mine Train (Six Flags Over Texas)",
          "Galaxi",
          "Runaway Mine Train (Six Flags Great Adventure)",
          "Whizzer (roller coaster)",
          "Shuttle Loop",
          "Greezed Lightnin' (Six Flags Astroworld)",
          "Corkscrew (Michigan's Adventure)",
          "Corkscrew (Alton Towers)",
          "Alpen Blitz (Parque de la Ciudad)",
          "Sky Screamer (Six Flags AstroWorld)",
          "Timberline Twister",
          "Boomerang (roller coaster)",
          "The Beastie (Wonderland Sydney)",
          "The Bat (Canada's Wonderland)",
          "Knightmare (Camelot)",
          "Beast (Alton Towers)",
          "Anaconda (Walygator Parc)",
          "Thunder Looper",
          "The Great Pumpkin Coaster",
          "Lightning Bolt (roller coaster)",
          "Comet Express",
          "Viper (Six Flags Over Georgia)",
          "Runaway Mountain",
          "Invertigo (roller coaster)",
          "Invertigo (California's Great America)",
          "Mad Cobra (roller coaster)",
          "Invertigo (Kings Island)",
          "Katapul",
          "Pteranodon Flyers",
          "Two Face: The Flip Side",
          "Roller Coaster (Papéa Parc)",
          "Villain (roller coaster)",
          "Déjà Vu (roller coaster)",
          "Giant Inverted Boomerang",
          "Wile E. Coyote's Grand Canyon Blaster",
          "Greased Lightnin' (Six Flags Discovery Kingdom)",
          "Greezed Lightnin' (Kentucky Kingdom)",
          "Jack Rabbit (Celebration City)",
          "Atlantica SuperSplash",
          "G Force (roller coaster)",
          "Expedition Everest",
          "Knightmare (Camelot)",
          "Star Flyer (roller coaster)",
          "Round About (roller coaster)",
          "Soak'd",
          "Diamondback (Kings Island)",
          "Kozmo's Kurves",
          "Roller Coaster (Papéa Parc)",
          "Air Grover",
          "Viking Voyage",
          "Blue Flyer",
          "Shambhala (roller coaster)",
          "Stinger (roller coaster)",
          "Triops (roller coaster)",
          "Goliath (Six Flags Great America)",
          "Lightning Run",
          "The Joker (Six Flags Discovery Kingdom)",
          "Hurricane (Fun Spot America)",
          "Zadra (roller coaster)"
         ],
         "lat": {
          "bdata": "CtejcD3KREAK16NwPcpEQERpb/CFSURACtejcD3KREAK16NwPcpEQArXo3A9ykRACtejcD3KREB9rrZif0lEQOLplbIMqUVACtejcD3KREBMpgpGJeVKQAAAAAAAAPh/AAAAAAAA+H8AAAAAAAD4fynLEMe6YEBAAAAAAAAA+H9hVFInoBFEQAAAAAAAAPh/AAAAAAAA+H8AAAAAAAD4f7FQa5p3rEVAgy9Mpgp+SkAAAAAAAAD4f83MzMzMrD1AQKTfvg7sQEAAAAAAAAD4fxHHuriN5kDAQKTfvg7sRUAAAAAAAAD4f2ZmZmZmfkpAAAAAAAAA+H8AAAAAAAD4f5XUCWgirENAAAAAAAAA+H8AAAAAAAD4fwAAAAAAAPh/KcsQx7pgQEAAAAAAAAD4fwAAAAAAAPh/+aBns+prQUAAAAAAAAD4fwAAAAAAAPh/8IXJVMF4PEAAAAAAAAD4f2iR7Xw/rURAsAPnjCitREAAAAAAAAD4fwAAAAAAAPh/KcsQx7pgQEAAAAAAAAD4fwAAAAAAAPh/at5xio5UPEBvgQTFjyFIQJF++zpwTkpAAAAAAAAA+H8AAAAAAAD4f+kmMQisHC1ACKwcWmTbQEAIrBxaZNtAQBb7y+7Jq0NAjZduEoNwREBoke18P61EQLaEfNCzCTxAat5xio5UPEBMpgpGJeVKQFD8GHPXikRAAAAAAAAA+H8AAAAAAAD4f2aIY13cLkVA/tR46SYZQ0AAAAAAAAD4f2recYqOVDxAY+5aQj4ASUA=",
          "dtype": "f8"
         },
         "legendgroup": "Other",
         "lon": {
          "bdata": "FK5H4XpkVMAUrkfhemRUwGb35GGhflLAFK5H4XpkVMAUrkfhemRUwBSuR+F6ZFTAFK5H4XpkVMDYgXNGlH5SwKCJsOHpFQDAFK5H4XpkVMADCYofY24IwAAAAAAAAPh/AAAAAAAA+H8AAAAAAAD4f3gLJCh+RFjAAAAAAAAA+H/VeOkmMZxSwAAAAAAAAPh/AAAAAAAA+H8AAAAAAAD4f662Yn/ZkVXAArwFEhQ//r8AAAAAAAD4fzVeukkM2lfAFYxK6gSAXcAAAAAAAAD4f4XrUbge22JAe4MvTKbiU8AAAAAAAAD4f8ZtNIC3QP6/AAAAAAAA+H8AAAAAAAD4fyntDb4wEVXAAAAAAAAA+H8AAAAAAAD4fwAAAAAAAPh/eAskKH5EWMAAAAAAAAD4fwAAAAAAAPh/9wZfmEwRYUAAAAAAAAD4fwAAAAAAAPh/Z9XnaiteVMAAAAAAAAD4fysYldQJWFTApHA9CtdXVMAAAAAAAAD4fwAAAAAAAPh/eAskKH5EWMAAAAAAAAD4fwAAAAAAAPh/FNBE2PBgVMAYldQJaOIeQB04Z0Rpb/u/AAAAAAAA+H8AAAAAAAD4fxdIUPwYP15AwcqhRba7U8DByqFFtrtTwNO84xQdEVXAuB6F61EgU8ArGJXUCVhUwJf/kH77mlTAFNBE2PBgVMADCYofY24IwKqCUUmdgPI/AAAAAAAA+H8AAAAAAAD4f49TdCSX+1XAVg4tsp1vVcAAAAAAAAD4fxTQRNjwYFTAgQTFjzFnM0A=",
          "dtype": "f8"
         },
         "marker": {
          "color": "#EF553B",
          "line": {
           "color": "white",
           "width": 0.5
          },
          "opacity": 0.7,
          "size": 6,
          "symbol": "circle"
         },
         "mode": "markers",
         "name": "Other",
         "showlegend": true,
         "type": "scattergeo"
        },
        {
         "customdata": {
          "bdata": "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",
          "dtype": "f8",
          "shape": "816, 2"
         },
         "geo": "geo",
         "hovertemplate": "<b>%{hovertext}</b><br><br>Type_Main=Steel<extra></extra>",
         "hovertext": [
          "Loop the Loop (Coney Island)",
          "Loop the Loop (Young's Pier)",
          "Loop the Loop (Olentangy Park)",
          "Little Dipper (Conneaut Lake Park)",
          "Little Dipper (Memphis Kiddie Park)",
          "High Speed Thrill Coaster",
          "Matterhorn Bobsleds",
          "Giant Coaster (Fuji-Q Highland)",
          "Runaway Mine Train (Six Flags Over Texas)",
          "Dahlonega Mine Train",
          "Cedar Creek Mine Ride",
          "Serpent (roller coaster)",
          "Daidarasaurus",
          "Jet Star (Casino Pier)",
          "Wildcat (Jolly Roger Amusement Park)",
          "Gold Rusher",
          "Magic Flyer (roller coaster)",
          "River King Mine Train",
          "Excalibur (Six Flags AstroWorld)",
          "Fire in the Hole (Silver Dollar City)",
          "Jumbo Jet (Cedar Point)",
          "Rock n' Roller Coaster (Opryland)",
          "Toboggan (Hersheypark)",
          "Carolina Goldrusher",
          "Schussboomer",
          "Big Fury",
          "Mini-Comet",
          "Trailblazer (roller coaster)",
          "Corkscrew (Knott's Berry Farm)",
          "Glissade (roller coaster)",
          "Rockin' Roller",
          "Space Mountain (Magic Kingdom)",
          "Wabash Cannonball (roller coaster)",
          "Alpen Blitz",
          "Corkscrew (Cedar Point)",
          "Demon (roller coaster)",
          "Extremeroller",
          "Gulf Coaster",
          "Jet Star 2 (Lagoon)",
          "Jumbo Jet (Morey's Piers)",
          "Lil' Thunder",
          "Mild Thing",
          "Python (Busch Gardens Tampa Bay)",
          "The New Revolution (roller coaster)",
          "Double Loop (Geauga Lake)",
          "Screamin' Demon",
          "SooperDooperLooper",
          "Space Mountain (Disneyland)",
          "Steeplechase (Blackpool Pleasure Beach)",
          "Colossus (Six Flags Magic Mountain)",
          "Gemini (roller coaster)",
          "Lightnin' Loops",
          "Loch Ness Monster (roller coaster)",
          "Montezooma's Revenge",
          "Schweizer Bobbahn",
          "Shock Wave (Six Flags Over Texas)",
          "The Riddler Mindbender",
          "Wild Rider",
          "Big Thunder Mountain Railroad",
          "Big Thunder Mountain Railroad (Disneyland)",
          "Momonga Standing and Loop Coaster",
          "Revolution (Blackpool Pleasure Beach)",
          "WildCat (Cedar Point)",
          "Wilderness Run",
          "Big Thunder Mountain Railroad",
          "Carolina Cyclone",
          "Corkscrew (Valleyfair)",
          "Orient Express (roller coaster)",
          "Scorpion (roller coaster)",
          "Shuttle Loop (Nagashima Spa Land)",
          "The Bat (Kings Island; opened 1981)",
          "Colossus (Playcenter São Paulo)",
          "Dragon Fyre",
          "Hoot N Holler",
          "Python (Efteling)",
          "Super Manège",
          "Thunder Run (Canada's Wonderland)",
          "Looping Star (Nagashima Spa Land)",
          "Sea Viper (roller coaster)",
          "Thrillseeker (roller coaster)",
          "Thunderbolt (Dreamworld)",
          "Viper (Six Flags Darien Lake)",
          "Vortex (Calaway Park)",
          "Beastie (Alton Towers)",
          "Black Hole (roller coaster)",
          "Colossus the Fire Dragon",
          "Cyclone (Six Flags New England)",
          "Dragon Mountain",
          "Flitzer",
          "Moonsault Scramble",
          "Space Mountain (Tokyo Disneyland)",
          "Alpenexpress Enzian",
          "Alpine Bobsled",
          "Astro Storm",
          "Big Bad Wolf (roller coaster)",
          "Flying Fish (roller coaster)",
          "King Cobra (roller coaster)",
          "Sea Serpent (Morey's Piers)",
          "Steamin' Demon",
          "Tig'rr Coaster",
          "Ultra Twister (Nagashima Spa Land)",
          "La Vibora",
          "XLR-8",
          "Disaster Transport",
          "Flashback (Six Flags Magic Mountain)",
          "Freestyle (roller coaster)",
          "Kikkerachtbaan",
          "Klondike Gold Mine (roller coaster)",
          "Shaman (roller coaster)",
          "Mindbender (Galaxyland)",
          "Steel First",
          "Swiss Bob",
          "Texas Tornado (roller coaster)",
          "Wild Mouse (Idlewild)",
          "Eureka Mountain Mine Ride",
          "Shockwave (Kings Dominion)",
          "Silver Bullet (Frontier City)",
          "Thunder Run (Canada's Wonderland)",
          "Ultra Twister (Six Flags)",
          "La Vibora",
          "Big Thunder Mountain Railroad",
          "Big Thunder Mountain Railroad (Tokyo Disneyland)",
          "Canobie Corkscrew",
          "Dreamcatcher (roller coaster)",
          "Iron Dragon (roller coaster)",
          "Lisebergbanan",
          "Raptor Attack",
          "Runaway Train (roller coaster)",
          "Scorpion Express",
          "La Vibora",
          "Vortex (Kings Island)",
          "Woodstock's Express (California's Great America)",
          "Avalanche (Blackpool Pleasure Beach)",
          "Avalanche (Kings Dominion)",
          "Bandit (Yomiuriland)",
          "Boomerang (Six Flags México)",
          "Cobra (La Ronde)",
          "Crazy Bats",
          "Flashback (Six Flags Magic Mountain)",
          "Jetline",
          "Ninja (Six Flags Magic Mountain)",
          "Shockwave (Six Flags Great America)",
          "Thunderbolt Express",
          "Wipeout (roller coaster)",
          "Alpine Bobsled",
          "Eurosat - CanCan Coaster",
          "Excalibur (Valleyfair)",
          "Flashback (Six Flags Over Texas)",
          "Goudurix",
          "Great American Scream Machine (Six Flags Great Adventure)",
          "Magnum XL-200",
          "Ninja (Six Flags St. Louis)",
          "Olympia Looping",
          "Ultra Twister (Nagashima Spa Land)",
          "Vekoma Illusion",
          "Viper (Six Flags AstroWorld)",
          "Corkscrew (Silverwood)",
          "Dragon (Adventureland)",
          "Flashback (Six Flags New England)",
          "Iron Wolf (roller coaster)",
          "Pikajuna",
          "Texas Giant",
          "Tigre de Sibérie",
          "Twisted Cyclone",
          "Ultra Twister (Six Flags)",
          "Vampire (roller coaster)",
          "Viper (Six Flags Magic Mountain)",
          "Adventure Express",
          "Afterburner (Fun Spot)",
          "Anaconda (roller coaster)",
          "Sidewinder (Hersheypark)",
          "Steel Phantom",
          "Toboggan (Lakemont Park)",
          "Turbo Mountain",
          "The Ultimate (roller coaster)",
          "Vortex (Canada's Wonderland)",
          "Vortex (Great America)",
          "Batman: The Ride",
          "Big Thunder Mountain Railroad",
          "Blue Hawk (roller coaster)",
          "Cosmic Coaster (Valleyfair)",
          "Desert Storm (roller coaster)",
          "Drachen Fire",
          "Dragon Coaster (Dorney Park)",
          "Eagle Fortress",
          "Flashback (Six Flags Magic Mountain)",
          "Pepsi Orange Streak",
          "Pipeline Express",
          "The Rattler (roller coaster)",
          "Runaway Mine Train (Alton Towers)",
          "Streamliner Coaster",
          "Vortex (Carowinds)",
          "Batman The Escape",
          "Batman: The Ride",
          "Bocaraca",
          "Canyon Blaster (Adventuredome)",
          "Cosmic Coaster (Worlds of Fun)",
          "Flight Deck (California's Great America)",
          "Gadget's Go Coaster",
          "Hundeprutterutchebane",
          "Indiana Jones et le Temple du Péril",
          "Kumba (roller coaster)",
          "Lightnin' Loops",
          "Superman: Krypton Coaster (Six Flags Mexico)",
          "Thunderation",
          "Top Gun (Kings Island)",
          "Wild Mouse (Idlewild)",
          "Batman: The Ride",
          "Condor (roller coaster)",
          "Corkscrew (Playland)",
          "Desperado (roller coaster)",
          "Diavlo",
          "Hakugei (roller coaster)",
          "Nemesis (roller coaster)",
          "Raptor (Cedar Point)",
          "Roller Skater (roller coaster)",
          "Shockwave (Drayton Manor)",
          "The Big One (roller coaster)",
          "Titan (Space World)",
          "Arkham Asylum – Shock Therapy",
          "Back at the Barnyard Hayride",
          "Batman: The Ride",
          "The Gold Coaster",
          "Cactus Coaster",
          "Cannonball Express (roller coaster)",
          "Cobra (La Ronde)",
          "Dragon Khan",
          "Eurostar (roller coaster)",
          "Flight Deck (Canada's Wonderland)",
          "The Great Nor'easter",
          "Jaguar!",
          "Sidewinder (Elitch Gardens)",
          "Space Mountain: De la Terre à la Lune",
          "Space Shuttle (roller coaster)",
          "T2 (roller coaster)",
          "Viper (Six Flags Great Adventure)",
          "Backyardigans: Mission to Mars",
          "The Barnstormer",
          "Colorado Adventure",
          "Flight of Fear",
          "Fujiyama (roller coaster)",
          "Gadget's Go Coaster",
          "High Roller (Stratosphere)",
          "Montu (roller coaster)",
          "Rougarou (roller coaster)",
          "Santa Monica West Coaster",
          "Skull Mountain",
          "The Barnstormer at Goofy's Wiseacre Farm",
          "The Joker's Revenge",
          "The Mind Eraser (Geauga Lake)",
          "The Walking Dead: The Ride",
          "Wild Thing (Valleyfair)",
          "Wilde maus",
          "Alpengeist",
          "Batman: The Ride",
          "Boomerang: Coast to Coaster",
          "Chang (roller coaster)",
          "Euro-Mir",
          "The Great White (SeaWorld San Antonio)",
          "Green Lantern (Six Flags Great Adventure)",
          "Kiddie Coaster",
          "American Dreier Looping",
          "Pyrenees (roller coaster)",
          "Road Runner Express (Six Flags Fiesta Texas)",
          "Big Apple Coaster",
          "Skytrak",
          "Steel Force",
          "Superman: Escape from Krypton",
          "Tower of Terror II",
          "Windjammer Surf Racers",
          "Zoomerang (Lake Compounce)",
          "Alpine Bobsled",
          "Batman & Robin: The Chiller",
          "Blue Tornado (roller coaster)",
          "Boomerang: Coast to Coaster",
          "Doo Wopper",
          "Great Bear (roller coaster)",
          "Journey to Atlantis",
          "Kong (roller coaster)",
          "Mad Mouse (Pavilion)",
          "Mamba (roller coaster)",
          "Monte Makaya",
          "Mr. Freeze (roller coaster)",
          "Oblivion (roller coaster)",
          "Rattlesnake (roller coaster)",
          "The Riddler's Revenge",
          "Roller Coaster (Dam Sen Park)",
          "Scooby's Ghoster Coaster",
          "Sprocket Rockets",
          "Storm Chaser (roller coaster)",
          "Thunderhawk (Michigan's Adventure)",
          "Vapor Trail (roller coaster)",
          "Vogel Rok",
          "Volcano: The Blast Coaster",
          "Wild Mouse (Lagoon)",
          "Wilderness Run (Carowinds)",
          "Afterburn (roller coaster)",
          "Apollo's Chariot",
          "Batman: The Ride",
          "Bizarro (roller coaster)",
          "Boomerang: Coast to Coaster",
          "Canyon Blaster (Six Flags Magic Mountain)",
          "Dragon Challenge",
          "Exterminator (roller coaster)",
          "Georgia Scorcher",
          "Great Chase (Six Flags America)",
          "Harley Quinn Crazy Train",
          "The Howler",
          "The Incredible Hulk Coaster",
          "Iron Gwazi",
          "The Joker's Jinx",
          "Lil' Devil Coaster",
          "Limit (roller coaster)",
          "Mad Mouse (Michigan's Adventure)",
          "Mad Mouse (Valleyfair)",
          "Millennium Roller Coaster",
          "Montaña Rusa (Parque del Café)",
          "Nightmare at Crack Axle Canyon",
          "Poltergeist (roller coaster)",
          "Powder Keg: A Blast into the Wilderness",
          "Python (Coney Island, Cincinnati, Ohio)",
          "Raging Bull (roller coaster)",
          "Road Runner Express (Six Flags Discovery Kingdom)",
          "Rock 'n' Roller Coaster Starring Aerosmith",
          "Rollie's Coaster",
          "Steel Eel",
          "Superman – Ride of Steel",
          "Tennessee Tornado",
          "Thunderbolt (Celebration City)",
          "Tornado (Parque de Atracciones de Madrid)",
          "Twisted Typhoon",
          "Wild Mouse (Hersheypark)",
          "Woodstock Express (Cedar Point)",
          "Woodstock Express (Michigan's Adventure)",
          "Woody Woodpecker's Nuthouse Coaster",
          "Batman: The Ride (Six Flags México)",
          "Boomerang (Worlds of Fun)",
          "Catwoman's Whip",
          "Diving Machine G5",
          "Dominator (roller coaster)",
          "Flashback (Six Flags New England)",
          "Flying Dutchman Gold Mine",
          "Flying Super Saturator",
          "Flying Unicorn",
          "Ghost Chasers (roller coaster)",
          "Goliath (Six Flags Magic Mountain)",
          "Gotham City Gauntlet: Escape from Arkham Asylum",
          "Jet Star (Luna Park)",
          "Katun (roller coaster)",
          "Kraken (roller coaster)",
          "Linnunrata",
          "Medusa (Six Flags Discovery Kingdom)",
          "Millennium Force",
          "Muskrat Scrambler",
          "Possessed (roller coaster)",
          "Ravine Flyer III",
          "RC-48",
          "Road Runner Express (Six Flags Kentucky Kingdom)",
          "Road Runner Express (Six Flags New Orleans)",
          "Road Runner Rollercoaster",
          "Roller Coaster (Suoi Tien Park)",
          "Speed – The Ride",
          "Speed of Sound (roller coaster)",
          "Steel Dragon 2000",
          "Superman – Ride of Steel",
          "Superman The Ride",
          "Superman: Krypton Coaster",
          "Svalbard Ekspressen",
          "Untamed (Walibi Holland)",
          "Woodstock Express (Dorney Park)",
          "Xpress: Platform 13",
          "Zydeco Scream",
          "Batwing (roller coaster)",
          "California Screamin'",
          "Do-Dodonpa",
          "Expedition GeForce",
          "Flying Ace Aerial Chase",
          "The Gold Coaster",
          "Goofy's Sky School",
          "Hypersonic XLC",
          "Incredicoaster",
          "Insane Speed",
          "Lego Technic Test Track",
          "MP Xpress",
          "Mulholland Madness",
          "Nitro (Six Flags Great Adventure)",
          "Phantom's Revenge",
          "Silver Streak (Canada's Wonderland)",
          "Talon (roller coaster)",
          "The Flash: Vertical Velocity",
          "Titan (Six Flags Over Texas)",
          "Vertical Velocity (roller coaster)",
          "Vonkaputous",
          "Wildfire (Silver Dollar City)",
          "X-Flight (Geauga Lake)",
          "Apple Zapple (Kings Dominion)",
          "Avalancha (roller coaster)",
          "Batman: The Dark Knight (roller coaster)",
          "Batman: Arkham Asylum (roller coaster)",
          "Colossus (Thorpe Park)",
          "Escape from Madagascar",
          "Flying Coaster (Elitch Gardens)",
          "Galactica (roller coaster)",
          "Goliath (Walibi Holland)",
          "Jubilee Odyssey",
          "Lego Technic Test Track",
          "Primeval Whirl",
          "Ricochet (Carowinds)",
          "Rock 'n' Roller Coaster Starring Aerosmith",
          "Roller Soaker",
          "Rugrats Runaway Reptar (Dreamworld)",
          "Scooby-Doo Spooky Coaster",
          "Silver Star (roller coaster)",
          "Star Jet",
          "Superman: La Atracción de Acero",
          "Superman: Ultimate Flight",
          "Toboggan (Conneaut Lake Park)",
          "Tom & Jerry (roller coaster)",
          "Le Vampire",
          "Wicked Twister",
          "Winja's Fear & Force",
          "X2 (roller coaster)",
          "Xcelerator",
          "Atlantis Adventure",
          "Batman: The Ride",
          "Canyon Blaster (Great Escape)",
          "Dragon Express",
          "Half Pipe (roller coaster)",
          "The Jester (roller coaster)",
          "Kiddy Hawk",
          "Nemesis Inferno",
          "Scream (roller coaster)",
          "Spider (roller coaster)",
          "Steel Venom (Valleyfair)",
          "Superman: Ultimate Flight",
          "Swamp Thing (Wild Adventures)",
          "Thunder Dolphin",
          "Top Thrill Dragster",
          "Twist n' Shout",
          "Vild-Svinet",
          "Vilda Musen",
          "Booster Bike",
          "Dæmonen",
          "Dragon's Fury (roller coaster)",
          "Fairly Odd Coaster",
          "Half Pipe (roller coaster)",
          "The Joker Funhouse Coaster",
          "Journey to Atlantis",
          "Lightning (roller coaster)",
          "Nighthawk (roller coaster)",
          "Ragin' Cajun (roller coaster)",
          "Revenge of the Mummy",
          "Sand Serpent",
          "Shock Wave (Brean Leisure Park)",
          "Silver Bullet (Knott's Berry Farm)",
          "Spinball Whizzer",
          "Spinning Dragons",
          "Steel Dragon (Waldameer)",
          "Storm Runner",
          "Super Grover's Box Car Derby",
          "Superman El Último Escape",
          "The Gauntlet (roller coaster)",
          "Time Warp (roller coaster)",
          "Tulireki",
          "Typhoon (Bobbejaanland)",
          "WhirlWind (Seabreeze)",
          "Bat (Lagoon)",
          "Bocaraca",
          "Cobra (PowerPark)",
          "Frankie's Mine Train",
          "Hydra the Revenge",
          "Italian Job: Stunt Track (Canada's Wonderland)",
          "Italian Job: Stunt Track (Kings Island)",
          "Kanonen",
          "Kingda Ka",
          "American Dreier Looping",
          "Pandemonium (roller coaster)",
          "Powder Keg: A Blast into the Wilderness",
          "Raging Spirits",
          "Rita (roller coaster)",
          "Sequoia Adventure",
          "SheiKra",
          "Space Mountain: Mission 2",
          "Superman Escape",
          "Wild Mouse (Beech Bend Park)",
          "10 Inversion Roller Coaster",
          "Black Mamba (roller coaster)",
          "Crystal Wing",
          "Eejanaika (roller coaster)",
          "Golden Wings in Snowfield",
          "Goliath (Six Flags Over Georgia)",
          "Goliath (La Ronde)",
          "Grand Exposition Coaster",
          "Italian Job: Turbo Coaster",
          "Jungle Racing",
          "Kumali",
          "Patriot (Worlds of Fun)",
          "Speed Monster",
          "Speed: No Limits",
          "Stealth (roller coaster)",
          "Super Grover's Box Car Derby",
          "Tatsu",
          "X-Coaster",
          "Crush's Coaster",
          "De Vliegende Hollander",
          "Firehawk (roller coaster)",
          "Flying Fish (roller coaster)",
          "Formule X",
          "Furius Baco",
          "Galaxy Orbiter",
          "Griffon (roller coaster)",
          "Hollywood Dream – The Ride",
          "Infusion (roller coaster)",
          "Jimmy Neutron's Atomic Flyer",
          "Journey to Atlantis",
          "Kirnu",
          "Kvasten",
          "Maverick (roller coaster)",
          "Mick Doohan's Motocoaster",
          "American Dreier Looping",
          "Mystery Mine",
          "Pandemonium (roller coaster)",
          "Phaethon (roller coaster)",
          "Rage (roller coaster)",
          "Sierra Sidewinder",
          "Surfrider",
          "Wicked (roller coaster)",
          "Wipeout (roller coaster)",
          "Backlot Stunt Coaster",
          "Behemoth (roller coaster)",
          "Cobra (Tivoli Friheden)",
          "The Dark Knight Coaster",
          "Dive Coaster (Chimelong Paradise)",
          "Dominator (roller coaster)",
          "Dragon's Run",
          "Fahrenheit (roller coaster)",
          "Flight Deck (Kings Island)",
          "Flight of the Hippogriff",
          "Goliath (Six Flags Fiesta Texas)",
          "Jet Rescue",
          "Kawasemi",
          "Mammut (roller coaster)",
          "Moto Coaster (Six Flags Darien Lake)",
          "Muntanya Russa (Tibidabo Amusement Park)",
          "Pandemonium (roller coaster)",
          "Pony Express (roller coaster)",
          "Possessed (roller coaster)",
          "Roller Coaster (Dai Nam Van Hien)",
          "Salama (roller coaster)",
          "SpongeBob SquarePants Rock Bottom Plunge",
          "Steel Hawg",
          "Steel Lasso",
          "Tsunami (roller coaster)",
          "Afterburn (roller coaster)",
          "Blue Fire",
          "The Dark Knight Coaster",
          "Diving Coaster",
          "Escape of Novgorod",
          "Falcon (Duinrell)",
          "Grover's Alpine Express",
          "Hollywood Rip Ride Rockit",
          "Hornet (roller coaster)",
          "Insane (Gröna Lund)",
          "ISpeed",
          "Manta (SeaWorld Orlando)",
          "Mumbo Jumbo (roller coaster)",
          "Saw – The Ride",
          "Superman The Ride",
          "Teststrecke",
          "The Flying Cobras",
          "Tranan",
          "Battlestar Galactica (roller coaster)",
          "Canopy Flyer",
          "Dragon Challenge",
          "Ednör – L'Attaque",
          "Enchanted Airways",
          "Fiorano GT Challenge",
          "Formula Rossa",
          "Huracan (Belantis)",
          "Intimidator (roller coaster)",
          "Intimidator 305",
          "The Monster (Walygator Parc)",
          "Raptor Attack",
          "RC Racer",
          "Revenge of the Mummy",
          "Sky Rocket",
          "Space Fantasy – The Ride",
          "Thirteen (roller coaster)",
          "Accelerator (roller coaster)",
          "Astro Storm",
          "Black Diamond (roller coaster)",
          "BomBora (Lagoon)",
          "BuzzSaw (roller coaster)",
          "Cheetah Hunt",
          "Cosmic Coaster (Valleyfair)",
          "Dare Devil Dive",
          "Eurofighter (Zoosafari Fasanolandia)",
          "Gotham City Gauntlet: Escape from Arkham Asylum",
          "Green Lantern (Six Flags Great Adventure)",
          "Green Lantern Coaster",
          "Hair Raiser",
          "Krake",
          "Lego Technic Test Track",
          "New Texas Giant",
          "Raptor (Gardaland)",
          "RC Racer",
          "Road Runner Express (Six Flags Magic Mountain)",
          "Sky Scrapper",
          "Soarin' Eagle",
          "Takabisha",
          "Tiger Express (roller coaster)",
          "Timber Drop",
          "Untamed (roller coaster)",
          "Van Helsing's Factory",
          "Vipère (roller coaster)",
          "Arkham Asylum – Shock Therapy",
          "The Barnstormer",
          "Big Grizzly Mountain Runaway Mine Cars",
          "Cliffhanger (Colorado roller coaster)",
          "Dinoconda",
          "Dragonfly (roller coaster)",
          "Firebird (roller coaster)",
          "Goliath (Six Flags New England)",
          "Iron Shark",
          "Lego Technic Test Track",
          "Leviathan (Canada's Wonderland)",
          "Manta (SeaWorld San Diego)",
          "OzIris",
          "Polar X-plorer",
          "Skyrush",
          "Superman: Ultimate Flight (Six Flags Discovery Kingdom)",
          "The Swarm (roller coaster)",
          "The Walking Dead: The Ride",
          "Verbolten",
          "Wild Eagle",
          "Wild West Express Coaster",
          "X-Flight (Six Flags Great America)",
          "Abyss (roller coaster)",
          "Boomerang (Six Flags St. Louis)",
          "Coast Rider",
          "Crazy Bird",
          "Deep Space (roller coaster)",
          "Freedom Flyer",
          "Full Throttle (roller coaster)",
          "GateKeeper (roller coaster)",
          "Iron Rattler",
          "The Joker (Six Flags México)",
          "Karacho",
          "Nitro (Imagicaa)",
          "Orkanen",
          "Ring Racer",
          "The Smiler",
          "Smoky Mountain Alpine Coaster",
          "Storm Coaster",
          "Wild Kitty",
          "Alpina Blitz",
          "Arthur – The Ride",
          "Banshee (roller coaster)",
          "The Bat (Kings Island; opened 1993)",
          "Dragon Wagon (Indiana Beach)",
          "Family Inverted Coaster (Happy Valley Shanghai)",
          "FireChaser Express",
          "Flight of the Hippogriff",
          "Flug der Dämonen",
          "Harry Potter and the Escape from Gringotts",
          "Helix (roller coaster)",
          "El Loco (Adventuredome)",
          "Medusa Steel Coaster",
          "Parrot Coaster",
          "Ragin' Cajun (roller coaster)",
          "Scorpion Express",
          "Seven Dwarfs Mine Train",
          "Speed – The Ride",
          "Thunderbird (Holiday World)",
          "Thunderbolt (2014 roller coaster)",
          "Twist Coaster Robin",
          "Wonder Mountain's Guardian",
          "Zimerman (roller coaster)",
          "Acrobat (roller coaster)",
          "Baron 1898",
          "Batman: The Ride (S&S Free Spin)",
          "Cannibal (roller coaster)",
          "Freestyle (roller coaster)",
          "Fury 325",
          "Harpy (Xishuangbanna Theme Park)",
          "Impulse (roller coaster)",
          "Jumbo Jet (Chelyuskintsev Park)",
          "Junker (roller coaster)",
          "Klondike Gold Mine (roller coaster)",
          "Laff Trakk",
          "Oblivion: The Black Hole",
          "Octonauts Rollercoaster Adventure",
          "Puss in Boots' Giant Journey",
          "Rewind Racers",
          "Rougarou (roller coaster)",
          "T3 (roller coaster)",
          "Tempesto",
          "The Oath of Kärnan",
          "Turbulence (roller coaster)",
          "Twisted Colossus",
          "Wicked Cyclone",
          "Cobra's Curse",
          "Flight of the Hippogriff",
          "Flying Aces (roller coaster)",
          "The Flying Dinosaur",
          "Formuła (Energylandia)",
          "Lightning Rod (roller coaster)",
          "Lost Gravity (roller coaster)",
          "Mako (roller coaster)",
          "The Monster (Adventureland)",
          "Pulsar (roller coaster)",
          "Raik",
          "Recoil (Wonderla Hyderabad)",
          "Seven Dwarfs Mine Train",
          "Storm Chaser (roller coaster)",
          "Taron (roller coaster)",
          "The Joker (Six Flags Great Adventure)",
          "Tron Lightcycle Power Run",
          "Valravn (roller coaster)",
          "Dawson Duel (roller coaster)",
          "DC Rivals HyperCoaster",
          "Dragon's Run",
          "Gold Rush (Slagharen)",
          "Hydrus (roller coaster)",
          "Kraken (roller coaster)",
          "Lech Coaster",
          "Patriot (California's Great America)",
          "Pégase Express",
          "Red Force (roller coaster)",
          "Star Trek: Operation Enterprise",
          "Star Wars Hyperspace Mountain",
          "The Joker (Six Flags Great America)",
          "The Joker (Six Flags New England)",
          "The Joker (Six Flags Over Texas)",
          "Wave Breaker: The Rescue Coaster",
          "Adrenaline Peak",
          "Electric Eel (roller coaster)",
          "Fēnix (roller coaster)",
          "HangTime (roller coaster)",
          "Hyperion (roller coaster)",
          "Icon (roller coaster)",
          "Incredicoaster",
          "Merlin's Mayhem",
          "RailBlazer",
          "RC Racer",
          "Slinky Dog Dash",
          "Steel Vengeance",
          "Tantrum (roller coaster)",
          "Tiki-Waka (roller coaster)",
          "Time Traveler (roller coaster)",
          "Twisted Cyclone",
          "Twisted Timbers",
          "Valkyria (roller coaster)",
          "Wonder Woman Coaster",
          "Wonder Woman Golden Lasso Coaster",
          "Batman: The Ride (S&S Free Spin)",
          "Copperhead Strike",
          "Desmo Race",
          "Dragonflier",
          "Dynamite (Freizeitpark Plohn)",
          "Eurostar (roller coaster)",
          "Firebird (roller coaster)",
          "Frankie's Mine Train",
          "Fury (roller coaster)",
          "Hagrid's Magical Creatures Motorbike Adventure",
          "Hakugei (roller coaster)",
          "Maxx Force",
          "Mystic (roller coaster)",
          "Nickelodeon Slime Streak",
          "Panic Coaster – Back Daaan",
          "Runaway Tram",
          "Steel Curtain (roller coaster)",
          "Super Grover's Box Car Derby",
          "Taiga (roller coaster)",
          "Tigris (roller coaster)",
          "TMNT Shellraiser",
          "Untamed (Walibi Holland)",
          "Yukon Striker",
          "Candymonium",
          "F.L.Y. (roller coaster)",
          "Max & Moritz (roller coaster)",
          "Objectif Mars",
          "Orion (roller coaster)",
          "Pitts Special (roller coaster)",
          "Sandy's Blasting Bronco",
          "Wakala (roller coaster)",
          "West Coast Racers",
          "Abyssus",
          "Dragon Slayer (roller coaster)",
          "Flight of the Hippogriff",
          "Jersey Devil Coaster",
          "Kondaa",
          "Krampus Expédition",
          "Lil' Devil Coaster",
          "Little Dipper (Conneaut Lake Park)",
          "Looping Star (Clacton Pier)",
          "Monster (Gröna Lund)",
          "Steel Taipan",
          "Storm Chaser (Paultons Park)",
          "Stunt Pilot (roller coaster)",
          "The Ride to Happiness",
          "VelociCoaster",
          "Aquaman: Power Wave",
          "ArieForce One",
          "Defiance (roller coaster)",
          "Dr. Diabolical’s Cliffhanger",
          "Emperor (roller coaster)",
          "Fønix (roller coaster)",
          "Guardians of the Galaxy: Cosmic Rewind",
          "Ice Breaker (roller coaster)",
          "Iron Gwazi",
          "American Dreier Looping",
          "Pantheon (roller coaster)",
          "Tron Lightcycle Power Run",
          "Tumbili",
          "Wonder Woman Flight of Courage"
         ],
         "lat": {
          "bdata": "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",
          "dtype": "f8"
         },
         "legendgroup": "Steel",
         "lon": {
          "bdata": "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",
          "dtype": "f8"
         },
         "marker": {
          "color": "#00cc96",
          "line": {
           "color": "white",
           "width": 0.5
          },
          "opacity": 0.7,
          "size": 6,
          "symbol": "circle"
         },
         "mode": "markers",
         "name": "Steel",
         "showlegend": true,
         "type": "scattergeo"
        }
       ],
       "layout": {
        "geo": {
         "center": {},
         "countrycolor": "white",
         "domain": {
          "x": [
           0,
           1
          ],
          "y": [
           0,
           1
          ]
         },
         "landcolor": "lightgray",
         "oceancolor": "lightblue",
         "projection": {
          "type": "natural earth"
         },
         "showcountries": true,
         "showland": true,
         "showocean": true
        },
        "legend": {
         "title": {
          "text": "Coaster Type"
         },
         "tracegroupgap": 0
        },
        "template": {
         "data": {
          "bar": [
           {
            "error_x": {
             "color": "#2a3f5f"
            },
            "error_y": {
             "color": "#2a3f5f"
            },
            "marker": {
             "line": {
              "color": "white",
              "width": 0.5
             },
             "pattern": {
              "fillmode": "overlay",
              "size": 10,
              "solidity": 0.2
             }
            },
            "type": "bar"
           }
          ],
          "barpolar": [
           {
            "marker": {
             "line": {
              "color": "white",
              "width": 0.5
             },
             "pattern": {
              "fillmode": "overlay",
              "size": 10,
              "solidity": 0.2
             }
            },
            "type": "barpolar"
           }
          ],
          "carpet": [
           {
            "aaxis": {
             "endlinecolor": "#2a3f5f",
             "gridcolor": "#C8D4E3",
             "linecolor": "#C8D4E3",
             "minorgridcolor": "#C8D4E3",
             "startlinecolor": "#2a3f5f"
            },
            "baxis": {
             "endlinecolor": "#2a3f5f",
             "gridcolor": "#C8D4E3",
             "linecolor": "#C8D4E3",
             "minorgridcolor": "#C8D4E3",
             "startlinecolor": "#2a3f5f"
            },
            "type": "carpet"
           }
          ],
          "choropleth": [
           {
            "colorbar": {
             "outlinewidth": 0,
             "ticks": ""
            },
            "type": "choropleth"
           }
          ],
          "contour": [
           {
            "colorbar": {
             "outlinewidth": 0,
             "ticks": ""
            },
            "colorscale": [
             [
              0,
              "#0d0887"
             ],
             [
              0.1111111111111111,
              "#46039f"
             ],
             [
              0.2222222222222222,
              "#7201a8"
             ],
             [
              0.3333333333333333,
              "#9c179e"
             ],
             [
              0.4444444444444444,
              "#bd3786"
             ],
             [
              0.5555555555555556,
              "#d8576b"
             ],
             [
              0.6666666666666666,
              "#ed7953"
             ],
             [
              0.7777777777777778,
              "#fb9f3a"
             ],
             [
              0.8888888888888888,
              "#fdca26"
             ],
             [
              1,
              "#f0f921"
             ]
            ],
            "type": "contour"
           }
          ],
          "contourcarpet": [
           {
            "colorbar": {
             "outlinewidth": 0,
             "ticks": ""
            },
            "type": "contourcarpet"
           }
          ],
          "heatmap": [
           {
            "colorbar": {
             "outlinewidth": 0,
             "ticks": ""
            },
            "colorscale": [
             [
              0,
              "#0d0887"
             ],
             [
              0.1111111111111111,
              "#46039f"
             ],
             [
              0.2222222222222222,
              "#7201a8"
             ],
             [
              0.3333333333333333,
              "#9c179e"
             ],
             [
              0.4444444444444444,
              "#bd3786"
             ],
             [
              0.5555555555555556,
              "#d8576b"
             ],
             [
              0.6666666666666666,
              "#ed7953"
             ],
             [
              0.7777777777777778,
              "#fb9f3a"
             ],
             [
              0.8888888888888888,
              "#fdca26"
             ],
             [
              1,
              "#f0f921"
             ]
            ],
            "type": "heatmap"
           }
          ],
          "histogram": [
           {
            "marker": {
             "pattern": {
              "fillmode": "overlay",
              "size": 10,
              "solidity": 0.2
             }
            },
            "type": "histogram"
           }
          ],
          "histogram2d": [
           {
            "colorbar": {
             "outlinewidth": 0,
             "ticks": ""
            },
            "colorscale": [
             [
              0,
              "#0d0887"
             ],
             [
              0.1111111111111111,
              "#46039f"
             ],
             [
              0.2222222222222222,
              "#7201a8"
             ],
             [
              0.3333333333333333,
              "#9c179e"
             ],
             [
              0.4444444444444444,
              "#bd3786"
             ],
             [
              0.5555555555555556,
              "#d8576b"
             ],
             [
              0.6666666666666666,
              "#ed7953"
             ],
             [
              0.7777777777777778,
              "#fb9f3a"
             ],
             [
              0.8888888888888888,
              "#fdca26"
             ],
             [
              1,
              "#f0f921"
             ]
            ],
            "type": "histogram2d"
           }
          ],
          "histogram2dcontour": [
           {
            "colorbar": {
             "outlinewidth": 0,
             "ticks": ""
            },
            "colorscale": [
             [
              0,
              "#0d0887"
             ],
             [
              0.1111111111111111,
              "#46039f"
             ],
             [
              0.2222222222222222,
              "#7201a8"
             ],
             [
              0.3333333333333333,
              "#9c179e"
             ],
             [
              0.4444444444444444,
              "#bd3786"
             ],
             [
              0.5555555555555556,
              "#d8576b"
             ],
             [
              0.6666666666666666,
              "#ed7953"
             ],
             [
              0.7777777777777778,
              "#fb9f3a"
             ],
             [
              0.8888888888888888,
              "#fdca26"
             ],
             [
              1,
              "#f0f921"
             ]
            ],
            "type": "histogram2dcontour"
           }
          ],
          "mesh3d": [
           {
            "colorbar": {
             "outlinewidth": 0,
             "ticks": ""
            },
            "type": "mesh3d"
           }
          ],
          "parcoords": [
           {
            "line": {
             "colorbar": {
              "outlinewidth": 0,
              "ticks": ""
             }
            },
            "type": "parcoords"
           }
          ],
          "pie": [
           {
            "automargin": true,
            "type": "pie"
           }
          ],
          "scatter": [
           {
            "fillpattern": {
             "fillmode": "overlay",
             "size": 10,
             "solidity": 0.2
            },
            "type": "scatter"
           }
          ],
          "scatter3d": [
           {
            "line": {
             "colorbar": {
              "outlinewidth": 0,
              "ticks": ""
             }
            },
            "marker": {
             "colorbar": {
              "outlinewidth": 0,
              "ticks": ""
             }
            },
            "type": "scatter3d"
           }
          ],
          "scattercarpet": [
           {
            "marker": {
             "colorbar": {
              "outlinewidth": 0,
              "ticks": ""
             }
            },
            "type": "scattercarpet"
           }
          ],
          "scattergeo": [
           {
            "marker": {
             "colorbar": {
              "outlinewidth": 0,
              "ticks": ""
             }
            },
            "type": "scattergeo"
           }
          ],
          "scattergl": [
           {
            "marker": {
             "colorbar": {
              "outlinewidth": 0,
              "ticks": ""
             }
            },
            "type": "scattergl"
           }
          ],
          "scattermap": [
           {
            "marker": {
             "colorbar": {
              "outlinewidth": 0,
              "ticks": ""
             }
            },
            "type": "scattermap"
           }
          ],
          "scattermapbox": [
           {
            "marker": {
             "colorbar": {
              "outlinewidth": 0,
              "ticks": ""
             }
            },
            "type": "scattermapbox"
           }
          ],
          "scatterpolar": [
           {
            "marker": {
             "colorbar": {
              "outlinewidth": 0,
              "ticks": ""
             }
            },
            "type": "scatterpolar"
           }
          ],
          "scatterpolargl": [
           {
            "marker": {
             "colorbar": {
              "outlinewidth": 0,
              "ticks": ""
             }
            },
            "type": "scatterpolargl"
           }
          ],
          "scatterternary": [
           {
            "marker": {
             "colorbar": {
              "outlinewidth": 0,
              "ticks": ""
             }
            },
            "type": "scatterternary"
           }
          ],
          "surface": [
           {
            "colorbar": {
             "outlinewidth": 0,
             "ticks": ""
            },
            "colorscale": [
             [
              0,
              "#0d0887"
             ],
             [
              0.1111111111111111,
              "#46039f"
             ],
             [
              0.2222222222222222,
              "#7201a8"
             ],
             [
              0.3333333333333333,
              "#9c179e"
             ],
             [
              0.4444444444444444,
              "#bd3786"
             ],
             [
              0.5555555555555556,
              "#d8576b"
             ],
             [
              0.6666666666666666,
              "#ed7953"
             ],
             [
              0.7777777777777778,
              "#fb9f3a"
             ],
             [
              0.8888888888888888,
              "#fdca26"
             ],
             [
              1,
              "#f0f921"
             ]
            ],
            "type": "surface"
           }
          ],
          "table": [
           {
            "cells": {
             "fill": {
              "color": "#EBF0F8"
             },
             "line": {
              "color": "white"
             }
            },
            "header": {
             "fill": {
              "color": "#C8D4E3"
             },
             "line": {
              "color": "white"
             }
            },
            "type": "table"
           }
          ]
         },
         "layout": {
          "annotationdefaults": {
           "arrowcolor": "#2a3f5f",
           "arrowhead": 0,
           "arrowwidth": 1
          },
          "autotypenumbers": "strict",
          "coloraxis": {
           "colorbar": {
            "outlinewidth": 0,
            "ticks": ""
           }
          },
          "colorscale": {
           "diverging": [
            [
             0,
             "#8e0152"
            ],
            [
             0.1,
             "#c51b7d"
            ],
            [
             0.2,
             "#de77ae"
            ],
            [
             0.3,
             "#f1b6da"
            ],
            [
             0.4,
             "#fde0ef"
            ],
            [
             0.5,
             "#f7f7f7"
            ],
            [
             0.6,
             "#e6f5d0"
            ],
            [
             0.7,
             "#b8e186"
            ],
            [
             0.8,
             "#7fbc41"
            ],
            [
             0.9,
             "#4d9221"
            ],
            [
             1,
             "#276419"
            ]
           ],
           "sequential": [
            [
             0,
             "#0d0887"
            ],
            [
             0.1111111111111111,
             "#46039f"
            ],
            [
             0.2222222222222222,
             "#7201a8"
            ],
            [
             0.3333333333333333,
             "#9c179e"
            ],
            [
             0.4444444444444444,
             "#bd3786"
            ],
            [
             0.5555555555555556,
             "#d8576b"
            ],
            [
             0.6666666666666666,
             "#ed7953"
            ],
            [
             0.7777777777777778,
             "#fb9f3a"
            ],
            [
             0.8888888888888888,
             "#fdca26"
            ],
            [
             1,
             "#f0f921"
            ]
           ],
           "sequentialminus": [
            [
             0,
             "#0d0887"
            ],
            [
             0.1111111111111111,
             "#46039f"
            ],
            [
             0.2222222222222222,
             "#7201a8"
            ],
            [
             0.3333333333333333,
             "#9c179e"
            ],
            [
             0.4444444444444444,
             "#bd3786"
            ],
            [
             0.5555555555555556,
             "#d8576b"
            ],
            [
             0.6666666666666666,
             "#ed7953"
            ],
            [
             0.7777777777777778,
             "#fb9f3a"
            ],
            [
             0.8888888888888888,
             "#fdca26"
            ],
            [
             1,
             "#f0f921"
            ]
           ]
          },
          "colorway": [
           "#636efa",
           "#EF553B",
           "#00cc96",
           "#ab63fa",
           "#FFA15A",
           "#19d3f3",
           "#FF6692",
           "#B6E880",
           "#FF97FF",
           "#FECB52"
          ],
          "font": {
           "color": "#2a3f5f"
          },
          "geo": {
           "bgcolor": "white",
           "lakecolor": "white",
           "landcolor": "white",
           "showlakes": true,
           "showland": true,
           "subunitcolor": "#C8D4E3"
          },
          "hoverlabel": {
           "align": "left"
          },
          "hovermode": "closest",
          "mapbox": {
           "style": "light"
          },
          "paper_bgcolor": "white",
          "plot_bgcolor": "white",
          "polar": {
           "angularaxis": {
            "gridcolor": "#EBF0F8",
            "linecolor": "#EBF0F8",
            "ticks": ""
           },
           "bgcolor": "white",
           "radialaxis": {
            "gridcolor": "#EBF0F8",
            "linecolor": "#EBF0F8",
            "ticks": ""
           }
          },
          "scene": {
           "xaxis": {
            "backgroundcolor": "white",
            "gridcolor": "#DFE8F3",
            "gridwidth": 2,
            "linecolor": "#EBF0F8",
            "showbackground": true,
            "ticks": "",
            "zerolinecolor": "#EBF0F8"
           },
           "yaxis": {
            "backgroundcolor": "white",
            "gridcolor": "#DFE8F3",
            "gridwidth": 2,
            "linecolor": "#EBF0F8",
            "showbackground": true,
            "ticks": "",
            "zerolinecolor": "#EBF0F8"
           },
           "zaxis": {
            "backgroundcolor": "white",
            "gridcolor": "#DFE8F3",
            "gridwidth": 2,
            "linecolor": "#EBF0F8",
            "showbackground": true,
            "ticks": "",
            "zerolinecolor": "#EBF0F8"
           }
          },
          "shapedefaults": {
           "line": {
            "color": "#2a3f5f"
           }
          },
          "ternary": {
           "aaxis": {
            "gridcolor": "#DFE8F3",
            "linecolor": "#A2B1C6",
            "ticks": ""
           },
           "baxis": {
            "gridcolor": "#DFE8F3",
            "linecolor": "#A2B1C6",
            "ticks": ""
           },
           "bgcolor": "white",
           "caxis": {
            "gridcolor": "#DFE8F3",
            "linecolor": "#A2B1C6",
            "ticks": ""
           }
          },
          "title": {
           "x": 0.05
          },
          "xaxis": {
           "automargin": true,
           "gridcolor": "#EBF0F8",
           "linecolor": "#EBF0F8",
           "ticks": "",
           "title": {
            "standoff": 15
           },
           "zerolinecolor": "#EBF0F8",
           "zerolinewidth": 2
          },
          "yaxis": {
           "automargin": true,
           "gridcolor": "#EBF0F8",
           "linecolor": "#EBF0F8",
           "ticks": "",
           "title": {
            "standoff": 15
           },
           "zerolinecolor": "#EBF0F8",
           "zerolinewidth": 2
          }
         }
        },
        "title": {
         "text": "🎢 Roller Coasters Around the World by Type",
         "x": 0.5
        }
       }
      }
     },
     "metadata": {},
     "output_type": "display_data"
    }
   ],
   "source": [
    "# Improve marker styling\n",
    "fig.update_traces(marker=dict(size=6, opacity=0.7, line=dict(width=0.5, color=\"white\")))\n",
    "\n",
    "# Improve layout\n",
    "fig.update_layout(\n",
    "    legend_title=\"Coaster Type\",\n",
    "    geo=dict(\n",
    "        showland=True,\n",
    "        landcolor=\"lightgray\",\n",
    "        showcountries=True,\n",
    "        countrycolor=\"white\",\n",
    "        showocean=True,\n",
    "        oceancolor=\"lightblue\",\n",
    "    ),\n",
    "    title_x=0.5,  # center the title\n",
    ")"
   ]
  },
  {
   "cell_type": "code",
   "execution_count": null,
   "id": "d9ccb650",
   "metadata": {},
   "outputs": [],
   "source": []
  },
  {
   "cell_type": "code",
   "execution_count": null,
   "id": "4a5f6635",
   "metadata": {},
   "outputs": [],
   "source": []
  },
  {
   "cell_type": "code",
   "execution_count": null,
   "id": "51f157a1",
   "metadata": {},
   "outputs": [],
   "source": []
  },
  {
   "cell_type": "code",
   "execution_count": null,
   "id": "ac2985a4",
   "metadata": {},
   "outputs": [],
   "source": []
  },
  {
   "cell_type": "code",
   "execution_count": null,
   "id": "a4239a94",
   "metadata": {},
   "outputs": [],
   "source": []
  },
  {
   "cell_type": "code",
   "execution_count": null,
   "id": "1665f045",
   "metadata": {},
   "outputs": [],
   "source": []
  },
  {
   "cell_type": "code",
   "execution_count": null,
   "id": "f4d416dc",
   "metadata": {},
   "outputs": [],
   "source": []
  }
 ],
 "metadata": {
  "kernelspec": {
   "display_name": "base",
   "language": "python",
   "name": "python3"
  },
  "language_info": {
   "codemirror_mode": {
    "name": "ipython",
    "version": 3
   },
   "file_extension": ".py",
   "mimetype": "text/x-python",
   "name": "python",
   "nbconvert_exporter": "python",
   "pygments_lexer": "ipython3",
   "version": "3.12.11"
  }
 },
 "nbformat": 4,
 "nbformat_minor": 5
}
