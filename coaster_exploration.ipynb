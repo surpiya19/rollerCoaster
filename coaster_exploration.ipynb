{
 "cells": [
  {
   "cell_type": "markdown",
   "id": "6644485f",
   "metadata": {},
   "source": [
    "### Step 0: Imports and Reading Data"
   ]
  },
  {
   "cell_type": "code",
   "execution_count": 43,
   "id": "417a7f0c",
   "metadata": {},
   "outputs": [
    {
     "data": {
      "text/plain": [
       "polars.config.Config"
      ]
     },
     "execution_count": 43,
     "metadata": {},
     "output_type": "execute_result"
    }
   ],
   "source": [
    "import polars as pl\n",
    "import matplotlib.pyplot as plt\n",
    "import seaborn as sns\n",
    "import plotly.express as px\n",
    "import numpy as np\n",
    "\n",
    "pl.Config.set_tbl_cols(200)\n",
    "# pl.Config.set_tbl_rows(-1)"
   ]
  },
  {
   "cell_type": "code",
   "execution_count": 3,
   "id": "dd2826d3",
   "metadata": {},
   "outputs": [],
   "source": [
    "df = pl.read_csv(\"coaster_db.csv\")"
   ]
  },
  {
   "cell_type": "markdown",
   "id": "eeeebd94",
   "metadata": {},
   "source": [
    "### Step 1: Data Understanding\n",
    "* Dataframe shape\n",
    "* *head* and *tail* \n",
    "* dtypes, columns\n",
    "* describe"
   ]
  },
  {
   "cell_type": "code",
   "execution_count": 4,
   "id": "dd283091",
   "metadata": {},
   "outputs": [
    {
     "data": {
      "text/plain": [
       "(1087, 56)"
      ]
     },
     "execution_count": 4,
     "metadata": {},
     "output_type": "execute_result"
    }
   ],
   "source": [
    "df.shape"
   ]
  },
  {
   "cell_type": "code",
   "execution_count": null,
   "id": "6d4670af",
   "metadata": {},
   "outputs": [],
   "source": [
    "df.head(5)"
   ]
  },
  {
   "cell_type": "code",
   "execution_count": null,
   "id": "101c77dc",
   "metadata": {},
   "outputs": [],
   "source": [
    "df.schema"
   ]
  },
  {
   "cell_type": "code",
   "execution_count": 6,
   "id": "4a925859",
   "metadata": {},
   "outputs": [
    {
     "name": "stdout",
     "output_type": "stream",
     "text": [
      "coaster_name, Length, Speed, Location, Status, Opening date, Type, Manufacturer, Height restriction, Model, Height, Inversions, Lift/launch system, Cost, Trains, Park section, Duration, Capacity, G-force, Designer, Max vertical angle, Drop, Soft opening date, Fast Lane available, Replaced, Track layout, Fastrack available, Soft opening date.1, Closing date, Opened, Replaced by, Website, Flash Pass Available, Must transfer from wheelchair, Theme, Single rider line available, Restraint Style, Flash Pass available, Acceleration, Restraints, Name, year_introduced, latitude, longitude, Type_Main, opening_date_clean, speed1, speed2, speed1_value, speed1_unit, speed_mph, height_value, height_unit, height_ft, Inversions_clean, Gforce_clean\n"
     ]
    }
   ],
   "source": [
    "print(\", \".join(df.columns))"
   ]
  },
  {
   "cell_type": "code",
   "execution_count": null,
   "id": "bcad4ee5",
   "metadata": {},
   "outputs": [],
   "source": [
    "pl.DataFrame({\"column\": df.columns, \"dtype\": df.dtypes})"
   ]
  },
  {
   "cell_type": "code",
   "execution_count": null,
   "id": "61346b71",
   "metadata": {},
   "outputs": [],
   "source": [
    "df.describe()"
   ]
  },
  {
   "cell_type": "markdown",
   "id": "bfcd8290",
   "metadata": {},
   "source": [
    "### Step 2: Data Preperation\n",
    "* Dropping irrelevant columns and rows\n",
    "* Identifying duplicated columns\n",
    "* Renaming Columns"
   ]
  },
  {
   "cell_type": "code",
   "execution_count": null,
   "id": "4a5f6635",
   "metadata": {},
   "outputs": [],
   "source": [
    "# Filtering out columns that won't be used in the analysis\n",
    "coaster = df[\n",
    "    [\n",
    "        \"coaster_name\",\n",
    "        # 'Length', 'Speed',\n",
    "        \"Location\",\n",
    "        \"Status\",\n",
    "        # 'Opening date',\n",
    "        #   'Type',\n",
    "        \"Manufacturer\",\n",
    "        #        'Inversions', 'G-force', # Using the clean data columns for these\n",
    "        \"year_introduced\",\n",
    "        \"latitude\",\n",
    "        \"longitude\",\n",
    "        \"Type_Main\",\n",
    "        \"opening_date_clean\",\n",
    "        #'speed1', 'speed2', 'speed1_value', 'speed1_unit', --- taken out due to the main speed_mph column (repetitive information)\n",
    "        \"speed_mph\",\n",
    "        #'height_value', 'height_unit', --- taken out due to the main height_ft column (repetitive information)\n",
    "        \"height_ft\",\n",
    "        \"Inversions_clean\",\n",
    "        \"Gforce_clean\",\n",
    "    ]\n",
    "].clone()"
   ]
  },
  {
   "cell_type": "code",
   "execution_count": null,
   "id": "51f157a1",
   "metadata": {},
   "outputs": [],
   "source": [
    "# Changing the opening date data type to -- datetime\n",
    "coaster = coaster.with_columns(\n",
    "    pl.col(\"opening_date_clean\")\n",
    "    .str.to_datetime(strict=False)  # parse to datetime\n",
    "    .dt.date()  # keep only the date part\n",
    "    .alias(\"opening_date_clean\")\n",
    ")"
   ]
  },
  {
   "cell_type": "code",
   "execution_count": null,
   "id": "73f03540",
   "metadata": {},
   "outputs": [],
   "source": [
    "# Renaming all the columns for consistency\n",
    "coaster = coaster.rename(\n",
    "    {\n",
    "        \"coaster_name\": \"Coaster_Name\",\n",
    "        \"year_introduced\": \"Year_Introduced\",\n",
    "        \"opening_date_clean\": \"Opening_Date\",\n",
    "        \"speed_mph\": \"Speed_mph\",\n",
    "        \"height_ft\": \"Height_ft\",\n",
    "        \"Inversions_clean\": \"Inversions\",\n",
    "        \"Gforce_clean\": \"Gforce\",\n",
    "    }\n",
    ")"
   ]
  },
  {
   "cell_type": "code",
   "execution_count": null,
   "id": "a4239a94",
   "metadata": {},
   "outputs": [
    {
     "data": {
      "text/html": [
       "<div><style>\n",
       ".dataframe > thead > tr,\n",
       ".dataframe > tbody > tr {\n",
       "  text-align: right;\n",
       "  white-space: pre-wrap;\n",
       "}\n",
       "</style>\n",
       "<small>shape: (1, 13)</small><table border=\"1\" class=\"dataframe\"><thead><tr><th>Coaster_Name</th><th>Location</th><th>Status</th><th>Manufacturer</th><th>Year_Introduced</th><th>latitude</th><th>longitude</th><th>Type_Main</th><th>Opening_Date</th><th>Speed_mph</th><th>Height_ft</th><th>Inversions</th><th>Gforce</th></tr><tr><td>u32</td><td>u32</td><td>u32</td><td>u32</td><td>u32</td><td>u32</td><td>u32</td><td>u32</td><td>u32</td><td>u32</td><td>u32</td><td>u32</td><td>u32</td></tr></thead><tbody><tr><td>0</td><td>0</td><td>213</td><td>59</td><td>0</td><td>275</td><td>275</td><td>0</td><td>250</td><td>150</td><td>916</td><td>0</td><td>725</td></tr></tbody></table></div>"
      ],
      "text/plain": [
       "shape: (1, 13)\n",
       "┌─────┬─────┬─────┬────────┬───────┬───────┬───────┬───────┬───────┬───────┬───────┬───────┬───────┐\n",
       "│ Coa ┆ Loc ┆ Sta ┆ Manufa ┆ Year_ ┆ latit ┆ longi ┆ Type_ ┆ Openi ┆ Speed ┆ Heigh ┆ Inver ┆ Gforc │\n",
       "│ ste ┆ ati ┆ tus ┆ cturer ┆ Intro ┆ ude   ┆ tude  ┆ Main  ┆ ng_Da ┆ _mph  ┆ t_ft  ┆ sions ┆ e     │\n",
       "│ r_N ┆ on  ┆ --- ┆ ---    ┆ duced ┆ ---   ┆ ---   ┆ ---   ┆ te    ┆ ---   ┆ ---   ┆ ---   ┆ ---   │\n",
       "│ ame ┆ --- ┆ u32 ┆ u32    ┆ ---   ┆ u32   ┆ u32   ┆ u32   ┆ ---   ┆ u32   ┆ u32   ┆ u32   ┆ u32   │\n",
       "│ --- ┆ u32 ┆     ┆        ┆ u32   ┆       ┆       ┆       ┆ u32   ┆       ┆       ┆       ┆       │\n",
       "│ u32 ┆     ┆     ┆        ┆       ┆       ┆       ┆       ┆       ┆       ┆       ┆       ┆       │\n",
       "╞═════╪═════╪═════╪════════╪═══════╪═══════╪═══════╪═══════╪═══════╪═══════╪═══════╪═══════╪═══════╡\n",
       "│ 0   ┆ 0   ┆ 213 ┆ 59     ┆ 0     ┆ 275   ┆ 275   ┆ 0     ┆ 250   ┆ 150   ┆ 916   ┆ 0     ┆ 725   │\n",
       "└─────┴─────┴─────┴────────┴───────┴───────┴───────┴───────┴───────┴───────┴───────┴───────┴───────┘"
      ]
     },
     "execution_count": 19,
     "metadata": {},
     "output_type": "execute_result"
    }
   ],
   "source": [
    "# Counting nulls per column\n",
    "coaster.select([pl.col(col).is_null().sum().alias(col) for col in coaster.columns])"
   ]
  },
  {
   "cell_type": "code",
   "execution_count": null,
   "id": "1665f045",
   "metadata": {},
   "outputs": [
    {
     "data": {
      "text/html": [
       "<div><style>\n",
       ".dataframe > thead > tr,\n",
       ".dataframe > tbody > tr {\n",
       "  text-align: right;\n",
       "  white-space: pre-wrap;\n",
       "}\n",
       "</style>\n",
       "<small>shape: (0, 13)</small><table border=\"1\" class=\"dataframe\"><thead><tr><th>Coaster_Name</th><th>Location</th><th>Status</th><th>Manufacturer</th><th>Year_Introduced</th><th>latitude</th><th>longitude</th><th>Type_Main</th><th>Opening_Date</th><th>Speed_mph</th><th>Height_ft</th><th>Inversions</th><th>Gforce</th></tr><tr><td>str</td><td>str</td><td>str</td><td>str</td><td>i64</td><td>f64</td><td>f64</td><td>str</td><td>date</td><td>f64</td><td>f64</td><td>i64</td><td>f64</td></tr></thead><tbody></tbody></table></div>"
      ],
      "text/plain": [
       "shape: (0, 13)\n",
       "┌─────┬─────┬─────┬────────┬───────┬───────┬───────┬───────┬───────┬───────┬───────┬───────┬───────┐\n",
       "│ Coa ┆ Loc ┆ Sta ┆ Manufa ┆ Year_ ┆ latit ┆ longi ┆ Type_ ┆ Openi ┆ Speed ┆ Heigh ┆ Inver ┆ Gforc │\n",
       "│ ste ┆ ati ┆ tus ┆ cturer ┆ Intro ┆ ude   ┆ tude  ┆ Main  ┆ ng_Da ┆ _mph  ┆ t_ft  ┆ sions ┆ e     │\n",
       "│ r_N ┆ on  ┆ --- ┆ ---    ┆ duced ┆ ---   ┆ ---   ┆ ---   ┆ te    ┆ ---   ┆ ---   ┆ ---   ┆ ---   │\n",
       "│ ame ┆ --- ┆ str ┆ str    ┆ ---   ┆ f64   ┆ f64   ┆ str   ┆ ---   ┆ f64   ┆ f64   ┆ i64   ┆ f64   │\n",
       "│ --- ┆ str ┆     ┆        ┆ i64   ┆       ┆       ┆       ┆ date  ┆       ┆       ┆       ┆       │\n",
       "│ str ┆     ┆     ┆        ┆       ┆       ┆       ┆       ┆       ┆       ┆       ┆       ┆       │\n",
       "╞═════╪═════╪═════╪════════╪═══════╪═══════╪═══════╪═══════╪═══════╪═══════╪═══════╪═══════╪═══════╡\n",
       "└─────┴─────┴─────┴────────┴───────┴───────┴───────┴───────┴───────┴───────┴───────┴───────┴───────┘"
      ]
     },
     "execution_count": 20,
     "metadata": {},
     "output_type": "execute_result"
    }
   ],
   "source": [
    "# Finding duplicated rows (entire row)\n",
    "coaster.filter(coaster.is_duplicated())"
   ]
  },
  {
   "cell_type": "code",
   "execution_count": null,
   "id": "f4d416dc",
   "metadata": {},
   "outputs": [],
   "source": [
    "# Finding duplicated rows based on \"Coaster_Name\" and show first 5\n",
    "coaster.filter(coaster.select(pl.col(\"Coaster_Name\")).is_duplicated())"
   ]
  },
  {
   "cell_type": "code",
   "execution_count": null,
   "id": "31cd3276",
   "metadata": {},
   "outputs": [],
   "source": [
    "# Query for a specific roller coaster\n",
    "coaster.filter(pl.col(\"Coaster_Name\") == \"Crystal Beach Cyclone\")"
   ]
  },
  {
   "cell_type": "code",
   "execution_count": null,
   "id": "96a3598f",
   "metadata": {},
   "outputs": [],
   "source": [
    "# Drop duplicates based on multiple columns\n",
    "coaster = coaster.unique(subset=[\"Coaster_Name\", \"Location\", \"Opening_Date\"])"
   ]
  },
  {
   "cell_type": "markdown",
   "id": "22435b15",
   "metadata": {},
   "source": [
    "### Step 3: Filtering and Grouping\n",
    "* Dropping irrelevant columns and rows\n",
    "* Identifying duplicated columns\n",
    "* Renaming Columns"
   ]
  },
  {
   "cell_type": "code",
   "execution_count": null,
   "id": "1f1acb3d",
   "metadata": {},
   "outputs": [],
   "source": [
    "# Value counts of \"Year_Introduced\"\n",
    "coaster.group_by(\"Year_Introduced\").agg(pl.len()).sort(\"len\")"
   ]
  },
  {
   "cell_type": "code",
   "execution_count": 42,
   "id": "a946d410",
   "metadata": {},
   "outputs": [
    {
     "data": {
      "image/png": "[encoded data removed]",
      "text/plain": [
       "<Figure size 1000x600 with 1 Axes>"
      ]
     },
     "metadata": {},
     "output_type": "display_data"
    }
   ],
   "source": [
    "# Drop nulls and convert to numpy\n",
    "speed_data = coaster.select(\"Speed_mph\").drop_nulls().to_numpy().flatten()\n",
    "\n",
    "# Summary stats\n",
    "mean_speed = speed_data.mean()\n",
    "median_speed = np.median(speed_data)\n",
    "std_speed = speed_data.std()\n",
    "\n",
    "# Plot\n",
    "plt.figure(figsize=(10, 6))\n",
    "plt.hist(speed_data, bins=25, color=\"steelblue\", edgecolor=\"black\", alpha=0.7)\n",
    "\n",
    "# Add vertical lines for mean & median\n",
    "plt.axvline(\n",
    "    mean_speed,\n",
    "    color=\"red\",\n",
    "    linestyle=\"dashed\",\n",
    "    linewidth=2,\n",
    "    label=f\"Mean = {mean_speed:.2f}\",\n",
    ")\n",
    "plt.axvline(\n",
    "    median_speed,\n",
    "    color=\"green\",\n",
    "    linestyle=\"dashed\",\n",
    "    linewidth=2,\n",
    "    label=f\"Median = {median_speed:.2f}\",\n",
    ")\n",
    "\n",
    "# Add annotation box with summary stats\n",
    "textstr = (\n",
    "    f\"Mean: {mean_speed:.2f}\\n\"\n",
    "    f\"Median: {median_speed:.2f}\\n\"\n",
    "    f\"Std Dev: {std_speed:.2f}\\n\"\n",
    "    f\"Count: {len(speed_data)}\"\n",
    ")\n",
    "\n",
    "props = dict(boxstyle=\"round\", facecolor=\"white\", alpha=0.8)\n",
    "plt.gca().text(\n",
    "    0.70,\n",
    "    0.95,\n",
    "    textstr,\n",
    "    transform=plt.gca().transAxes,\n",
    "    fontsize=10,\n",
    "    verticalalignment=\"top\",\n",
    "    bbox=props,\n",
    ")\n",
    "\n",
    "# Titles and labels\n",
    "plt.title(\"Distribution of Roller Coaster Speeds\", fontsize=14, weight=\"bold\")\n",
    "plt.xlabel(\"Speed (mph)\", fontsize=12)\n",
    "plt.ylabel(\"Number of Coasters\", fontsize=12)\n",
    "plt.legend()\n",
    "\n",
    "plt.show()"
   ]
  },
  {
   "cell_type": "code",
   "execution_count": 39,
   "id": "ee63aacb",
   "metadata": {},
   "outputs": [
    {
     "data": {
      "text/html": [
       "<div><style>\n",
       ".dataframe > thead > tr,\n",
       ".dataframe > tbody > tr {\n",
       "  text-align: right;\n",
       "  white-space: pre-wrap;\n",
       "}\n",
       "</style>\n",
       "<small>shape: (25, 13)</small><table border=\"1\" class=\"dataframe\"><thead><tr><th>Coaster_Name</th><th>Location</th><th>Status</th><th>Manufacturer</th><th>Year_Introduced</th><th>latitude</th><th>longitude</th><th>Type_Main</th><th>Opening_Date</th><th>Speed_mph</th><th>Height_ft</th><th>Inversions</th><th>Gforce</th></tr><tr><td>str</td><td>str</td><td>str</td><td>str</td><td>i64</td><td>f64</td><td>f64</td><td>str</td><td>date</td><td>f64</td><td>f64</td><td>i64</td><td>f64</td></tr></thead><tbody><tr><td>&quot;Superman: Escape from Krypton&quot;</td><td>&quot;Other&quot;</td><td>&quot;Operating&quot;</td><td>&quot;Intamin&quot;</td><td>1997</td><td>34.425</td><td>-118.598</td><td>&quot;Steel&quot;</td><td>1997-03-15</td><td>100.0</td><td>null</td><td>0</td><td>4.5</td></tr><tr><td>&quot;Leviathan (Canada&#x27;s Wonderland…</td><td>&quot;Canada&#x27;s Wonderland&quot;</td><td>&quot;Operating&quot;</td><td>&quot;Bolliger &amp; Mabillard&quot;</td><td>2012</td><td>43.8445</td><td>-79.5424</td><td>&quot;Steel&quot;</td><td>2012-05-06</td><td>92.0</td><td>306.1</td><td>0</td><td>4.5</td></tr><tr><td>&quot;Kingda Ka&quot;</td><td>&quot;Six Flags Great Adventure&quot;</td><td>&quot;Operating&quot;</td><td>&quot;Intamin&quot;</td><td>2005</td><td>40.1392</td><td>-74.4365</td><td>&quot;Steel&quot;</td><td>2005-05-21</td><td>128.0</td><td>null</td><td>0</td><td>null</td></tr><tr><td>&quot;Fujiyama (roller coaster)&quot;</td><td>&quot;Fuji-Q Highland&quot;</td><td>&quot;Operating&quot;</td><td>&quot;TOGO&quot;</td><td>1996</td><td>35.4859</td><td>138.777</td><td>&quot;Steel&quot;</td><td>1996-07-01</td><td>81.0</td><td>null</td><td>0</td><td>3.5</td></tr><tr><td>&quot;Do-Dodonpa&quot;</td><td>&quot;Fuji-Q Highland&quot;</td><td>&quot;Closed&quot;</td><td>&quot;S&amp;S – Sansei Technologies&quot;</td><td>2001</td><td>35.4877</td><td>138.7823</td><td>&quot;Steel&quot;</td><td>2001-12-21</td><td>111.8</td><td>160.8</td><td>1</td><td>null</td></tr><tr><td>&hellip;</td><td>&hellip;</td><td>&hellip;</td><td>&hellip;</td><td>&hellip;</td><td>&hellip;</td><td>&hellip;</td><td>&hellip;</td><td>&hellip;</td><td>&hellip;</td><td>&hellip;</td><td>&hellip;</td><td>&hellip;</td></tr><tr><td>&quot;Top Thrill Dragster&quot;</td><td>&quot;Cedar Point&quot;</td><td>&quot;Closed&quot;</td><td>&quot;Intamin&quot;</td><td>2003</td><td>41.484</td><td>-82.6862</td><td>&quot;Steel&quot;</td><td>2003-05-04</td><td>120.0</td><td>null</td><td>0</td><td>null</td></tr><tr><td>&quot;Hyperion (roller coaster)&quot;</td><td>&quot;Energylandia&quot;</td><td>&quot;Operating&quot;</td><td>&quot;Intamin&quot;</td><td>2018</td><td>null</td><td>null</td><td>&quot;Steel&quot;</td><td>2018-07-14</td><td>88.2</td><td>252.6</td><td>1</td><td>4.8</td></tr><tr><td>&quot;Furius Baco&quot;</td><td>&quot;PortAventura Park&quot;</td><td>&quot;Operating&quot;</td><td>&quot;Intamin&quot;</td><td>2007</td><td>41.0847</td><td>1.1564</td><td>&quot;Steel&quot;</td><td>2007-06-05</td><td>83.9</td><td>null</td><td>1</td><td>4.7</td></tr><tr><td>&quot;Goliath (Six Flags Magic Mount…</td><td>&quot;Six Flags Magic Mountain&quot;</td><td>&quot;Operating&quot;</td><td>&quot;Giovanola&quot;</td><td>2000</td><td>34.4269</td><td>-118.5969</td><td>&quot;Steel&quot;</td><td>2000-02-11</td><td>85.0</td><td>null</td><td>0</td><td>null</td></tr><tr><td>&quot;Red Force (roller coaster)&quot;</td><td>&quot;Ferrari Land&quot;</td><td>&quot;Operating&quot;</td><td>&quot;Intamin&quot;</td><td>2017</td><td>null</td><td>null</td><td>&quot;Steel&quot;</td><td>2017-04-07</td><td>111.8</td><td>367.5</td><td>0</td><td>null</td></tr></tbody></table></div>"
      ],
      "text/plain": [
       "shape: (25, 13)\n",
       "┌─────┬─────┬─────┬────────┬───────┬───────┬───────┬───────┬───────┬───────┬───────┬───────┬───────┐\n",
       "│ Coa ┆ Loc ┆ Sta ┆ Manufa ┆ Year_ ┆ latit ┆ longi ┆ Type_ ┆ Openi ┆ Speed ┆ Heigh ┆ Inver ┆ Gforc │\n",
       "│ ste ┆ ati ┆ tus ┆ cturer ┆ Intro ┆ ude   ┆ tude  ┆ Main  ┆ ng_Da ┆ _mph  ┆ t_ft  ┆ sions ┆ e     │\n",
       "│ r_N ┆ on  ┆ --- ┆ ---    ┆ duced ┆ ---   ┆ ---   ┆ ---   ┆ te    ┆ ---   ┆ ---   ┆ ---   ┆ ---   │\n",
       "│ ame ┆ --- ┆ str ┆ str    ┆ ---   ┆ f64   ┆ f64   ┆ str   ┆ ---   ┆ f64   ┆ f64   ┆ i64   ┆ f64   │\n",
       "│ --- ┆ str ┆     ┆        ┆ i64   ┆       ┆       ┆       ┆ date  ┆       ┆       ┆       ┆       │\n",
       "│ str ┆     ┆     ┆        ┆       ┆       ┆       ┆       ┆       ┆       ┆       ┆       ┆       │\n",
       "╞═════╪═════╪═════╪════════╪═══════╪═══════╪═══════╪═══════╪═══════╪═══════╪═══════╪═══════╪═══════╡\n",
       "│ Sup ┆ Oth ┆ Ope ┆ Intami ┆ 1997  ┆ 34.42 ┆ -118. ┆ Steel ┆ 1997- ┆ 100.0 ┆ null  ┆ 0     ┆ 4.5   │\n",
       "│ erm ┆ er  ┆ rat ┆ n      ┆       ┆ 5     ┆ 598   ┆       ┆ 03-15 ┆       ┆       ┆       ┆       │\n",
       "│ an: ┆     ┆ ing ┆        ┆       ┆       ┆       ┆       ┆       ┆       ┆       ┆       ┆       │\n",
       "│ Esc ┆     ┆     ┆        ┆       ┆       ┆       ┆       ┆       ┆       ┆       ┆       ┆       │\n",
       "│ ape ┆     ┆     ┆        ┆       ┆       ┆       ┆       ┆       ┆       ┆       ┆       ┆       │\n",
       "│ fro ┆     ┆     ┆        ┆       ┆       ┆       ┆       ┆       ┆       ┆       ┆       ┆       │\n",
       "│ m   ┆     ┆     ┆        ┆       ┆       ┆       ┆       ┆       ┆       ┆       ┆       ┆       │\n",
       "│ Kry ┆     ┆     ┆        ┆       ┆       ┆       ┆       ┆       ┆       ┆       ┆       ┆       │\n",
       "│ pto ┆     ┆     ┆        ┆       ┆       ┆       ┆       ┆       ┆       ┆       ┆       ┆       │\n",
       "│ n   ┆     ┆     ┆        ┆       ┆       ┆       ┆       ┆       ┆       ┆       ┆       ┆       │\n",
       "│ Lev ┆ Can ┆ Ope ┆ Bollig ┆ 2012  ┆ 43.84 ┆ -79.5 ┆ Steel ┆ 2012- ┆ 92.0  ┆ 306.1 ┆ 0     ┆ 4.5   │\n",
       "│ iat ┆ ada ┆ rat ┆ er &   ┆       ┆ 45    ┆ 424   ┆       ┆ 05-06 ┆       ┆       ┆       ┆       │\n",
       "│ han ┆ 's  ┆ ing ┆ Mabill ┆       ┆       ┆       ┆       ┆       ┆       ┆       ┆       ┆       │\n",
       "│ (Ca ┆ Won ┆     ┆ ard    ┆       ┆       ┆       ┆       ┆       ┆       ┆       ┆       ┆       │\n",
       "│ nad ┆ der ┆     ┆        ┆       ┆       ┆       ┆       ┆       ┆       ┆       ┆       ┆       │\n",
       "│ a's ┆ lan ┆     ┆        ┆       ┆       ┆       ┆       ┆       ┆       ┆       ┆       ┆       │\n",
       "│ Won ┆ d   ┆     ┆        ┆       ┆       ┆       ┆       ┆       ┆       ┆       ┆       ┆       │\n",
       "│ der ┆     ┆     ┆        ┆       ┆       ┆       ┆       ┆       ┆       ┆       ┆       ┆       │\n",
       "│ lan ┆     ┆     ┆        ┆       ┆       ┆       ┆       ┆       ┆       ┆       ┆       ┆       │\n",
       "│ d…  ┆     ┆     ┆        ┆       ┆       ┆       ┆       ┆       ┆       ┆       ┆       ┆       │\n",
       "│ Kin ┆ Six ┆ Ope ┆ Intami ┆ 2005  ┆ 40.13 ┆ -74.4 ┆ Steel ┆ 2005- ┆ 128.0 ┆ null  ┆ 0     ┆ null  │\n",
       "│ gda ┆ Fla ┆ rat ┆ n      ┆       ┆ 92    ┆ 365   ┆       ┆ 05-21 ┆       ┆       ┆       ┆       │\n",
       "│ Ka  ┆ gs  ┆ ing ┆        ┆       ┆       ┆       ┆       ┆       ┆       ┆       ┆       ┆       │\n",
       "│     ┆ Gre ┆     ┆        ┆       ┆       ┆       ┆       ┆       ┆       ┆       ┆       ┆       │\n",
       "│     ┆ at  ┆     ┆        ┆       ┆       ┆       ┆       ┆       ┆       ┆       ┆       ┆       │\n",
       "│     ┆ Adv ┆     ┆        ┆       ┆       ┆       ┆       ┆       ┆       ┆       ┆       ┆       │\n",
       "│     ┆ ent ┆     ┆        ┆       ┆       ┆       ┆       ┆       ┆       ┆       ┆       ┆       │\n",
       "│     ┆ ure ┆     ┆        ┆       ┆       ┆       ┆       ┆       ┆       ┆       ┆       ┆       │\n",
       "│ Fuj ┆ Fuj ┆ Ope ┆ TOGO   ┆ 1996  ┆ 35.48 ┆ 138.7 ┆ Steel ┆ 1996- ┆ 81.0  ┆ null  ┆ 0     ┆ 3.5   │\n",
       "│ iya ┆ i-Q ┆ rat ┆        ┆       ┆ 59    ┆ 77    ┆       ┆ 07-01 ┆       ┆       ┆       ┆       │\n",
       "│ ma  ┆ Hig ┆ ing ┆        ┆       ┆       ┆       ┆       ┆       ┆       ┆       ┆       ┆       │\n",
       "│ (ro ┆ hla ┆     ┆        ┆       ┆       ┆       ┆       ┆       ┆       ┆       ┆       ┆       │\n",
       "│ lle ┆ nd  ┆     ┆        ┆       ┆       ┆       ┆       ┆       ┆       ┆       ┆       ┆       │\n",
       "│ r   ┆     ┆     ┆        ┆       ┆       ┆       ┆       ┆       ┆       ┆       ┆       ┆       │\n",
       "│ coa ┆     ┆     ┆        ┆       ┆       ┆       ┆       ┆       ┆       ┆       ┆       ┆       │\n",
       "│ ste ┆     ┆     ┆        ┆       ┆       ┆       ┆       ┆       ┆       ┆       ┆       ┆       │\n",
       "│ r)  ┆     ┆     ┆        ┆       ┆       ┆       ┆       ┆       ┆       ┆       ┆       ┆       │\n",
       "│ Do- ┆ Fuj ┆ Clo ┆ S&S –  ┆ 2001  ┆ 35.48 ┆ 138.7 ┆ Steel ┆ 2001- ┆ 111.8 ┆ 160.8 ┆ 1     ┆ null  │\n",
       "│ Dod ┆ i-Q ┆ sed ┆ Sansei ┆       ┆ 77    ┆ 823   ┆       ┆ 12-21 ┆       ┆       ┆       ┆       │\n",
       "│ onp ┆ Hig ┆     ┆ Techno ┆       ┆       ┆       ┆       ┆       ┆       ┆       ┆       ┆       │\n",
       "│ a   ┆ hla ┆     ┆ logies ┆       ┆       ┆       ┆       ┆       ┆       ┆       ┆       ┆       │\n",
       "│     ┆ nd  ┆     ┆        ┆       ┆       ┆       ┆       ┆       ┆       ┆       ┆       ┆       │\n",
       "│ …   ┆ …   ┆ …   ┆ …      ┆ …     ┆ …     ┆ …     ┆ …     ┆ …     ┆ …     ┆ …     ┆ …     ┆ …     │\n",
       "│ Top ┆ Ced ┆ Clo ┆ Intami ┆ 2003  ┆ 41.48 ┆ -82.6 ┆ Steel ┆ 2003- ┆ 120.0 ┆ null  ┆ 0     ┆ null  │\n",
       "│ Thr ┆ ar  ┆ sed ┆ n      ┆       ┆ 4     ┆ 862   ┆       ┆ 05-04 ┆       ┆       ┆       ┆       │\n",
       "│ ill ┆ Poi ┆     ┆        ┆       ┆       ┆       ┆       ┆       ┆       ┆       ┆       ┆       │\n",
       "│ Dra ┆ nt  ┆     ┆        ┆       ┆       ┆       ┆       ┆       ┆       ┆       ┆       ┆       │\n",
       "│ gst ┆     ┆     ┆        ┆       ┆       ┆       ┆       ┆       ┆       ┆       ┆       ┆       │\n",
       "│ er  ┆     ┆     ┆        ┆       ┆       ┆       ┆       ┆       ┆       ┆       ┆       ┆       │\n",
       "│ Hyp ┆ Ene ┆ Ope ┆ Intami ┆ 2018  ┆ null  ┆ null  ┆ Steel ┆ 2018- ┆ 88.2  ┆ 252.6 ┆ 1     ┆ 4.8   │\n",
       "│ eri ┆ rgy ┆ rat ┆ n      ┆       ┆       ┆       ┆       ┆ 07-14 ┆       ┆       ┆       ┆       │\n",
       "│ on  ┆ lan ┆ ing ┆        ┆       ┆       ┆       ┆       ┆       ┆       ┆       ┆       ┆       │\n",
       "│ (ro ┆ dia ┆     ┆        ┆       ┆       ┆       ┆       ┆       ┆       ┆       ┆       ┆       │\n",
       "│ lle ┆     ┆     ┆        ┆       ┆       ┆       ┆       ┆       ┆       ┆       ┆       ┆       │\n",
       "│ r   ┆     ┆     ┆        ┆       ┆       ┆       ┆       ┆       ┆       ┆       ┆       ┆       │\n",
       "│ coa ┆     ┆     ┆        ┆       ┆       ┆       ┆       ┆       ┆       ┆       ┆       ┆       │\n",
       "│ ste ┆     ┆     ┆        ┆       ┆       ┆       ┆       ┆       ┆       ┆       ┆       ┆       │\n",
       "│ r)  ┆     ┆     ┆        ┆       ┆       ┆       ┆       ┆       ┆       ┆       ┆       ┆       │\n",
       "│ Fur ┆ Por ┆ Ope ┆ Intami ┆ 2007  ┆ 41.08 ┆ 1.156 ┆ Steel ┆ 2007- ┆ 83.9  ┆ null  ┆ 1     ┆ 4.7   │\n",
       "│ ius ┆ tAv ┆ rat ┆ n      ┆       ┆ 47    ┆ 4     ┆       ┆ 06-05 ┆       ┆       ┆       ┆       │\n",
       "│ Bac ┆ ent ┆ ing ┆        ┆       ┆       ┆       ┆       ┆       ┆       ┆       ┆       ┆       │\n",
       "│ o   ┆ ura ┆     ┆        ┆       ┆       ┆       ┆       ┆       ┆       ┆       ┆       ┆       │\n",
       "│     ┆ Par ┆     ┆        ┆       ┆       ┆       ┆       ┆       ┆       ┆       ┆       ┆       │\n",
       "│     ┆ k   ┆     ┆        ┆       ┆       ┆       ┆       ┆       ┆       ┆       ┆       ┆       │\n",
       "│ Gol ┆ Six ┆ Ope ┆ Giovan ┆ 2000  ┆ 34.42 ┆ -118. ┆ Steel ┆ 2000- ┆ 85.0  ┆ null  ┆ 0     ┆ null  │\n",
       "│ iat ┆ Fla ┆ rat ┆ ola    ┆       ┆ 69    ┆ 5969  ┆       ┆ 02-11 ┆       ┆       ┆       ┆       │\n",
       "│ h   ┆ gs  ┆ ing ┆        ┆       ┆       ┆       ┆       ┆       ┆       ┆       ┆       ┆       │\n",
       "│ (Si ┆ Mag ┆     ┆        ┆       ┆       ┆       ┆       ┆       ┆       ┆       ┆       ┆       │\n",
       "│ x   ┆ ic  ┆     ┆        ┆       ┆       ┆       ┆       ┆       ┆       ┆       ┆       ┆       │\n",
       "│ Fla ┆ Mou ┆     ┆        ┆       ┆       ┆       ┆       ┆       ┆       ┆       ┆       ┆       │\n",
       "│ gs  ┆ nta ┆     ┆        ┆       ┆       ┆       ┆       ┆       ┆       ┆       ┆       ┆       │\n",
       "│ Mag ┆ in  ┆     ┆        ┆       ┆       ┆       ┆       ┆       ┆       ┆       ┆       ┆       │\n",
       "│ ic  ┆     ┆     ┆        ┆       ┆       ┆       ┆       ┆       ┆       ┆       ┆       ┆       │\n",
       "│ Mou ┆     ┆     ┆        ┆       ┆       ┆       ┆       ┆       ┆       ┆       ┆       ┆       │\n",
       "│ nt… ┆     ┆     ┆        ┆       ┆       ┆       ┆       ┆       ┆       ┆       ┆       ┆       │\n",
       "│ Red ┆ Fer ┆ Ope ┆ Intami ┆ 2017  ┆ null  ┆ null  ┆ Steel ┆ 2017- ┆ 111.8 ┆ 367.5 ┆ 0     ┆ null  │\n",
       "│ For ┆ rar ┆ rat ┆ n      ┆       ┆       ┆       ┆       ┆ 04-07 ┆       ┆       ┆       ┆       │\n",
       "│ ce  ┆ i   ┆ ing ┆        ┆       ┆       ┆       ┆       ┆       ┆       ┆       ┆       ┆       │\n",
       "│ (ro ┆ Lan ┆     ┆        ┆       ┆       ┆       ┆       ┆       ┆       ┆       ┆       ┆       │\n",
       "│ lle ┆ d   ┆     ┆        ┆       ┆       ┆       ┆       ┆       ┆       ┆       ┆       ┆       │\n",
       "│ r   ┆     ┆     ┆        ┆       ┆       ┆       ┆       ┆       ┆       ┆       ┆       ┆       │\n",
       "│ coa ┆     ┆     ┆        ┆       ┆       ┆       ┆       ┆       ┆       ┆       ┆       ┆       │\n",
       "│ ste ┆     ┆     ┆        ┆       ┆       ┆       ┆       ┆       ┆       ┆       ┆       ┆       │\n",
       "│ r)  ┆     ┆     ┆        ┆       ┆       ┆       ┆       ┆       ┆       ┆       ┆       ┆       │\n",
       "└─────┴─────┴─────┴────────┴───────┴───────┴───────┴───────┴───────┴───────┴───────┴───────┴───────┘"
      ]
     },
     "execution_count": 39,
     "metadata": {},
     "output_type": "execute_result"
    }
   ],
   "source": [
    "# Roller coasters with speeds > 80 mph\n",
    "coaster.filter(pl.col(\"Speed_mph\") > 80)"
   ]
  },
  {
   "cell_type": "code",
   "execution_count": null,
   "id": "cd4ee00d",
   "metadata": {},
   "outputs": [],
   "source": [
    "# Top 10 Manufacturers by number of coasters\n",
    "coaster.group_by(\"Manufacturer\").agg(pl.len().alias(\"Count\")).sort(\n",
    "    \"Count\", descending=True\n",
    ").head(10)"
   ]
  },
  {
   "cell_type": "code",
   "execution_count": null,
   "id": "65d074f3",
   "metadata": {},
   "outputs": [],
   "source": [
    "# Average Speed per Manufacturer\n",
    "coaster.group_by(\"Manufacturer\").agg(pl.mean(\"Speed_mph\").alias(\"Avg_Speed\")).sort(\n",
    "    \"Avg_Speed\", descending=True\n",
    ").head(10)"
   ]
  },
  {
   "cell_type": "code",
   "execution_count": null,
   "id": "1d49a245",
   "metadata": {},
   "outputs": [],
   "source": []
  },
  {
   "cell_type": "code",
   "execution_count": null,
   "id": "b79efcd5",
   "metadata": {},
   "outputs": [],
   "source": []
  },
  {
   "cell_type": "code",
   "execution_count": null,
   "id": "10f0df24",
   "metadata": {},
   "outputs": [],
   "source": []
  }
 ],
 "metadata": {
  "kernelspec": {
   "display_name": "base",
   "language": "python",
   "name": "python3"
  },
  "language_info": {
   "codemirror_mode": {
    "name": "ipython",
    "version": 3
   },
   "file_extension": ".py",
   "mimetype": "text/x-python",
   "name": "python",
   "nbconvert_exporter": "python",
   "pygments_lexer": "ipython3",
   "version": "3.12.11"
  }
 },
 "nbformat": 4,
 "nbformat_minor": 5
}
