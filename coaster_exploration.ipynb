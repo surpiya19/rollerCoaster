{
 "cells": [
  {
   "cell_type": "markdown",
   "id": "6644485f",
   "metadata": {},
   "source": [
    "### Step 0: Imports and Reading Data"
   ]
  },
  {
   "cell_type": "code",
   "execution_count": 1,
   "id": "417a7f0c",
   "metadata": {},
   "outputs": [
    {
     "data": {
      "text/plain": [
       "polars.config.Config"
      ]
     },
     "execution_count": 1,
     "metadata": {},
     "output_type": "execute_result"
    }
   ],
   "source": [
    "import polars as pl\n",
    "import matplotlib.pyplot as plt\n",
    "import seaborn as sns\n",
    "import plotly.express as px\n",
    "import numpy as np\n",
    "\n",
    "pl.Config.set_tbl_cols(200)\n",
    "# pl.Config.set_tbl_rows(-1)"
   ]
  },
  {
   "cell_type": "code",
   "execution_count": 2,
   "id": "dd2826d3",
   "metadata": {},
   "outputs": [],
   "source": [
    "df = pl.read_csv(\"coaster_db.csv\")"
   ]
  },
  {
   "cell_type": "markdown",
   "id": "eeeebd94",
   "metadata": {},
   "source": [
    "### Step 1: Data Understanding\n",
    "* Dataframe shape\n",
    "* *head* and *tail* \n",
    "* dtypes, columns\n",
    "* describe"
   ]
  },
  {
   "cell_type": "code",
   "execution_count": 3,
   "id": "dd283091",
   "metadata": {},
   "outputs": [
    {
     "data": {
      "text/plain": [
       "(1087, 56)"
      ]
     },
     "execution_count": 3,
     "metadata": {},
     "output_type": "execute_result"
    }
   ],
   "source": [
    "df.shape"
   ]
  },
  {
   "cell_type": "code",
   "execution_count": 4,
   "id": "6d4670af",
   "metadata": {},
   "outputs": [
    {
     "data": {
      "text/html": [
       "<div><style>\n",
       ".dataframe > thead > tr,\n",
       ".dataframe > tbody > tr {\n",
       "  text-align: right;\n",
       "  white-space: pre-wrap;\n",
       "}\n",
       "</style>\n",
       "<small>shape: (5, 56)</small><table border=\"1\" class=\"dataframe\"><thead><tr><th>coaster_name</th><th>Length</th><th>Speed</th><th>Location</th><th>Status</th><th>Opening date</th><th>Type</th><th>Manufacturer</th><th>Height restriction</th><th>Model</th><th>Height</th><th>Inversions</th><th>Lift/launch system</th><th>Cost</th><th>Trains</th><th>Park section</th><th>Duration</th><th>Capacity</th><th>G-force</th><th>Designer</th><th>Max vertical angle</th><th>Drop</th><th>Soft opening date</th><th>Fast Lane available</th><th>Replaced</th><th>Track layout</th><th>Fastrack available</th><th>Soft opening date.1</th><th>Closing date</th><th>Opened</th><th>Replaced by</th><th>Website</th><th>Flash Pass Available</th><th>Must transfer from wheelchair</th><th>Theme</th><th>Single rider line available</th><th>Restraint Style</th><th>Flash Pass available</th><th>Acceleration</th><th>Restraints</th><th>Name</th><th>year_introduced</th><th>latitude</th><th>longitude</th><th>Type_Main</th><th>opening_date_clean</th><th>speed1</th><th>speed2</th><th>speed1_value</th><th>speed1_unit</th><th>speed_mph</th><th>height_value</th><th>height_unit</th><th>height_ft</th><th>Inversions_clean</th><th>Gforce_clean</th></tr><tr><td>str</td><td>str</td><td>str</td><td>str</td><td>str</td><td>str</td><td>str</td><td>str</td><td>str</td><td>str</td><td>str</td><td>i64</td><td>str</td><td>str</td><td>str</td><td>str</td><td>str</td><td>str</td><td>str</td><td>str</td><td>str</td><td>str</td><td>str</td><td>str</td><td>str</td><td>str</td><td>str</td><td>str</td><td>str</td><td>str</td><td>str</td><td>str</td><td>str</td><td>str</td><td>str</td><td>str</td><td>str</td><td>str</td><td>str</td><td>str</td><td>str</td><td>i64</td><td>f64</td><td>f64</td><td>str</td><td>str</td><td>str</td><td>str</td><td>f64</td><td>str</td><td>f64</td><td>f64</td><td>str</td><td>f64</td><td>i64</td><td>f64</td></tr></thead><tbody><tr><td>&quot;Switchback Railway&quot;</td><td>&quot;600 ft (180 m)&quot;</td><td>&quot;6 mph (9.7 km/h)&quot;</td><td>&quot;Coney Island&quot;</td><td>&quot;Removed&quot;</td><td>&quot;June 16, 1884&quot;</td><td>&quot;Wood&quot;</td><td>&quot;LaMarcus Adna Thompson&quot;</td><td>null</td><td>&quot;Lift Packed&quot;</td><td>&quot;50 ft (15 m)&quot;</td><td>null</td><td>&quot;gravity&quot;</td><td>null</td><td>null</td><td>&quot;Coney Island Cyclone Site&quot;</td><td>&quot;1:00&quot;</td><td>&quot;1600 riders per hour&quot;</td><td>&quot;2.9&quot;</td><td>&quot;LaMarcus Adna Thompson&quot;</td><td>&quot;30°&quot;</td><td>&quot;43 ft (13 m)&quot;</td><td>null</td><td>null</td><td>null</td><td>&quot;Gravity pulled coaster&quot;</td><td>null</td><td>null</td><td>null</td><td>null</td><td>null</td><td>null</td><td>null</td><td>null</td><td>null</td><td>null</td><td>null</td><td>null</td><td>null</td><td>null</td><td>null</td><td>1884</td><td>40.574</td><td>-73.978</td><td>&quot;Wood&quot;</td><td>&quot;1884-06-16&quot;</td><td>&quot;6 mph &quot;</td><td>&quot;9.7 km/h&quot;</td><td>6.0</td><td>&quot;mph&quot;</td><td>6.0</td><td>50.0</td><td>&quot;ft&quot;</td><td>null</td><td>0</td><td>2.9</td></tr><tr><td>&quot;Flip Flap Railway&quot;</td><td>null</td><td>null</td><td>&quot;Sea Lion Park&quot;</td><td>&quot;Removed&quot;</td><td>&quot;1895&quot;</td><td>&quot;Wood&quot;</td><td>&quot;Lina Beecher&quot;</td><td>null</td><td>null</td><td>null</td><td>1</td><td>null</td><td>null</td><td>&quot;a single car. Riders are arran…</td><td>null</td><td>null</td><td>null</td><td>&quot;12&quot;</td><td>&quot;Lina Beecher&quot;</td><td>null</td><td>null</td><td>null</td><td>null</td><td>null</td><td>null</td><td>null</td><td>null</td><td>&quot;1902&quot;</td><td>null</td><td>null</td><td>null</td><td>null</td><td>null</td><td>null</td><td>null</td><td>null</td><td>null</td><td>null</td><td>null</td><td>null</td><td>1895</td><td>40.578</td><td>-73.979</td><td>&quot;Wood&quot;</td><td>&quot;1895-01-01&quot;</td><td>null</td><td>null</td><td>null</td><td>null</td><td>null</td><td>null</td><td>null</td><td>null</td><td>1</td><td>12.0</td></tr><tr><td>&quot;Switchback Railway (Euclid Bea…</td><td>null</td><td>null</td><td>&quot;Cleveland, Ohio, United States&quot;</td><td>&quot;Closed&quot;</td><td>null</td><td>&quot;Other&quot;</td><td>null</td><td>null</td><td>null</td><td>null</td><td>null</td><td>null</td><td>null</td><td>null</td><td>null</td><td>null</td><td>null</td><td>null</td><td>null</td><td>null</td><td>null</td><td>null</td><td>null</td><td>null</td><td>null</td><td>null</td><td>null</td><td>null</td><td>&quot;1895&quot;</td><td>null</td><td>null</td><td>null</td><td>null</td><td>null</td><td>null</td><td>null</td><td>null</td><td>null</td><td>null</td><td>null</td><td>1896</td><td>41.58</td><td>-81.57</td><td>&quot;Other&quot;</td><td>null</td><td>null</td><td>null</td><td>null</td><td>null</td><td>null</td><td>null</td><td>null</td><td>null</td><td>0</td><td>null</td></tr><tr><td>&quot;Loop the Loop (Coney Island)&quot;</td><td>null</td><td>null</td><td>&quot;Other&quot;</td><td>&quot;Removed&quot;</td><td>&quot;1901&quot;</td><td>&quot;Steel&quot;</td><td>&quot;Edwin Prescott&quot;</td><td>null</td><td>null</td><td>null</td><td>1</td><td>null</td><td>null</td><td>&quot;a single car. Riders are arran…</td><td>null</td><td>null</td><td>null</td><td>null</td><td>&quot;Edward A. Green&quot;</td><td>null</td><td>null</td><td>null</td><td>null</td><td>&quot;Switchback Railway&quot;</td><td>null</td><td>null</td><td>null</td><td>&quot;1910&quot;</td><td>null</td><td>&quot;Giant Racer&quot;</td><td>null</td><td>null</td><td>null</td><td>null</td><td>null</td><td>null</td><td>null</td><td>null</td><td>null</td><td>null</td><td>1901</td><td>40.5745</td><td>-73.978</td><td>&quot;Steel&quot;</td><td>&quot;1901-01-01&quot;</td><td>null</td><td>null</td><td>null</td><td>null</td><td>null</td><td>null</td><td>null</td><td>null</td><td>1</td><td>null</td></tr><tr><td>&quot;Loop the Loop (Young&#x27;s Pier)&quot;</td><td>null</td><td>null</td><td>&quot;Other&quot;</td><td>&quot;Removed&quot;</td><td>&quot;1901&quot;</td><td>&quot;Steel&quot;</td><td>&quot;Edwin Prescott&quot;</td><td>null</td><td>null</td><td>null</td><td>1</td><td>null</td><td>null</td><td>null</td><td>null</td><td>null</td><td>null</td><td>null</td><td>&quot;Edward A. Green&quot;</td><td>null</td><td>null</td><td>null</td><td>null</td><td>null</td><td>null</td><td>null</td><td>null</td><td>&quot;1912&quot;</td><td>null</td><td>null</td><td>null</td><td>null</td><td>null</td><td>null</td><td>null</td><td>null</td><td>null</td><td>null</td><td>null</td><td>null</td><td>1901</td><td>39.3538</td><td>-74.4342</td><td>&quot;Steel&quot;</td><td>&quot;1901-01-01&quot;</td><td>null</td><td>null</td><td>null</td><td>null</td><td>null</td><td>null</td><td>null</td><td>null</td><td>1</td><td>null</td></tr></tbody></table></div>"
      ],
      "text/plain": [
       "shape: (5, 56)\n",
       "┌─────┬─────┬─────┬─────┬─────┬─────┬─────┬─────┬─────┬─────┬─────┬─────┬─────┬─────┬─────┬─────┬─────┬─────┬─────┬─────┬─────┬─────┬─────┬─────┬─────┬─────┬─────┬─────┬─────┬─────┬─────┬─────┬─────┬─────┬─────┬─────┬─────┬─────┬─────┬─────┬─────┬─────┬─────┬─────┬─────┬─────┬─────┬─────┬─────┬─────┬─────┬─────┬─────┬─────┬─────┬─────┐\n",
       "│ coa ┆ Len ┆ Spe ┆ Loc ┆ Sta ┆ Ope ┆ Typ ┆ Man ┆ Hei ┆ Mod ┆ Hei ┆ Inv ┆ Lif ┆ Cos ┆ Tra ┆ Par ┆ Dur ┆ Cap ┆ G-f ┆ Des ┆ Max ┆ Dro ┆ Sof ┆ Fas ┆ Rep ┆ Tra ┆ Fas ┆ Sof ┆ Clo ┆ Ope ┆ Rep ┆ Web ┆ Fla ┆ Mus ┆ The ┆ Sin ┆ Res ┆ Fla ┆ Acc ┆ Res ┆ Nam ┆ yea ┆ lat ┆ lon ┆ Typ ┆ ope ┆ spe ┆ spe ┆ spe ┆ spe ┆ spe ┆ hei ┆ hei ┆ hei ┆ Inv ┆ Gfo │\n",
       "│ ste ┆ gth ┆ ed  ┆ ati ┆ tus ┆ nin ┆ e   ┆ ufa ┆ ght ┆ el  ┆ ght ┆ ers ┆ t/l ┆ t   ┆ ins ┆ k   ┆ ati ┆ aci ┆ orc ┆ ign ┆ ver ┆ p   ┆ t   ┆ t   ┆ lac ┆ ck  ┆ tra ┆ t   ┆ sin ┆ ned ┆ lac ┆ sit ┆ sh  ┆ t   ┆ me  ┆ gle ┆ tra ┆ sh  ┆ ele ┆ tra ┆ e   ┆ r_i ┆ itu ┆ git ┆ e_M ┆ nin ┆ ed1 ┆ ed2 ┆ ed1 ┆ ed1 ┆ ed_ ┆ ght ┆ ght ┆ ght ┆ ers ┆ rce │\n",
       "│ r_n ┆ --- ┆ --- ┆ on  ┆ --- ┆ g   ┆ --- ┆ ctu ┆ res ┆ --- ┆ --- ┆ ion ┆ aun ┆ --- ┆ --- ┆ sec ┆ on  ┆ ty  ┆ e   ┆ er  ┆ tic ┆ --- ┆ ope ┆ Lan ┆ ed  ┆ lay ┆ ck  ┆ ope ┆ g   ┆ --- ┆ ed  ┆ e   ┆ Pas ┆ tra ┆ --- ┆ rid ┆ int ┆ Pas ┆ rat ┆ int ┆ --- ┆ ntr ┆ de  ┆ ude ┆ ain ┆ g_d ┆ --- ┆ --- ┆ _va ┆ _un ┆ mph ┆ _va ┆ _un ┆ _ft ┆ ion ┆ _cl │\n",
       "│ ame ┆ str ┆ str ┆ --- ┆ str ┆ dat ┆ str ┆ rer ┆ tri ┆ str ┆ str ┆ s   ┆ ch  ┆ str ┆ str ┆ tio ┆ --- ┆ --- ┆ --- ┆ --- ┆ al  ┆ str ┆ nin ┆ e   ┆ --- ┆ out ┆ ava ┆ nin ┆ dat ┆ str ┆ by  ┆ --- ┆ s   ┆ nsf ┆ str ┆ er  ┆ Sty ┆ s   ┆ ion ┆ s   ┆ str ┆ odu ┆ --- ┆ --- ┆ --- ┆ ate ┆ str ┆ str ┆ lue ┆ it  ┆ --- ┆ lue ┆ it  ┆ --- ┆ s_c ┆ ean │\n",
       "│ --- ┆     ┆     ┆ str ┆     ┆ e   ┆     ┆ --- ┆ cti ┆     ┆     ┆ --- ┆ sys ┆     ┆     ┆ n   ┆ str ┆ str ┆ str ┆ str ┆ ang ┆     ┆ g   ┆ ava ┆ str ┆ --- ┆ ila ┆ g   ┆ e   ┆     ┆ --- ┆ str ┆ Ava ┆ er  ┆     ┆ lin ┆ le  ┆ ava ┆ --- ┆ --- ┆     ┆ ced ┆ f64 ┆ f64 ┆ str ┆ _cl ┆     ┆     ┆ --- ┆ --- ┆ f64 ┆ --- ┆ --- ┆ f64 ┆ lea ┆ --- │\n",
       "│ str ┆     ┆     ┆     ┆     ┆ --- ┆     ┆ str ┆ on  ┆     ┆     ┆ i64 ┆ tem ┆     ┆     ┆ --- ┆     ┆     ┆     ┆     ┆ le  ┆     ┆ dat ┆ ila ┆     ┆ str ┆ ble ┆ dat ┆ --- ┆     ┆ str ┆     ┆ ila ┆ fro ┆     ┆ e   ┆ --- ┆ ila ┆ str ┆ str ┆     ┆ --- ┆     ┆     ┆     ┆ ean ┆     ┆     ┆ f64 ┆ str ┆     ┆ f64 ┆ str ┆     ┆ n   ┆ f64 │\n",
       "│     ┆     ┆     ┆     ┆     ┆ str ┆     ┆     ┆ --- ┆     ┆     ┆     ┆ --- ┆     ┆     ┆ str ┆     ┆     ┆     ┆     ┆ --- ┆     ┆ e   ┆ ble ┆     ┆     ┆ --- ┆ e.1 ┆ str ┆     ┆     ┆     ┆ ble ┆ m   ┆     ┆ ava ┆ str ┆ ble ┆     ┆     ┆     ┆ i64 ┆     ┆     ┆     ┆ --- ┆     ┆     ┆     ┆     ┆     ┆     ┆     ┆     ┆ --- ┆     │\n",
       "│     ┆     ┆     ┆     ┆     ┆     ┆     ┆     ┆ str ┆     ┆     ┆     ┆ str ┆     ┆     ┆     ┆     ┆     ┆     ┆     ┆ str ┆     ┆ --- ┆ --- ┆     ┆     ┆ str ┆ --- ┆     ┆     ┆     ┆     ┆ --- ┆ whe ┆     ┆ ila ┆     ┆ --- ┆     ┆     ┆     ┆     ┆     ┆     ┆     ┆ str ┆     ┆     ┆     ┆     ┆     ┆     ┆     ┆     ┆ i64 ┆     │\n",
       "│     ┆     ┆     ┆     ┆     ┆     ┆     ┆     ┆     ┆     ┆     ┆     ┆     ┆     ┆     ┆     ┆     ┆     ┆     ┆     ┆     ┆     ┆ str ┆ str ┆     ┆     ┆     ┆ str ┆     ┆     ┆     ┆     ┆ str ┆ elc ┆     ┆ ble ┆     ┆ str ┆     ┆     ┆     ┆     ┆     ┆     ┆     ┆     ┆     ┆     ┆     ┆     ┆     ┆     ┆     ┆     ┆     ┆     │\n",
       "│     ┆     ┆     ┆     ┆     ┆     ┆     ┆     ┆     ┆     ┆     ┆     ┆     ┆     ┆     ┆     ┆     ┆     ┆     ┆     ┆     ┆     ┆     ┆     ┆     ┆     ┆     ┆     ┆     ┆     ┆     ┆     ┆     ┆ hai ┆     ┆ --- ┆     ┆     ┆     ┆     ┆     ┆     ┆     ┆     ┆     ┆     ┆     ┆     ┆     ┆     ┆     ┆     ┆     ┆     ┆     ┆     │\n",
       "│     ┆     ┆     ┆     ┆     ┆     ┆     ┆     ┆     ┆     ┆     ┆     ┆     ┆     ┆     ┆     ┆     ┆     ┆     ┆     ┆     ┆     ┆     ┆     ┆     ┆     ┆     ┆     ┆     ┆     ┆     ┆     ┆     ┆ r   ┆     ┆ str ┆     ┆     ┆     ┆     ┆     ┆     ┆     ┆     ┆     ┆     ┆     ┆     ┆     ┆     ┆     ┆     ┆     ┆     ┆     ┆     │\n",
       "│     ┆     ┆     ┆     ┆     ┆     ┆     ┆     ┆     ┆     ┆     ┆     ┆     ┆     ┆     ┆     ┆     ┆     ┆     ┆     ┆     ┆     ┆     ┆     ┆     ┆     ┆     ┆     ┆     ┆     ┆     ┆     ┆     ┆ --- ┆     ┆     ┆     ┆     ┆     ┆     ┆     ┆     ┆     ┆     ┆     ┆     ┆     ┆     ┆     ┆     ┆     ┆     ┆     ┆     ┆     ┆     │\n",
       "│     ┆     ┆     ┆     ┆     ┆     ┆     ┆     ┆     ┆     ┆     ┆     ┆     ┆     ┆     ┆     ┆     ┆     ┆     ┆     ┆     ┆     ┆     ┆     ┆     ┆     ┆     ┆     ┆     ┆     ┆     ┆     ┆     ┆ str ┆     ┆     ┆     ┆     ┆     ┆     ┆     ┆     ┆     ┆     ┆     ┆     ┆     ┆     ┆     ┆     ┆     ┆     ┆     ┆     ┆     ┆     │\n",
       "╞═════╪═════╪═════╪═════╪═════╪═════╪═════╪═════╪═════╪═════╪═════╪═════╪═════╪═════╪═════╪═════╪═════╪═════╪═════╪═════╪═════╪═════╪═════╪═════╪═════╪═════╪═════╪═════╪═════╪═════╪═════╪═════╪═════╪═════╪═════╪═════╪═════╪═════╪═════╪═════╪═════╪═════╪═════╪═════╪═════╪═════╪═════╪═════╪═════╪═════╪═════╪═════╪═════╪═════╪═════╪═════╡\n",
       "│ Swi ┆ 600 ┆ 6   ┆ Con ┆ Rem ┆ Jun ┆ Woo ┆ LaM ┆ nul ┆ Lif ┆ 50  ┆ nul ┆ gra ┆ nul ┆ nul ┆ Con ┆ 1:0 ┆ 160 ┆ 2.9 ┆ LaM ┆ 30° ┆ 43  ┆ nul ┆ nul ┆ nul ┆ Gra ┆ nul ┆ nul ┆ nul ┆ nul ┆ nul ┆ nul ┆ nul ┆ nul ┆ nul ┆ nul ┆ nul ┆ nul ┆ nul ┆ nul ┆ nul ┆ 188 ┆ 40. ┆ -73 ┆ Woo ┆ 188 ┆ 6   ┆ 9.7 ┆ 6.0 ┆ mph ┆ 6.0 ┆ 50. ┆ ft  ┆ nul ┆ 0   ┆ 2.9 │\n",
       "│ tch ┆  ft ┆ mph ┆ ey  ┆ ove ┆ e 1 ┆ d   ┆ arc ┆ l   ┆ t   ┆ ft  ┆ l   ┆ vit ┆ l   ┆ l   ┆ ey  ┆ 0   ┆ 0   ┆     ┆ arc ┆     ┆ ft  ┆ l   ┆ l   ┆ l   ┆ vit ┆ l   ┆ l   ┆ l   ┆ l   ┆ l   ┆ l   ┆ l   ┆ l   ┆ l   ┆ l   ┆ l   ┆ l   ┆ l   ┆ l   ┆ l   ┆ 4   ┆ 574 ┆ .97 ┆ d   ┆ 4-0 ┆ mph ┆ km/ ┆     ┆     ┆     ┆ 0   ┆     ┆ l   ┆     ┆     │\n",
       "│ bac ┆ (18 ┆ (9. ┆ Isl ┆ d   ┆ 6,  ┆     ┆ us  ┆     ┆ Pac ┆ (15 ┆     ┆ y   ┆     ┆     ┆ Isl ┆     ┆ rid ┆     ┆ us  ┆     ┆ (13 ┆     ┆     ┆     ┆ y   ┆     ┆     ┆     ┆     ┆     ┆     ┆     ┆     ┆     ┆     ┆     ┆     ┆     ┆     ┆     ┆     ┆     ┆ 8   ┆     ┆ 6-1 ┆     ┆ h   ┆     ┆     ┆     ┆     ┆     ┆     ┆     ┆     │\n",
       "│ k   ┆ 0 m ┆ 7   ┆ and ┆     ┆ 188 ┆     ┆ Adn ┆     ┆ ked ┆ m)  ┆     ┆     ┆     ┆     ┆ and ┆     ┆ ers ┆     ┆ Adn ┆     ┆  m) ┆     ┆     ┆     ┆ pul ┆     ┆     ┆     ┆     ┆     ┆     ┆     ┆     ┆     ┆     ┆     ┆     ┆     ┆     ┆     ┆     ┆     ┆     ┆     ┆ 6   ┆     ┆     ┆     ┆     ┆     ┆     ┆     ┆     ┆     ┆     │\n",
       "│ Rai ┆ )   ┆ km/ ┆     ┆     ┆ 4   ┆     ┆ a   ┆     ┆     ┆     ┆     ┆     ┆     ┆     ┆ Cyc ┆     ┆ per ┆     ┆ a   ┆     ┆     ┆     ┆     ┆     ┆ led ┆     ┆     ┆     ┆     ┆     ┆     ┆     ┆     ┆     ┆     ┆     ┆     ┆     ┆     ┆     ┆     ┆     ┆     ┆     ┆     ┆     ┆     ┆     ┆     ┆     ┆     ┆     ┆     ┆     ┆     │\n",
       "│ lwa ┆     ┆ h)  ┆     ┆     ┆     ┆     ┆ Tho ┆     ┆     ┆     ┆     ┆     ┆     ┆     ┆ lon ┆     ┆ hou ┆     ┆ Tho ┆     ┆     ┆     ┆     ┆     ┆ coa ┆     ┆     ┆     ┆     ┆     ┆     ┆     ┆     ┆     ┆     ┆     ┆     ┆     ┆     ┆     ┆     ┆     ┆     ┆     ┆     ┆     ┆     ┆     ┆     ┆     ┆     ┆     ┆     ┆     ┆     │\n",
       "│ y   ┆     ┆     ┆     ┆     ┆     ┆     ┆ mps ┆     ┆     ┆     ┆     ┆     ┆     ┆     ┆ e   ┆     ┆ r   ┆     ┆ mps ┆     ┆     ┆     ┆     ┆     ┆ ste ┆     ┆     ┆     ┆     ┆     ┆     ┆     ┆     ┆     ┆     ┆     ┆     ┆     ┆     ┆     ┆     ┆     ┆     ┆     ┆     ┆     ┆     ┆     ┆     ┆     ┆     ┆     ┆     ┆     ┆     │\n",
       "│     ┆     ┆     ┆     ┆     ┆     ┆     ┆ on  ┆     ┆     ┆     ┆     ┆     ┆     ┆     ┆ Sit ┆     ┆     ┆     ┆ on  ┆     ┆     ┆     ┆     ┆     ┆ r   ┆     ┆     ┆     ┆     ┆     ┆     ┆     ┆     ┆     ┆     ┆     ┆     ┆     ┆     ┆     ┆     ┆     ┆     ┆     ┆     ┆     ┆     ┆     ┆     ┆     ┆     ┆     ┆     ┆     ┆     │\n",
       "│     ┆     ┆     ┆     ┆     ┆     ┆     ┆     ┆     ┆     ┆     ┆     ┆     ┆     ┆     ┆ e   ┆     ┆     ┆     ┆     ┆     ┆     ┆     ┆     ┆     ┆     ┆     ┆     ┆     ┆     ┆     ┆     ┆     ┆     ┆     ┆     ┆     ┆     ┆     ┆     ┆     ┆     ┆     ┆     ┆     ┆     ┆     ┆     ┆     ┆     ┆     ┆     ┆     ┆     ┆     ┆     │\n",
       "│ Fli ┆ nul ┆ nul ┆ Sea ┆ Rem ┆ 189 ┆ Woo ┆ Lin ┆ nul ┆ nul ┆ nul ┆ 1   ┆ nul ┆ nul ┆ a   ┆ nul ┆ nul ┆ nul ┆ 12  ┆ Lin ┆ nul ┆ nul ┆ nul ┆ nul ┆ nul ┆ nul ┆ nul ┆ nul ┆ 190 ┆ nul ┆ nul ┆ nul ┆ nul ┆ nul ┆ nul ┆ nul ┆ nul ┆ nul ┆ nul ┆ nul ┆ nul ┆ 189 ┆ 40. ┆ -73 ┆ Woo ┆ 189 ┆ nul ┆ nul ┆ nul ┆ nul ┆ nul ┆ nul ┆ nul ┆ nul ┆ 1   ┆ 12. │\n",
       "│ p   ┆ l   ┆ l   ┆ Lio ┆ ove ┆ 5   ┆ d   ┆ a   ┆ l   ┆ l   ┆ l   ┆     ┆ l   ┆ l   ┆ sin ┆ l   ┆ l   ┆ l   ┆     ┆ a   ┆ l   ┆ l   ┆ l   ┆ l   ┆ l   ┆ l   ┆ l   ┆ l   ┆ 2   ┆ l   ┆ l   ┆ l   ┆ l   ┆ l   ┆ l   ┆ l   ┆ l   ┆ l   ┆ l   ┆ l   ┆ l   ┆ 5   ┆ 578 ┆ .97 ┆ d   ┆ 5-0 ┆ l   ┆ l   ┆ l   ┆ l   ┆ l   ┆ l   ┆ l   ┆ l   ┆     ┆ 0   │\n",
       "│ Fla ┆     ┆     ┆ n   ┆ d   ┆     ┆     ┆ Bee ┆     ┆     ┆     ┆     ┆     ┆     ┆ gle ┆     ┆     ┆     ┆     ┆ Bee ┆     ┆     ┆     ┆     ┆     ┆     ┆     ┆     ┆     ┆     ┆     ┆     ┆     ┆     ┆     ┆     ┆     ┆     ┆     ┆     ┆     ┆     ┆     ┆ 9   ┆     ┆ 1-0 ┆     ┆     ┆     ┆     ┆     ┆     ┆     ┆     ┆     ┆     │\n",
       "│ p   ┆     ┆     ┆ Par ┆     ┆     ┆     ┆ che ┆     ┆     ┆     ┆     ┆     ┆     ┆ car ┆     ┆     ┆     ┆     ┆ che ┆     ┆     ┆     ┆     ┆     ┆     ┆     ┆     ┆     ┆     ┆     ┆     ┆     ┆     ┆     ┆     ┆     ┆     ┆     ┆     ┆     ┆     ┆     ┆     ┆     ┆ 1   ┆     ┆     ┆     ┆     ┆     ┆     ┆     ┆     ┆     ┆     │\n",
       "│ Rai ┆     ┆     ┆ k   ┆     ┆     ┆     ┆ r   ┆     ┆     ┆     ┆     ┆     ┆     ┆ .   ┆     ┆     ┆     ┆     ┆ r   ┆     ┆     ┆     ┆     ┆     ┆     ┆     ┆     ┆     ┆     ┆     ┆     ┆     ┆     ┆     ┆     ┆     ┆     ┆     ┆     ┆     ┆     ┆     ┆     ┆     ┆     ┆     ┆     ┆     ┆     ┆     ┆     ┆     ┆     ┆     ┆     │\n",
       "│ lwa ┆     ┆     ┆     ┆     ┆     ┆     ┆     ┆     ┆     ┆     ┆     ┆     ┆     ┆ Rid ┆     ┆     ┆     ┆     ┆     ┆     ┆     ┆     ┆     ┆     ┆     ┆     ┆     ┆     ┆     ┆     ┆     ┆     ┆     ┆     ┆     ┆     ┆     ┆     ┆     ┆     ┆     ┆     ┆     ┆     ┆     ┆     ┆     ┆     ┆     ┆     ┆     ┆     ┆     ┆     ┆     │\n",
       "│ y   ┆     ┆     ┆     ┆     ┆     ┆     ┆     ┆     ┆     ┆     ┆     ┆     ┆     ┆ ers ┆     ┆     ┆     ┆     ┆     ┆     ┆     ┆     ┆     ┆     ┆     ┆     ┆     ┆     ┆     ┆     ┆     ┆     ┆     ┆     ┆     ┆     ┆     ┆     ┆     ┆     ┆     ┆     ┆     ┆     ┆     ┆     ┆     ┆     ┆     ┆     ┆     ┆     ┆     ┆     ┆     │\n",
       "│     ┆     ┆     ┆     ┆     ┆     ┆     ┆     ┆     ┆     ┆     ┆     ┆     ┆     ┆ are ┆     ┆     ┆     ┆     ┆     ┆     ┆     ┆     ┆     ┆     ┆     ┆     ┆     ┆     ┆     ┆     ┆     ┆     ┆     ┆     ┆     ┆     ┆     ┆     ┆     ┆     ┆     ┆     ┆     ┆     ┆     ┆     ┆     ┆     ┆     ┆     ┆     ┆     ┆     ┆     ┆     │\n",
       "│     ┆     ┆     ┆     ┆     ┆     ┆     ┆     ┆     ┆     ┆     ┆     ┆     ┆     ┆ arr ┆     ┆     ┆     ┆     ┆     ┆     ┆     ┆     ┆     ┆     ┆     ┆     ┆     ┆     ┆     ┆     ┆     ┆     ┆     ┆     ┆     ┆     ┆     ┆     ┆     ┆     ┆     ┆     ┆     ┆     ┆     ┆     ┆     ┆     ┆     ┆     ┆     ┆     ┆     ┆     ┆     │\n",
       "│     ┆     ┆     ┆     ┆     ┆     ┆     ┆     ┆     ┆     ┆     ┆     ┆     ┆     ┆ an… ┆     ┆     ┆     ┆     ┆     ┆     ┆     ┆     ┆     ┆     ┆     ┆     ┆     ┆     ┆     ┆     ┆     ┆     ┆     ┆     ┆     ┆     ┆     ┆     ┆     ┆     ┆     ┆     ┆     ┆     ┆     ┆     ┆     ┆     ┆     ┆     ┆     ┆     ┆     ┆     ┆     │\n",
       "│ Swi ┆ nul ┆ nul ┆ Cle ┆ Clo ┆ nul ┆ Oth ┆ nul ┆ nul ┆ nul ┆ nul ┆ nul ┆ nul ┆ nul ┆ nul ┆ nul ┆ nul ┆ nul ┆ nul ┆ nul ┆ nul ┆ nul ┆ nul ┆ nul ┆ nul ┆ nul ┆ nul ┆ nul ┆ nul ┆ 189 ┆ nul ┆ nul ┆ nul ┆ nul ┆ nul ┆ nul ┆ nul ┆ nul ┆ nul ┆ nul ┆ nul ┆ 189 ┆ 41. ┆ -81 ┆ Oth ┆ nul ┆ nul ┆ nul ┆ nul ┆ nul ┆ nul ┆ nul ┆ nul ┆ nul ┆ 0   ┆ nul │\n",
       "│ tch ┆ l   ┆ l   ┆ vel ┆ sed ┆ l   ┆ er  ┆ l   ┆ l   ┆ l   ┆ l   ┆ l   ┆ l   ┆ l   ┆ l   ┆ l   ┆ l   ┆ l   ┆ l   ┆ l   ┆ l   ┆ l   ┆ l   ┆ l   ┆ l   ┆ l   ┆ l   ┆ l   ┆ l   ┆ 5   ┆ l   ┆ l   ┆ l   ┆ l   ┆ l   ┆ l   ┆ l   ┆ l   ┆ l   ┆ l   ┆ l   ┆ 6   ┆ 58  ┆ .57 ┆ er  ┆ l   ┆ l   ┆ l   ┆ l   ┆ l   ┆ l   ┆ l   ┆ l   ┆ l   ┆     ┆ l   │\n",
       "│ bac ┆     ┆     ┆ and ┆     ┆     ┆     ┆     ┆     ┆     ┆     ┆     ┆     ┆     ┆     ┆     ┆     ┆     ┆     ┆     ┆     ┆     ┆     ┆     ┆     ┆     ┆     ┆     ┆     ┆     ┆     ┆     ┆     ┆     ┆     ┆     ┆     ┆     ┆     ┆     ┆     ┆     ┆     ┆     ┆     ┆     ┆     ┆     ┆     ┆     ┆     ┆     ┆     ┆     ┆     ┆     │\n",
       "│ k   ┆     ┆     ┆ ,   ┆     ┆     ┆     ┆     ┆     ┆     ┆     ┆     ┆     ┆     ┆     ┆     ┆     ┆     ┆     ┆     ┆     ┆     ┆     ┆     ┆     ┆     ┆     ┆     ┆     ┆     ┆     ┆     ┆     ┆     ┆     ┆     ┆     ┆     ┆     ┆     ┆     ┆     ┆     ┆     ┆     ┆     ┆     ┆     ┆     ┆     ┆     ┆     ┆     ┆     ┆     ┆     │\n",
       "│ Rai ┆     ┆     ┆ Ohi ┆     ┆     ┆     ┆     ┆     ┆     ┆     ┆     ┆     ┆     ┆     ┆     ┆     ┆     ┆     ┆     ┆     ┆     ┆     ┆     ┆     ┆     ┆     ┆     ┆     ┆     ┆     ┆     ┆     ┆     ┆     ┆     ┆     ┆     ┆     ┆     ┆     ┆     ┆     ┆     ┆     ┆     ┆     ┆     ┆     ┆     ┆     ┆     ┆     ┆     ┆     ┆     │\n",
       "│ lwa ┆     ┆     ┆ o,  ┆     ┆     ┆     ┆     ┆     ┆     ┆     ┆     ┆     ┆     ┆     ┆     ┆     ┆     ┆     ┆     ┆     ┆     ┆     ┆     ┆     ┆     ┆     ┆     ┆     ┆     ┆     ┆     ┆     ┆     ┆     ┆     ┆     ┆     ┆     ┆     ┆     ┆     ┆     ┆     ┆     ┆     ┆     ┆     ┆     ┆     ┆     ┆     ┆     ┆     ┆     ┆     │\n",
       "│ y   ┆     ┆     ┆ Uni ┆     ┆     ┆     ┆     ┆     ┆     ┆     ┆     ┆     ┆     ┆     ┆     ┆     ┆     ┆     ┆     ┆     ┆     ┆     ┆     ┆     ┆     ┆     ┆     ┆     ┆     ┆     ┆     ┆     ┆     ┆     ┆     ┆     ┆     ┆     ┆     ┆     ┆     ┆     ┆     ┆     ┆     ┆     ┆     ┆     ┆     ┆     ┆     ┆     ┆     ┆     ┆     │\n",
       "│ (Eu ┆     ┆     ┆ ted ┆     ┆     ┆     ┆     ┆     ┆     ┆     ┆     ┆     ┆     ┆     ┆     ┆     ┆     ┆     ┆     ┆     ┆     ┆     ┆     ┆     ┆     ┆     ┆     ┆     ┆     ┆     ┆     ┆     ┆     ┆     ┆     ┆     ┆     ┆     ┆     ┆     ┆     ┆     ┆     ┆     ┆     ┆     ┆     ┆     ┆     ┆     ┆     ┆     ┆     ┆     ┆     │\n",
       "│ cli ┆     ┆     ┆ Sta ┆     ┆     ┆     ┆     ┆     ┆     ┆     ┆     ┆     ┆     ┆     ┆     ┆     ┆     ┆     ┆     ┆     ┆     ┆     ┆     ┆     ┆     ┆     ┆     ┆     ┆     ┆     ┆     ┆     ┆     ┆     ┆     ┆     ┆     ┆     ┆     ┆     ┆     ┆     ┆     ┆     ┆     ┆     ┆     ┆     ┆     ┆     ┆     ┆     ┆     ┆     ┆     │\n",
       "│ d   ┆     ┆     ┆ tes ┆     ┆     ┆     ┆     ┆     ┆     ┆     ┆     ┆     ┆     ┆     ┆     ┆     ┆     ┆     ┆     ┆     ┆     ┆     ┆     ┆     ┆     ┆     ┆     ┆     ┆     ┆     ┆     ┆     ┆     ┆     ┆     ┆     ┆     ┆     ┆     ┆     ┆     ┆     ┆     ┆     ┆     ┆     ┆     ┆     ┆     ┆     ┆     ┆     ┆     ┆     ┆     │\n",
       "│ Bea ┆     ┆     ┆     ┆     ┆     ┆     ┆     ┆     ┆     ┆     ┆     ┆     ┆     ┆     ┆     ┆     ┆     ┆     ┆     ┆     ┆     ┆     ┆     ┆     ┆     ┆     ┆     ┆     ┆     ┆     ┆     ┆     ┆     ┆     ┆     ┆     ┆     ┆     ┆     ┆     ┆     ┆     ┆     ┆     ┆     ┆     ┆     ┆     ┆     ┆     ┆     ┆     ┆     ┆     ┆     │\n",
       "│ …   ┆     ┆     ┆     ┆     ┆     ┆     ┆     ┆     ┆     ┆     ┆     ┆     ┆     ┆     ┆     ┆     ┆     ┆     ┆     ┆     ┆     ┆     ┆     ┆     ┆     ┆     ┆     ┆     ┆     ┆     ┆     ┆     ┆     ┆     ┆     ┆     ┆     ┆     ┆     ┆     ┆     ┆     ┆     ┆     ┆     ┆     ┆     ┆     ┆     ┆     ┆     ┆     ┆     ┆     ┆     │\n",
       "│ Loo ┆ nul ┆ nul ┆ Oth ┆ Rem ┆ 190 ┆ Ste ┆ Edw ┆ nul ┆ nul ┆ nul ┆ 1   ┆ nul ┆ nul ┆ a   ┆ nul ┆ nul ┆ nul ┆ nul ┆ Edw ┆ nul ┆ nul ┆ nul ┆ nul ┆ Swi ┆ nul ┆ nul ┆ nul ┆ 191 ┆ nul ┆ Gia ┆ nul ┆ nul ┆ nul ┆ nul ┆ nul ┆ nul ┆ nul ┆ nul ┆ nul ┆ nul ┆ 190 ┆ 40. ┆ -73 ┆ Ste ┆ 190 ┆ nul ┆ nul ┆ nul ┆ nul ┆ nul ┆ nul ┆ nul ┆ nul ┆ 1   ┆ nul │\n",
       "│ p   ┆ l   ┆ l   ┆ er  ┆ ove ┆ 1   ┆ el  ┆ in  ┆ l   ┆ l   ┆ l   ┆     ┆ l   ┆ l   ┆ sin ┆ l   ┆ l   ┆ l   ┆ l   ┆ ard ┆ l   ┆ l   ┆ l   ┆ l   ┆ tch ┆ l   ┆ l   ┆ l   ┆ 0   ┆ l   ┆ nt  ┆ l   ┆ l   ┆ l   ┆ l   ┆ l   ┆ l   ┆ l   ┆ l   ┆ l   ┆ l   ┆ 1   ┆ 574 ┆ .97 ┆ el  ┆ 1-0 ┆ l   ┆ l   ┆ l   ┆ l   ┆ l   ┆ l   ┆ l   ┆ l   ┆     ┆ l   │\n",
       "│ the ┆     ┆     ┆     ┆ d   ┆     ┆     ┆ Pre ┆     ┆     ┆     ┆     ┆     ┆     ┆ gle ┆     ┆     ┆     ┆     ┆ A.  ┆     ┆     ┆     ┆     ┆ bac ┆     ┆     ┆     ┆     ┆     ┆ Rac ┆     ┆     ┆     ┆     ┆     ┆     ┆     ┆     ┆     ┆     ┆     ┆ 5   ┆ 8   ┆     ┆ 1-0 ┆     ┆     ┆     ┆     ┆     ┆     ┆     ┆     ┆     ┆     │\n",
       "│ Loo ┆     ┆     ┆     ┆     ┆     ┆     ┆ sco ┆     ┆     ┆     ┆     ┆     ┆     ┆ car ┆     ┆     ┆     ┆     ┆ Gre ┆     ┆     ┆     ┆     ┆ k   ┆     ┆     ┆     ┆     ┆     ┆ er  ┆     ┆     ┆     ┆     ┆     ┆     ┆     ┆     ┆     ┆     ┆     ┆     ┆     ┆     ┆ 1   ┆     ┆     ┆     ┆     ┆     ┆     ┆     ┆     ┆     ┆     │\n",
       "│ p   ┆     ┆     ┆     ┆     ┆     ┆     ┆ tt  ┆     ┆     ┆     ┆     ┆     ┆     ┆ .   ┆     ┆     ┆     ┆     ┆ en  ┆     ┆     ┆     ┆     ┆ Rai ┆     ┆     ┆     ┆     ┆     ┆     ┆     ┆     ┆     ┆     ┆     ┆     ┆     ┆     ┆     ┆     ┆     ┆     ┆     ┆     ┆     ┆     ┆     ┆     ┆     ┆     ┆     ┆     ┆     ┆     ┆     │\n",
       "│ (Co ┆     ┆     ┆     ┆     ┆     ┆     ┆     ┆     ┆     ┆     ┆     ┆     ┆     ┆ Rid ┆     ┆     ┆     ┆     ┆     ┆     ┆     ┆     ┆     ┆ lwa ┆     ┆     ┆     ┆     ┆     ┆     ┆     ┆     ┆     ┆     ┆     ┆     ┆     ┆     ┆     ┆     ┆     ┆     ┆     ┆     ┆     ┆     ┆     ┆     ┆     ┆     ┆     ┆     ┆     ┆     ┆     │\n",
       "│ ney ┆     ┆     ┆     ┆     ┆     ┆     ┆     ┆     ┆     ┆     ┆     ┆     ┆     ┆ ers ┆     ┆     ┆     ┆     ┆     ┆     ┆     ┆     ┆     ┆ y   ┆     ┆     ┆     ┆     ┆     ┆     ┆     ┆     ┆     ┆     ┆     ┆     ┆     ┆     ┆     ┆     ┆     ┆     ┆     ┆     ┆     ┆     ┆     ┆     ┆     ┆     ┆     ┆     ┆     ┆     ┆     │\n",
       "│ Isl ┆     ┆     ┆     ┆     ┆     ┆     ┆     ┆     ┆     ┆     ┆     ┆     ┆     ┆ are ┆     ┆     ┆     ┆     ┆     ┆     ┆     ┆     ┆     ┆     ┆     ┆     ┆     ┆     ┆     ┆     ┆     ┆     ┆     ┆     ┆     ┆     ┆     ┆     ┆     ┆     ┆     ┆     ┆     ┆     ┆     ┆     ┆     ┆     ┆     ┆     ┆     ┆     ┆     ┆     ┆     │\n",
       "│ and ┆     ┆     ┆     ┆     ┆     ┆     ┆     ┆     ┆     ┆     ┆     ┆     ┆     ┆ arr ┆     ┆     ┆     ┆     ┆     ┆     ┆     ┆     ┆     ┆     ┆     ┆     ┆     ┆     ┆     ┆     ┆     ┆     ┆     ┆     ┆     ┆     ┆     ┆     ┆     ┆     ┆     ┆     ┆     ┆     ┆     ┆     ┆     ┆     ┆     ┆     ┆     ┆     ┆     ┆     ┆     │\n",
       "│ )   ┆     ┆     ┆     ┆     ┆     ┆     ┆     ┆     ┆     ┆     ┆     ┆     ┆     ┆ an… ┆     ┆     ┆     ┆     ┆     ┆     ┆     ┆     ┆     ┆     ┆     ┆     ┆     ┆     ┆     ┆     ┆     ┆     ┆     ┆     ┆     ┆     ┆     ┆     ┆     ┆     ┆     ┆     ┆     ┆     ┆     ┆     ┆     ┆     ┆     ┆     ┆     ┆     ┆     ┆     ┆     │\n",
       "│ Loo ┆ nul ┆ nul ┆ Oth ┆ Rem ┆ 190 ┆ Ste ┆ Edw ┆ nul ┆ nul ┆ nul ┆ 1   ┆ nul ┆ nul ┆ nul ┆ nul ┆ nul ┆ nul ┆ nul ┆ Edw ┆ nul ┆ nul ┆ nul ┆ nul ┆ nul ┆ nul ┆ nul ┆ nul ┆ 191 ┆ nul ┆ nul ┆ nul ┆ nul ┆ nul ┆ nul ┆ nul ┆ nul ┆ nul ┆ nul ┆ nul ┆ nul ┆ 190 ┆ 39. ┆ -74 ┆ Ste ┆ 190 ┆ nul ┆ nul ┆ nul ┆ nul ┆ nul ┆ nul ┆ nul ┆ nul ┆ 1   ┆ nul │\n",
       "│ p   ┆ l   ┆ l   ┆ er  ┆ ove ┆ 1   ┆ el  ┆ in  ┆ l   ┆ l   ┆ l   ┆     ┆ l   ┆ l   ┆ l   ┆ l   ┆ l   ┆ l   ┆ l   ┆ ard ┆ l   ┆ l   ┆ l   ┆ l   ┆ l   ┆ l   ┆ l   ┆ l   ┆ 2   ┆ l   ┆ l   ┆ l   ┆ l   ┆ l   ┆ l   ┆ l   ┆ l   ┆ l   ┆ l   ┆ l   ┆ l   ┆ 1   ┆ 353 ┆ .43 ┆ el  ┆ 1-0 ┆ l   ┆ l   ┆ l   ┆ l   ┆ l   ┆ l   ┆ l   ┆ l   ┆     ┆ l   │\n",
       "│ the ┆     ┆     ┆     ┆ d   ┆     ┆     ┆ Pre ┆     ┆     ┆     ┆     ┆     ┆     ┆     ┆     ┆     ┆     ┆     ┆ A.  ┆     ┆     ┆     ┆     ┆     ┆     ┆     ┆     ┆     ┆     ┆     ┆     ┆     ┆     ┆     ┆     ┆     ┆     ┆     ┆     ┆     ┆     ┆ 8   ┆ 42  ┆     ┆ 1-0 ┆     ┆     ┆     ┆     ┆     ┆     ┆     ┆     ┆     ┆     │\n",
       "│ Loo ┆     ┆     ┆     ┆     ┆     ┆     ┆ sco ┆     ┆     ┆     ┆     ┆     ┆     ┆     ┆     ┆     ┆     ┆     ┆ Gre ┆     ┆     ┆     ┆     ┆     ┆     ┆     ┆     ┆     ┆     ┆     ┆     ┆     ┆     ┆     ┆     ┆     ┆     ┆     ┆     ┆     ┆     ┆     ┆     ┆     ┆ 1   ┆     ┆     ┆     ┆     ┆     ┆     ┆     ┆     ┆     ┆     │\n",
       "│ p   ┆     ┆     ┆     ┆     ┆     ┆     ┆ tt  ┆     ┆     ┆     ┆     ┆     ┆     ┆     ┆     ┆     ┆     ┆     ┆ en  ┆     ┆     ┆     ┆     ┆     ┆     ┆     ┆     ┆     ┆     ┆     ┆     ┆     ┆     ┆     ┆     ┆     ┆     ┆     ┆     ┆     ┆     ┆     ┆     ┆     ┆     ┆     ┆     ┆     ┆     ┆     ┆     ┆     ┆     ┆     ┆     │\n",
       "│ (Yo ┆     ┆     ┆     ┆     ┆     ┆     ┆     ┆     ┆     ┆     ┆     ┆     ┆     ┆     ┆     ┆     ┆     ┆     ┆     ┆     ┆     ┆     ┆     ┆     ┆     ┆     ┆     ┆     ┆     ┆     ┆     ┆     ┆     ┆     ┆     ┆     ┆     ┆     ┆     ┆     ┆     ┆     ┆     ┆     ┆     ┆     ┆     ┆     ┆     ┆     ┆     ┆     ┆     ┆     ┆     │\n",
       "│ ung ┆     ┆     ┆     ┆     ┆     ┆     ┆     ┆     ┆     ┆     ┆     ┆     ┆     ┆     ┆     ┆     ┆     ┆     ┆     ┆     ┆     ┆     ┆     ┆     ┆     ┆     ┆     ┆     ┆     ┆     ┆     ┆     ┆     ┆     ┆     ┆     ┆     ┆     ┆     ┆     ┆     ┆     ┆     ┆     ┆     ┆     ┆     ┆     ┆     ┆     ┆     ┆     ┆     ┆     ┆     │\n",
       "│ 's  ┆     ┆     ┆     ┆     ┆     ┆     ┆     ┆     ┆     ┆     ┆     ┆     ┆     ┆     ┆     ┆     ┆     ┆     ┆     ┆     ┆     ┆     ┆     ┆     ┆     ┆     ┆     ┆     ┆     ┆     ┆     ┆     ┆     ┆     ┆     ┆     ┆     ┆     ┆     ┆     ┆     ┆     ┆     ┆     ┆     ┆     ┆     ┆     ┆     ┆     ┆     ┆     ┆     ┆     ┆     │\n",
       "│ Pie ┆     ┆     ┆     ┆     ┆     ┆     ┆     ┆     ┆     ┆     ┆     ┆     ┆     ┆     ┆     ┆     ┆     ┆     ┆     ┆     ┆     ┆     ┆     ┆     ┆     ┆     ┆     ┆     ┆     ┆     ┆     ┆     ┆     ┆     ┆     ┆     ┆     ┆     ┆     ┆     ┆     ┆     ┆     ┆     ┆     ┆     ┆     ┆     ┆     ┆     ┆     ┆     ┆     ┆     ┆     │\n",
       "│ r)  ┆     ┆     ┆     ┆     ┆     ┆     ┆     ┆     ┆     ┆     ┆     ┆     ┆     ┆     ┆     ┆     ┆     ┆     ┆     ┆     ┆     ┆     ┆     ┆     ┆     ┆     ┆     ┆     ┆     ┆     ┆     ┆     ┆     ┆     ┆     ┆     ┆     ┆     ┆     ┆     ┆     ┆     ┆     ┆     ┆     ┆     ┆     ┆     ┆     ┆     ┆     ┆     ┆     ┆     ┆     │\n",
       "└─────┴─────┴─────┴─────┴─────┴─────┴─────┴─────┴─────┴─────┴─────┴─────┴─────┴─────┴─────┴─────┴─────┴─────┴─────┴─────┴─────┴─────┴─────┴─────┴─────┴─────┴─────┴─────┴─────┴─────┴─────┴─────┴─────┴─────┴─────┴─────┴─────┴─────┴─────┴─────┴─────┴─────┴─────┴─────┴─────┴─────┴─────┴─────┴─────┴─────┴─────┴─────┴─────┴─────┴─────┴─────┘"
      ]
     },
     "execution_count": 4,
     "metadata": {},
     "output_type": "execute_result"
    }
   ],
   "source": [
    "df.head(5)"
   ]
  },
  {
   "cell_type": "code",
   "execution_count": 5,
   "id": "101c77dc",
   "metadata": {},
   "outputs": [
    {
     "data": {
      "text/plain": [
       "Schema([('coaster_name', String),\n",
       "        ('Length', String),\n",
       "        ('Speed', String),\n",
       "        ('Location', String),\n",
       "        ('Status', String),\n",
       "        ('Opening date', String),\n",
       "        ('Type', String),\n",
       "        ('Manufacturer', String),\n",
       "        ('Height restriction', String),\n",
       "        ('Model', String),\n",
       "        ('Height', String),\n",
       "        ('Inversions', Int64),\n",
       "        ('Lift/launch system', String),\n",
       "        ('Cost', String),\n",
       "        ('Trains', String),\n",
       "        ('Park section', String),\n",
       "        ('Duration', String),\n",
       "        ('Capacity', String),\n",
       "        ('G-force', String),\n",
       "        ('Designer', String),\n",
       "        ('Max vertical angle', String),\n",
       "        ('Drop', String),\n",
       "        ('Soft opening date', String),\n",
       "        ('Fast Lane available', String),\n",
       "        ('Replaced', String),\n",
       "        ('Track layout', String),\n",
       "        ('Fastrack available', String),\n",
       "        ('Soft opening date.1', String),\n",
       "        ('Closing date', String),\n",
       "        ('Opened', String),\n",
       "        ('Replaced by', String),\n",
       "        ('Website', String),\n",
       "        ('Flash Pass Available', String),\n",
       "        ('Must transfer from wheelchair', String),\n",
       "        ('Theme', String),\n",
       "        ('Single rider line available', String),\n",
       "        ('Restraint Style', String),\n",
       "        ('Flash Pass available', String),\n",
       "        ('Acceleration', String),\n",
       "        ('Restraints', String),\n",
       "        ('Name', String),\n",
       "        ('year_introduced', Int64),\n",
       "        ('latitude', Float64),\n",
       "        ('longitude', Float64),\n",
       "        ('Type_Main', String),\n",
       "        ('opening_date_clean', String),\n",
       "        ('speed1', String),\n",
       "        ('speed2', String),\n",
       "        ('speed1_value', Float64),\n",
       "        ('speed1_unit', String),\n",
       "        ('speed_mph', Float64),\n",
       "        ('height_value', Float64),\n",
       "        ('height_unit', String),\n",
       "        ('height_ft', Float64),\n",
       "        ('Inversions_clean', Int64),\n",
       "        ('Gforce_clean', Float64)])"
      ]
     },
     "execution_count": 5,
     "metadata": {},
     "output_type": "execute_result"
    }
   ],
   "source": [
    "df.schema"
   ]
  },
  {
   "cell_type": "code",
   "execution_count": 6,
   "id": "4a925859",
   "metadata": {},
   "outputs": [
    {
     "name": "stdout",
     "output_type": "stream",
     "text": [
      "coaster_name, Length, Speed, Location, Status, Opening date, Type, Manufacturer, Height restriction, Model, Height, Inversions, Lift/launch system, Cost, Trains, Park section, Duration, Capacity, G-force, Designer, Max vertical angle, Drop, Soft opening date, Fast Lane available, Replaced, Track layout, Fastrack available, Soft opening date.1, Closing date, Opened, Replaced by, Website, Flash Pass Available, Must transfer from wheelchair, Theme, Single rider line available, Restraint Style, Flash Pass available, Acceleration, Restraints, Name, year_introduced, latitude, longitude, Type_Main, opening_date_clean, speed1, speed2, speed1_value, speed1_unit, speed_mph, height_value, height_unit, height_ft, Inversions_clean, Gforce_clean\n"
     ]
    }
   ],
   "source": [
    "print(\", \".join(df.columns))"
   ]
  },
  {
   "cell_type": "code",
   "execution_count": 7,
   "id": "bcad4ee5",
   "metadata": {},
   "outputs": [
    {
     "data": {
      "text/html": [
       "<div><style>\n",
       ".dataframe > thead > tr,\n",
       ".dataframe > tbody > tr {\n",
       "  text-align: right;\n",
       "  white-space: pre-wrap;\n",
       "}\n",
       "</style>\n",
       "<small>shape: (56, 2)</small><table border=\"1\" class=\"dataframe\"><thead><tr><th>column</th><th>dtype</th></tr><tr><td>str</td><td>object</td></tr></thead><tbody><tr><td>&quot;coaster_name&quot;</td><td>String</td></tr><tr><td>&quot;Length&quot;</td><td>String</td></tr><tr><td>&quot;Speed&quot;</td><td>String</td></tr><tr><td>&quot;Location&quot;</td><td>String</td></tr><tr><td>&quot;Status&quot;</td><td>String</td></tr><tr><td>&hellip;</td><td>&hellip;</td></tr><tr><td>&quot;height_value&quot;</td><td>Float64</td></tr><tr><td>&quot;height_unit&quot;</td><td>String</td></tr><tr><td>&quot;height_ft&quot;</td><td>Float64</td></tr><tr><td>&quot;Inversions_clean&quot;</td><td>Int64</td></tr><tr><td>&quot;Gforce_clean&quot;</td><td>Float64</td></tr></tbody></table></div>"
      ],
      "text/plain": [
       "shape: (56, 2)\n",
       "┌──────────────────┬─────────┐\n",
       "│ column           ┆ dtype   │\n",
       "│ ---              ┆ ---     │\n",
       "│ str              ┆ object  │\n",
       "╞══════════════════╪═════════╡\n",
       "│ coaster_name     ┆ String  │\n",
       "│ Length           ┆ String  │\n",
       "│ Speed            ┆ String  │\n",
       "│ Location         ┆ String  │\n",
       "│ Status           ┆ String  │\n",
       "│ …                ┆ …       │\n",
       "│ height_value     ┆ Float64 │\n",
       "│ height_unit      ┆ String  │\n",
       "│ height_ft        ┆ Float64 │\n",
       "│ Inversions_clean ┆ Int64   │\n",
       "│ Gforce_clean     ┆ Float64 │\n",
       "└──────────────────┴─────────┘"
      ]
     },
     "execution_count": 7,
     "metadata": {},
     "output_type": "execute_result"
    }
   ],
   "source": [
    "pl.DataFrame({\"column\": df.columns, \"dtype\": df.dtypes})"
   ]
  },
  {
   "cell_type": "code",
   "execution_count": 8,
   "id": "61346b71",
   "metadata": {},
   "outputs": [
    {
     "data": {
      "text/html": [
       "<div><style>\n",
       ".dataframe > thead > tr,\n",
       ".dataframe > tbody > tr {\n",
       "  text-align: right;\n",
       "  white-space: pre-wrap;\n",
       "}\n",
       "</style>\n",
       "<small>shape: (9, 57)</small><table border=\"1\" class=\"dataframe\"><thead><tr><th>statistic</th><th>coaster_name</th><th>Length</th><th>Speed</th><th>Location</th><th>Status</th><th>Opening date</th><th>Type</th><th>Manufacturer</th><th>Height restriction</th><th>Model</th><th>Height</th><th>Inversions</th><th>Lift/launch system</th><th>Cost</th><th>Trains</th><th>Park section</th><th>Duration</th><th>Capacity</th><th>G-force</th><th>Designer</th><th>Max vertical angle</th><th>Drop</th><th>Soft opening date</th><th>Fast Lane available</th><th>Replaced</th><th>Track layout</th><th>Fastrack available</th><th>Soft opening date.1</th><th>Closing date</th><th>Opened</th><th>Replaced by</th><th>Website</th><th>Flash Pass Available</th><th>Must transfer from wheelchair</th><th>Theme</th><th>Single rider line available</th><th>Restraint Style</th><th>Flash Pass available</th><th>Acceleration</th><th>Restraints</th><th>Name</th><th>year_introduced</th><th>latitude</th><th>longitude</th><th>Type_Main</th><th>opening_date_clean</th><th>speed1</th><th>speed2</th><th>speed1_value</th><th>speed1_unit</th><th>speed_mph</th><th>height_value</th><th>height_unit</th><th>height_ft</th><th>Inversions_clean</th><th>Gforce_clean</th></tr><tr><td>str</td><td>str</td><td>str</td><td>str</td><td>str</td><td>str</td><td>str</td><td>str</td><td>str</td><td>str</td><td>str</td><td>str</td><td>f64</td><td>str</td><td>str</td><td>str</td><td>str</td><td>str</td><td>str</td><td>str</td><td>str</td><td>str</td><td>str</td><td>str</td><td>str</td><td>str</td><td>str</td><td>str</td><td>str</td><td>str</td><td>str</td><td>str</td><td>str</td><td>str</td><td>str</td><td>str</td><td>str</td><td>str</td><td>str</td><td>str</td><td>str</td><td>str</td><td>f64</td><td>f64</td><td>f64</td><td>str</td><td>str</td><td>str</td><td>str</td><td>f64</td><td>str</td><td>f64</td><td>f64</td><td>str</td><td>f64</td><td>f64</td><td>f64</td></tr></thead><tbody><tr><td>&quot;count&quot;</td><td>&quot;1087&quot;</td><td>&quot;953&quot;</td><td>&quot;937&quot;</td><td>&quot;1087&quot;</td><td>&quot;874&quot;</td><td>&quot;837&quot;</td><td>&quot;1087&quot;</td><td>&quot;1028&quot;</td><td>&quot;831&quot;</td><td>&quot;744&quot;</td><td>&quot;965&quot;</td><td>932.0</td><td>&quot;795&quot;</td><td>&quot;382&quot;</td><td>&quot;718&quot;</td><td>&quot;487&quot;</td><td>&quot;765&quot;</td><td>&quot;575&quot;</td><td>&quot;362&quot;</td><td>&quot;578&quot;</td><td>&quot;357&quot;</td><td>&quot;494&quot;</td><td>&quot;96&quot;</td><td>&quot;69&quot;</td><td>&quot;173&quot;</td><td>&quot;335&quot;</td><td>&quot;19&quot;</td><td>&quot;96&quot;</td><td>&quot;236&quot;</td><td>&quot;27&quot;</td><td>&quot;88&quot;</td><td>&quot;87&quot;</td><td>&quot;50&quot;</td><td>&quot;106&quot;</td><td>&quot;44&quot;</td><td>&quot;81&quot;</td><td>&quot;22&quot;</td><td>&quot;46&quot;</td><td>&quot;60&quot;</td><td>&quot;24&quot;</td><td>&quot;35&quot;</td><td>1087.0</td><td>812.0</td><td>812.0</td><td>&quot;1087&quot;</td><td>&quot;837&quot;</td><td>&quot;937&quot;</td><td>&quot;935&quot;</td><td>937.0</td><td>&quot;937&quot;</td><td>937.0</td><td>965.0</td><td>&quot;965&quot;</td><td>171.0</td><td>1087.0</td><td>362.0</td></tr><tr><td>&quot;null_count&quot;</td><td>&quot;0&quot;</td><td>&quot;134&quot;</td><td>&quot;150&quot;</td><td>&quot;0&quot;</td><td>&quot;213&quot;</td><td>&quot;250&quot;</td><td>&quot;0&quot;</td><td>&quot;59&quot;</td><td>&quot;256&quot;</td><td>&quot;343&quot;</td><td>&quot;122&quot;</td><td>155.0</td><td>&quot;292&quot;</td><td>&quot;705&quot;</td><td>&quot;369&quot;</td><td>&quot;600&quot;</td><td>&quot;322&quot;</td><td>&quot;512&quot;</td><td>&quot;725&quot;</td><td>&quot;509&quot;</td><td>&quot;730&quot;</td><td>&quot;593&quot;</td><td>&quot;991&quot;</td><td>&quot;1018&quot;</td><td>&quot;914&quot;</td><td>&quot;752&quot;</td><td>&quot;1068&quot;</td><td>&quot;991&quot;</td><td>&quot;851&quot;</td><td>&quot;1060&quot;</td><td>&quot;999&quot;</td><td>&quot;1000&quot;</td><td>&quot;1037&quot;</td><td>&quot;981&quot;</td><td>&quot;1043&quot;</td><td>&quot;1006&quot;</td><td>&quot;1065&quot;</td><td>&quot;1041&quot;</td><td>&quot;1027&quot;</td><td>&quot;1063&quot;</td><td>&quot;1052&quot;</td><td>0.0</td><td>275.0</td><td>275.0</td><td>&quot;0&quot;</td><td>&quot;250&quot;</td><td>&quot;150&quot;</td><td>&quot;152&quot;</td><td>150.0</td><td>&quot;150&quot;</td><td>150.0</td><td>122.0</td><td>&quot;122&quot;</td><td>916.0</td><td>0.0</td><td>725.0</td></tr><tr><td>&quot;mean&quot;</td><td>null</td><td>null</td><td>null</td><td>null</td><td>null</td><td>null</td><td>null</td><td>null</td><td>null</td><td>null</td><td>null</td><td>1.54721</td><td>null</td><td>null</td><td>null</td><td>null</td><td>null</td><td>null</td><td>null</td><td>null</td><td>null</td><td>null</td><td>null</td><td>null</td><td>null</td><td>null</td><td>null</td><td>null</td><td>null</td><td>null</td><td>null</td><td>null</td><td>null</td><td>null</td><td>null</td><td>null</td><td>null</td><td>null</td><td>null</td><td>null</td><td>null</td><td>1994.986201</td><td>38.373484</td><td>-41.595373</td><td>null</td><td>null</td><td>null</td><td>null</td><td>53.850374</td><td>null</td><td>48.617289</td><td>89.575171</td><td>null</td><td>101.996491</td><td>1.326587</td><td>3.824006</td></tr><tr><td>&quot;std&quot;</td><td>null</td><td>null</td><td>null</td><td>null</td><td>null</td><td>null</td><td>null</td><td>null</td><td>null</td><td>null</td><td>null</td><td>2.114073</td><td>null</td><td>null</td><td>null</td><td>null</td><td>null</td><td>null</td><td>null</td><td>null</td><td>null</td><td>null</td><td>null</td><td>null</td><td>null</td><td>null</td><td>null</td><td>null</td><td>null</td><td>null</td><td>null</td><td>null</td><td>null</td><td>null</td><td>null</td><td>null</td><td>null</td><td>null</td><td>null</td><td>null</td><td>null</td><td>23.475248</td><td>15.516596</td><td>72.285227</td><td>null</td><td>null</td><td>null</td><td>null</td><td>23.385518</td><td>null</td><td>16.678031</td><td>136.246444</td><td>null</td><td>67.329092</td><td>2.030854</td><td>0.989998</td></tr><tr><td>&quot;min&quot;</td><td>&quot;10 Inversion Roller Coaster&quot;</td><td>&quot;1,000.0 m (3,280.8 ft)&quot;</td><td>&quot;10 mph (16 km/h)&quot;</td><td>&quot;2904 Fantasy Way Myrtle Beach,…</td><td>&quot;Chapter 7 bankruptcy; rides di…</td><td>&quot;1 July 2017&quot;</td><td>&quot;Other&quot;</td><td>&quot;Allan Herschell Company&quot;</td><td>&quot;100 cm (3 ft 3 in)&quot;</td><td>&quot;1000&quot;</td><td>&quot;10 ft (3.0 m)&quot;</td><td>0.0</td><td>&quot;1 Chain lift hill&quot;</td><td>&quot;$1,000,000&quot;</td><td>&quot;1 train containing 10 cars. Ri…</td><td>&quot;1904 World&#x27;s Fair&quot;</td><td>&quot;00:38&quot;</td><td>&quot;1,000 riders per hour&quot;</td><td>&quot;-1,5g and 4,5g&quot;</td><td>&quot;Al CollinsJeff Gramke&quot;</td><td>&quot;100°&quot;</td><td>&quot;100 ft (30 m)&quot;</td><td>&quot;16 December 2011[1]&quot;</td><td>&quot;Fast Lane available&quot;</td><td>&quot;20,000 Leagues Under the Sea: …</td><td>&quot;8 layers laminated wood strips…</td><td>&quot;Fastrack available&quot;</td><td>&quot;16 December 2011[1]&quot;</td><td>&quot;1 September 2019[1]&quot;</td><td>&quot;13 April 1860 (as country esta…</td><td>&quot;Apocalypse: The Ride&quot;</td><td>&quot;Archived Official Website&quot;</td><td>&quot;Flash Pass Available&quot;</td><td>&quot;Must transfer from wheelchair&quot;</td><td>&quot;Africa&quot;</td><td>&quot;Single rider line available&quot;</td><td>&quot;Individual ratcheting lap bar,…</td><td>&quot;Flash Pass available&quot;</td><td>&quot;&quot;0 to 46.6 mph (0 to 75 km/h) …</td><td>&quot;Individual lap bar&quot;</td><td>&quot;Bavarian Mountain Railroad&quot;</td><td>1884.0</td><td>-48.2617</td><td>-123.0357</td><td>&quot;Other&quot;</td><td>&quot;1884-06-16&quot;</td><td>&quot;10 mph &quot;</td><td>&quot;100 km/h&quot;</td><td>5.0</td><td>&quot;km/h&quot;</td><td>5.0</td><td>4.0</td><td>&quot;ft&quot;</td><td>13.1</td><td>0.0</td><td>0.8</td></tr><tr><td>&quot;25%&quot;</td><td>null</td><td>null</td><td>null</td><td>null</td><td>null</td><td>null</td><td>null</td><td>null</td><td>null</td><td>null</td><td>null</td><td>0.0</td><td>null</td><td>null</td><td>null</td><td>null</td><td>null</td><td>null</td><td>null</td><td>null</td><td>null</td><td>null</td><td>null</td><td>null</td><td>null</td><td>null</td><td>null</td><td>null</td><td>null</td><td>null</td><td>null</td><td>null</td><td>null</td><td>null</td><td>null</td><td>null</td><td>null</td><td>null</td><td>null</td><td>null</td><td>null</td><td>1989.0</td><td>35.0312</td><td>-84.5522</td><td>null</td><td>null</td><td>null</td><td>null</td><td>40.0</td><td>null</td><td>37.3</td><td>44.0</td><td>null</td><td>51.8</td><td>0.0</td><td>3.4</td></tr><tr><td>&quot;50%&quot;</td><td>null</td><td>null</td><td>null</td><td>null</td><td>null</td><td>null</td><td>null</td><td>null</td><td>null</td><td>null</td><td>null</td><td>0.0</td><td>null</td><td>null</td><td>null</td><td>null</td><td>null</td><td>null</td><td>null</td><td>null</td><td>null</td><td>null</td><td>null</td><td>null</td><td>null</td><td>null</td><td>null</td><td>null</td><td>null</td><td>null</td><td>null</td><td>null</td><td>null</td><td>null</td><td>null</td><td>null</td><td>null</td><td>null</td><td>null</td><td>null</td><td>null</td><td>2000.0</td><td>40.2899</td><td>-76.6536</td><td>null</td><td>null</td><td>null</td><td>null</td><td>50.0</td><td>null</td><td>49.7</td><td>79.0</td><td>null</td><td>91.2</td><td>0.0</td><td>4.0</td></tr><tr><td>&quot;75%&quot;</td><td>null</td><td>null</td><td>null</td><td>null</td><td>null</td><td>null</td><td>null</td><td>null</td><td>null</td><td>null</td><td>null</td><td>3.0</td><td>null</td><td>null</td><td>null</td><td>null</td><td>null</td><td>null</td><td>null</td><td>null</td><td>null</td><td>null</td><td>null</td><td>null</td><td>null</td><td>null</td><td>null</td><td>null</td><td>null</td><td>null</td><td>null</td><td>null</td><td>null</td><td>null</td><td>null</td><td>null</td><td>null</td><td>null</td><td>null</td><td>null</td><td>null</td><td>2010.0</td><td>44.7996</td><td>2.7777</td><td>null</td><td>null</td><td>null</td><td>null</td><td>63.0</td><td>null</td><td>58.0</td><td>113.0</td><td>null</td><td>131.2</td><td>2.0</td><td>4.5</td></tr><tr><td>&quot;max&quot;</td><td>&quot;Zydeco Scream&quot;</td><td>&quot;975.3 m (3,200 ft)&quot;</td><td>&quot;98.3 km/h (61.1 mph)&quot;</td><td>&quot;Đại Nam Văn Hiến&quot;</td><td>&quot;closed for maintenance as of j…</td><td>&quot;September 8, 1992&quot;</td><td>&quot;– Steel&quot;</td><td>&quot;Zierer&quot;</td><td>&quot;Must be able to straddle seat …</td><td>&quot;wood out-and-back&quot;</td><td>&quot;99 ft (30 m)&quot;</td><td>14.0</td><td>&quot;vertical Chain lift&quot;</td><td>&quot;€8,500,000&quot;</td><td>&quot;single car trains trains with …</td><td>&quot;Đại Cung Lạc Cảnh Hồ&quot;</td><td>&quot;~3:00&quot;</td><td>&quot;~700 riders per hour (Estimate…</td><td>&quot;Between 3 and 4 Gs&quot;</td><td>&quot;Zierer&quot;</td><td>&quot;97°&quot;</td><td>&quot;9 ft (2.7 m)&quot;</td><td>&quot;September 17, 2020&quot;</td><td>&quot;Fast Lane available&quot;</td><td>&quot;Zambezi Zinger&quot;</td><td>&quot;steel twister&quot;</td><td>&quot;Fastrack available&quot;</td><td>&quot;September 17, 2020&quot;</td><td>&quot;September 9, 1945&quot;</td><td>&quot;May 28, 1999; 22 years ago&quot;</td><td>&quot;iSpeed&quot;</td><td>&quot;www.suzukacircuit.jp&quot;</td><td>&quot;Flash Pass Available&quot;</td><td>&quot;Must transfer from wheelchair&quot;</td><td>&quot;Valkyrie&quot;</td><td>&quot;Single rider line available&quot;</td><td>&quot;Seat Belt / Lap Bar&quot;</td><td>&quot;Flash Pass available&quot;</td><td>&quot;6 - 45 mph in 2 seconds&quot;</td><td>&quot;T-bars With Seatbelt&quot;</td><td>&quot;Zambezi Zinger&quot;</td><td>2022.0</td><td>63.2309</td><td>153.4265</td><td>&quot;Wood&quot;</td><td>&quot;2022-03-01&quot;</td><td>&quot;98.3 km/h &quot;</td><td>&quot;99.9 km/h&quot;</td><td>240.0</td><td>&quot;mph&quot;</td><td>149.1</td><td>3937.0</td><td>&quot;m&quot;</td><td>377.3</td><td>14.0</td><td>12.0</td></tr></tbody></table></div>"
      ],
      "text/plain": [
       "shape: (9, 57)\n",
       "┌─────┬─────┬─────┬─────┬─────┬─────┬─────┬─────┬─────┬─────┬─────┬─────┬─────┬─────┬─────┬─────┬─────┬─────┬─────┬─────┬─────┬─────┬─────┬─────┬─────┬─────┬─────┬─────┬─────┬─────┬─────┬─────┬─────┬─────┬─────┬─────┬─────┬─────┬─────┬─────┬─────┬─────┬─────┬─────┬─────┬─────┬─────┬─────┬─────┬─────┬─────┬─────┬─────┬─────┬─────┬─────┬─────┐\n",
       "│ sta ┆ coa ┆ Len ┆ Spe ┆ Loc ┆ Sta ┆ Ope ┆ Typ ┆ Man ┆ Hei ┆ Mod ┆ Hei ┆ Inv ┆ Lif ┆ Cos ┆ Tra ┆ Par ┆ Dur ┆ Cap ┆ G-f ┆ Des ┆ Max ┆ Dro ┆ Sof ┆ Fas ┆ Rep ┆ Tra ┆ Fas ┆ Sof ┆ Clo ┆ Ope ┆ Rep ┆ Web ┆ Fla ┆ Mus ┆ The ┆ Sin ┆ Res ┆ Fla ┆ Acc ┆ Res ┆ Nam ┆ yea ┆ lat ┆ lon ┆ Typ ┆ ope ┆ spe ┆ spe ┆ spe ┆ spe ┆ spe ┆ hei ┆ hei ┆ hei ┆ Inv ┆ Gfo │\n",
       "│ tis ┆ ste ┆ gth ┆ ed  ┆ ati ┆ tus ┆ nin ┆ e   ┆ ufa ┆ ght ┆ el  ┆ ght ┆ ers ┆ t/l ┆ t   ┆ ins ┆ k   ┆ ati ┆ aci ┆ orc ┆ ign ┆ ver ┆ p   ┆ t   ┆ t   ┆ lac ┆ ck  ┆ tra ┆ t   ┆ sin ┆ ned ┆ lac ┆ sit ┆ sh  ┆ t   ┆ me  ┆ gle ┆ tra ┆ sh  ┆ ele ┆ tra ┆ e   ┆ r_i ┆ itu ┆ git ┆ e_M ┆ nin ┆ ed1 ┆ ed2 ┆ ed1 ┆ ed1 ┆ ed_ ┆ ght ┆ ght ┆ ght ┆ ers ┆ rce │\n",
       "│ tic ┆ r_n ┆ --- ┆ --- ┆ on  ┆ --- ┆ g   ┆ --- ┆ ctu ┆ res ┆ --- ┆ --- ┆ ion ┆ aun ┆ --- ┆ --- ┆ sec ┆ on  ┆ ty  ┆ e   ┆ er  ┆ tic ┆ --- ┆ ope ┆ Lan ┆ ed  ┆ lay ┆ ck  ┆ ope ┆ g   ┆ --- ┆ ed  ┆ e   ┆ Pas ┆ tra ┆ --- ┆ rid ┆ int ┆ Pas ┆ rat ┆ int ┆ --- ┆ ntr ┆ de  ┆ ude ┆ ain ┆ g_d ┆ --- ┆ --- ┆ _va ┆ _un ┆ mph ┆ _va ┆ _un ┆ _ft ┆ ion ┆ _cl │\n",
       "│ --- ┆ ame ┆ str ┆ str ┆ --- ┆ str ┆ dat ┆ str ┆ rer ┆ tri ┆ str ┆ str ┆ s   ┆ ch  ┆ str ┆ str ┆ tio ┆ --- ┆ --- ┆ --- ┆ --- ┆ al  ┆ str ┆ nin ┆ e   ┆ --- ┆ out ┆ ava ┆ nin ┆ dat ┆ str ┆ by  ┆ --- ┆ s   ┆ nsf ┆ str ┆ er  ┆ Sty ┆ s   ┆ ion ┆ s   ┆ str ┆ odu ┆ --- ┆ --- ┆ --- ┆ ate ┆ str ┆ str ┆ lue ┆ it  ┆ --- ┆ lue ┆ it  ┆ --- ┆ s_c ┆ ean │\n",
       "│ str ┆ --- ┆     ┆     ┆ str ┆     ┆ e   ┆     ┆ --- ┆ cti ┆     ┆     ┆ --- ┆ sys ┆     ┆     ┆ n   ┆ str ┆ str ┆ str ┆ str ┆ ang ┆     ┆ g   ┆ ava ┆ str ┆ --- ┆ ila ┆ g   ┆ e   ┆     ┆ --- ┆ str ┆ Ava ┆ er  ┆     ┆ lin ┆ le  ┆ ava ┆ --- ┆ --- ┆     ┆ ced ┆ f64 ┆ f64 ┆ str ┆ _cl ┆     ┆     ┆ --- ┆ --- ┆ f64 ┆ --- ┆ --- ┆ f64 ┆ lea ┆ --- │\n",
       "│     ┆ str ┆     ┆     ┆     ┆     ┆ --- ┆     ┆ str ┆ on  ┆     ┆     ┆ f64 ┆ tem ┆     ┆     ┆ --- ┆     ┆     ┆     ┆     ┆ le  ┆     ┆ dat ┆ ila ┆     ┆ str ┆ ble ┆ dat ┆ --- ┆     ┆ str ┆     ┆ ila ┆ fro ┆     ┆ e   ┆ --- ┆ ila ┆ str ┆ str ┆     ┆ --- ┆     ┆     ┆     ┆ ean ┆     ┆     ┆ f64 ┆ str ┆     ┆ f64 ┆ str ┆     ┆ n   ┆ f64 │\n",
       "│     ┆     ┆     ┆     ┆     ┆     ┆ str ┆     ┆     ┆ --- ┆     ┆     ┆     ┆ --- ┆     ┆     ┆ str ┆     ┆     ┆     ┆     ┆ --- ┆     ┆ e   ┆ ble ┆     ┆     ┆ --- ┆ e.1 ┆ str ┆     ┆     ┆     ┆ ble ┆ m   ┆     ┆ ava ┆ str ┆ ble ┆     ┆     ┆     ┆ f64 ┆     ┆     ┆     ┆ --- ┆     ┆     ┆     ┆     ┆     ┆     ┆     ┆     ┆ --- ┆     │\n",
       "│     ┆     ┆     ┆     ┆     ┆     ┆     ┆     ┆     ┆ str ┆     ┆     ┆     ┆ str ┆     ┆     ┆     ┆     ┆     ┆     ┆     ┆ str ┆     ┆ --- ┆ --- ┆     ┆     ┆ str ┆ --- ┆     ┆     ┆     ┆     ┆ --- ┆ whe ┆     ┆ ila ┆     ┆ --- ┆     ┆     ┆     ┆     ┆     ┆     ┆     ┆ str ┆     ┆     ┆     ┆     ┆     ┆     ┆     ┆     ┆ f64 ┆     │\n",
       "│     ┆     ┆     ┆     ┆     ┆     ┆     ┆     ┆     ┆     ┆     ┆     ┆     ┆     ┆     ┆     ┆     ┆     ┆     ┆     ┆     ┆     ┆     ┆ str ┆ str ┆     ┆     ┆     ┆ str ┆     ┆     ┆     ┆     ┆ str ┆ elc ┆     ┆ ble ┆     ┆ str ┆     ┆     ┆     ┆     ┆     ┆     ┆     ┆     ┆     ┆     ┆     ┆     ┆     ┆     ┆     ┆     ┆     ┆     │\n",
       "│     ┆     ┆     ┆     ┆     ┆     ┆     ┆     ┆     ┆     ┆     ┆     ┆     ┆     ┆     ┆     ┆     ┆     ┆     ┆     ┆     ┆     ┆     ┆     ┆     ┆     ┆     ┆     ┆     ┆     ┆     ┆     ┆     ┆     ┆ hai ┆     ┆ --- ┆     ┆     ┆     ┆     ┆     ┆     ┆     ┆     ┆     ┆     ┆     ┆     ┆     ┆     ┆     ┆     ┆     ┆     ┆     ┆     │\n",
       "│     ┆     ┆     ┆     ┆     ┆     ┆     ┆     ┆     ┆     ┆     ┆     ┆     ┆     ┆     ┆     ┆     ┆     ┆     ┆     ┆     ┆     ┆     ┆     ┆     ┆     ┆     ┆     ┆     ┆     ┆     ┆     ┆     ┆     ┆ r   ┆     ┆ str ┆     ┆     ┆     ┆     ┆     ┆     ┆     ┆     ┆     ┆     ┆     ┆     ┆     ┆     ┆     ┆     ┆     ┆     ┆     ┆     │\n",
       "│     ┆     ┆     ┆     ┆     ┆     ┆     ┆     ┆     ┆     ┆     ┆     ┆     ┆     ┆     ┆     ┆     ┆     ┆     ┆     ┆     ┆     ┆     ┆     ┆     ┆     ┆     ┆     ┆     ┆     ┆     ┆     ┆     ┆     ┆ --- ┆     ┆     ┆     ┆     ┆     ┆     ┆     ┆     ┆     ┆     ┆     ┆     ┆     ┆     ┆     ┆     ┆     ┆     ┆     ┆     ┆     ┆     │\n",
       "│     ┆     ┆     ┆     ┆     ┆     ┆     ┆     ┆     ┆     ┆     ┆     ┆     ┆     ┆     ┆     ┆     ┆     ┆     ┆     ┆     ┆     ┆     ┆     ┆     ┆     ┆     ┆     ┆     ┆     ┆     ┆     ┆     ┆     ┆ str ┆     ┆     ┆     ┆     ┆     ┆     ┆     ┆     ┆     ┆     ┆     ┆     ┆     ┆     ┆     ┆     ┆     ┆     ┆     ┆     ┆     ┆     │\n",
       "╞═════╪═════╪═════╪═════╪═════╪═════╪═════╪═════╪═════╪═════╪═════╪═════╪═════╪═════╪═════╪═════╪═════╪═════╪═════╪═════╪═════╪═════╪═════╪═════╪═════╪═════╪═════╪═════╪═════╪═════╪═════╪═════╪═════╪═════╪═════╪═════╪═════╪═════╪═════╪═════╪═════╪═════╪═════╪═════╪═════╪═════╪═════╪═════╪═════╪═════╪═════╪═════╪═════╪═════╪═════╪═════╪═════╡\n",
       "│ cou ┆ 108 ┆ 953 ┆ 937 ┆ 108 ┆ 874 ┆ 837 ┆ 108 ┆ 102 ┆ 831 ┆ 744 ┆ 965 ┆ 932 ┆ 795 ┆ 382 ┆ 718 ┆ 487 ┆ 765 ┆ 575 ┆ 362 ┆ 578 ┆ 357 ┆ 494 ┆ 96  ┆ 69  ┆ 173 ┆ 335 ┆ 19  ┆ 96  ┆ 236 ┆ 27  ┆ 88  ┆ 87  ┆ 50  ┆ 106 ┆ 44  ┆ 81  ┆ 22  ┆ 46  ┆ 60  ┆ 24  ┆ 35  ┆ 108 ┆ 812 ┆ 812 ┆ 108 ┆ 837 ┆ 937 ┆ 935 ┆ 937 ┆ 937 ┆ 937 ┆ 965 ┆ 965 ┆ 171 ┆ 108 ┆ 362 │\n",
       "│ nt  ┆ 7   ┆     ┆     ┆ 7   ┆     ┆     ┆ 7   ┆ 8   ┆     ┆     ┆     ┆ .0  ┆     ┆     ┆     ┆     ┆     ┆     ┆     ┆     ┆     ┆     ┆     ┆     ┆     ┆     ┆     ┆     ┆     ┆     ┆     ┆     ┆     ┆     ┆     ┆     ┆     ┆     ┆     ┆     ┆     ┆ 7.0 ┆ .0  ┆ .0  ┆ 7   ┆     ┆     ┆     ┆ .0  ┆     ┆ .0  ┆ .0  ┆     ┆ .0  ┆ 7.0 ┆ .0  │\n",
       "│ nul ┆ 0   ┆ 134 ┆ 150 ┆ 0   ┆ 213 ┆ 250 ┆ 0   ┆ 59  ┆ 256 ┆ 343 ┆ 122 ┆ 155 ┆ 292 ┆ 705 ┆ 369 ┆ 600 ┆ 322 ┆ 512 ┆ 725 ┆ 509 ┆ 730 ┆ 593 ┆ 991 ┆ 101 ┆ 914 ┆ 752 ┆ 106 ┆ 991 ┆ 851 ┆ 106 ┆ 999 ┆ 100 ┆ 103 ┆ 981 ┆ 104 ┆ 100 ┆ 106 ┆ 104 ┆ 102 ┆ 106 ┆ 105 ┆ 0.0 ┆ 275 ┆ 275 ┆ 0   ┆ 250 ┆ 150 ┆ 152 ┆ 150 ┆ 150 ┆ 150 ┆ 122 ┆ 122 ┆ 916 ┆ 0.0 ┆ 725 │\n",
       "│ l_c ┆     ┆     ┆     ┆     ┆     ┆     ┆     ┆     ┆     ┆     ┆     ┆ .0  ┆     ┆     ┆     ┆     ┆     ┆     ┆     ┆     ┆     ┆     ┆     ┆ 8   ┆     ┆     ┆ 8   ┆     ┆     ┆ 0   ┆     ┆ 0   ┆ 7   ┆     ┆ 3   ┆ 6   ┆ 5   ┆ 1   ┆ 7   ┆ 3   ┆ 2   ┆     ┆ .0  ┆ .0  ┆     ┆     ┆     ┆     ┆ .0  ┆     ┆ .0  ┆ .0  ┆     ┆ .0  ┆     ┆ .0  │\n",
       "│ oun ┆     ┆     ┆     ┆     ┆     ┆     ┆     ┆     ┆     ┆     ┆     ┆     ┆     ┆     ┆     ┆     ┆     ┆     ┆     ┆     ┆     ┆     ┆     ┆     ┆     ┆     ┆     ┆     ┆     ┆     ┆     ┆     ┆     ┆     ┆     ┆     ┆     ┆     ┆     ┆     ┆     ┆     ┆     ┆     ┆     ┆     ┆     ┆     ┆     ┆     ┆     ┆     ┆     ┆     ┆     ┆     │\n",
       "│ t   ┆     ┆     ┆     ┆     ┆     ┆     ┆     ┆     ┆     ┆     ┆     ┆     ┆     ┆     ┆     ┆     ┆     ┆     ┆     ┆     ┆     ┆     ┆     ┆     ┆     ┆     ┆     ┆     ┆     ┆     ┆     ┆     ┆     ┆     ┆     ┆     ┆     ┆     ┆     ┆     ┆     ┆     ┆     ┆     ┆     ┆     ┆     ┆     ┆     ┆     ┆     ┆     ┆     ┆     ┆     ┆     │\n",
       "│ mea ┆ nul ┆ nul ┆ nul ┆ nul ┆ nul ┆ nul ┆ nul ┆ nul ┆ nul ┆ nul ┆ nul ┆ 1.5 ┆ nul ┆ nul ┆ nul ┆ nul ┆ nul ┆ nul ┆ nul ┆ nul ┆ nul ┆ nul ┆ nul ┆ nul ┆ nul ┆ nul ┆ nul ┆ nul ┆ nul ┆ nul ┆ nul ┆ nul ┆ nul ┆ nul ┆ nul ┆ nul ┆ nul ┆ nul ┆ nul ┆ nul ┆ nul ┆ 199 ┆ 38. ┆ -41 ┆ nul ┆ nul ┆ nul ┆ nul ┆ 53. ┆ nul ┆ 48. ┆ 89. ┆ nul ┆ 101 ┆ 1.3 ┆ 3.8 │\n",
       "│ n   ┆ l   ┆ l   ┆ l   ┆ l   ┆ l   ┆ l   ┆ l   ┆ l   ┆ l   ┆ l   ┆ l   ┆ 472 ┆ l   ┆ l   ┆ l   ┆ l   ┆ l   ┆ l   ┆ l   ┆ l   ┆ l   ┆ l   ┆ l   ┆ l   ┆ l   ┆ l   ┆ l   ┆ l   ┆ l   ┆ l   ┆ l   ┆ l   ┆ l   ┆ l   ┆ l   ┆ l   ┆ l   ┆ l   ┆ l   ┆ l   ┆ l   ┆ 4.9 ┆ 373 ┆ .59 ┆ l   ┆ l   ┆ l   ┆ l   ┆ 850 ┆ l   ┆ 617 ┆ 575 ┆ l   ┆ .99 ┆ 265 ┆ 240 │\n",
       "│     ┆     ┆     ┆     ┆     ┆     ┆     ┆     ┆     ┆     ┆     ┆     ┆ 1   ┆     ┆     ┆     ┆     ┆     ┆     ┆     ┆     ┆     ┆     ┆     ┆     ┆     ┆     ┆     ┆     ┆     ┆     ┆     ┆     ┆     ┆     ┆     ┆     ┆     ┆     ┆     ┆     ┆     ┆ 862 ┆ 484 ┆ 537 ┆     ┆     ┆     ┆     ┆ 374 ┆     ┆ 289 ┆ 171 ┆     ┆ 649 ┆ 87  ┆ 06  │\n",
       "│     ┆     ┆     ┆     ┆     ┆     ┆     ┆     ┆     ┆     ┆     ┆     ┆     ┆     ┆     ┆     ┆     ┆     ┆     ┆     ┆     ┆     ┆     ┆     ┆     ┆     ┆     ┆     ┆     ┆     ┆     ┆     ┆     ┆     ┆     ┆     ┆     ┆     ┆     ┆     ┆     ┆     ┆ 01  ┆     ┆ 3   ┆     ┆     ┆     ┆     ┆     ┆     ┆     ┆     ┆     ┆ 1   ┆     ┆     │\n",
       "│ std ┆ nul ┆ nul ┆ nul ┆ nul ┆ nul ┆ nul ┆ nul ┆ nul ┆ nul ┆ nul ┆ nul ┆ 2.1 ┆ nul ┆ nul ┆ nul ┆ nul ┆ nul ┆ nul ┆ nul ┆ nul ┆ nul ┆ nul ┆ nul ┆ nul ┆ nul ┆ nul ┆ nul ┆ nul ┆ nul ┆ nul ┆ nul ┆ nul ┆ nul ┆ nul ┆ nul ┆ nul ┆ nul ┆ nul ┆ nul ┆ nul ┆ nul ┆ 23. ┆ 15. ┆ 72. ┆ nul ┆ nul ┆ nul ┆ nul ┆ 23. ┆ nul ┆ 16. ┆ 136 ┆ nul ┆ 67. ┆ 2.0 ┆ 0.9 │\n",
       "│     ┆ l   ┆ l   ┆ l   ┆ l   ┆ l   ┆ l   ┆ l   ┆ l   ┆ l   ┆ l   ┆ l   ┆ 140 ┆ l   ┆ l   ┆ l   ┆ l   ┆ l   ┆ l   ┆ l   ┆ l   ┆ l   ┆ l   ┆ l   ┆ l   ┆ l   ┆ l   ┆ l   ┆ l   ┆ l   ┆ l   ┆ l   ┆ l   ┆ l   ┆ l   ┆ l   ┆ l   ┆ l   ┆ l   ┆ l   ┆ l   ┆ l   ┆ 475 ┆ 516 ┆ 285 ┆ l   ┆ l   ┆ l   ┆ l   ┆ 385 ┆ l   ┆ 678 ┆ .24 ┆ l   ┆ 329 ┆ 308 ┆ 899 │\n",
       "│     ┆     ┆     ┆     ┆     ┆     ┆     ┆     ┆     ┆     ┆     ┆     ┆ 73  ┆     ┆     ┆     ┆     ┆     ┆     ┆     ┆     ┆     ┆     ┆     ┆     ┆     ┆     ┆     ┆     ┆     ┆     ┆     ┆     ┆     ┆     ┆     ┆     ┆     ┆     ┆     ┆     ┆     ┆ 248 ┆ 596 ┆ 227 ┆     ┆     ┆     ┆     ┆ 518 ┆     ┆ 031 ┆ 644 ┆     ┆ 092 ┆ 54  ┆ 98  │\n",
       "│     ┆     ┆     ┆     ┆     ┆     ┆     ┆     ┆     ┆     ┆     ┆     ┆     ┆     ┆     ┆     ┆     ┆     ┆     ┆     ┆     ┆     ┆     ┆     ┆     ┆     ┆     ┆     ┆     ┆     ┆     ┆     ┆     ┆     ┆     ┆     ┆     ┆     ┆     ┆     ┆     ┆     ┆     ┆     ┆     ┆     ┆     ┆     ┆     ┆     ┆     ┆     ┆ 4   ┆     ┆     ┆     ┆     │\n",
       "│ min ┆ 10  ┆ 1,0 ┆ 10  ┆ 290 ┆ Cha ┆ 1   ┆ Oth ┆ All ┆ 100 ┆ 100 ┆ 10  ┆ 0.0 ┆ 1   ┆ $1, ┆ 1   ┆ 190 ┆ 00: ┆ 1,0 ┆ -1, ┆ Al  ┆ 100 ┆ 100 ┆ 16  ┆ Fas ┆ 20, ┆ 8   ┆ Fas ┆ 16  ┆ 1   ┆ 13  ┆ Apo ┆ Arc ┆ Fla ┆ Mus ┆ Afr ┆ Sin ┆ Ind ┆ Fla ┆ \"0  ┆ Ind ┆ Bav ┆ 188 ┆ -48 ┆ -12 ┆ Oth ┆ 188 ┆ 10  ┆ 100 ┆ 5.0 ┆ km/ ┆ 5.0 ┆ 4.0 ┆ ft  ┆ 13. ┆ 0.0 ┆ 0.8 │\n",
       "│     ┆ Inv ┆ 00. ┆ mph ┆ 4   ┆ pte ┆ Jul ┆ er  ┆ an  ┆  cm ┆ 0   ┆ ft  ┆     ┆ Cha ┆ 000 ┆ tra ┆ 4   ┆ 38  ┆ 00  ┆ 5g  ┆ Col ┆ °   ┆  ft ┆ Dec ┆ t   ┆ 000 ┆ lay ┆ tra ┆ Dec ┆ Sep ┆ Apr ┆ cal ┆ hiv ┆ sh  ┆ t   ┆ ica ┆ gle ┆ ivi ┆ sh  ┆ to  ┆ ivi ┆ ari ┆ 4.0 ┆ .26 ┆ 3.0 ┆ er  ┆ 4-0 ┆ mph ┆ km/ ┆     ┆ h   ┆     ┆     ┆     ┆ 1   ┆     ┆     │\n",
       "│     ┆ ers ┆ 0 m ┆ (16 ┆ Fan ┆ r 7 ┆ y   ┆     ┆ Her ┆ (3  ┆     ┆ (3. ┆     ┆ in  ┆ ,00 ┆ in  ┆ Wor ┆     ┆ rid ┆ and ┆ lin ┆     ┆ (30 ┆ emb ┆ Lan ┆ Lea ┆ ers ┆ ck  ┆ emb ┆ tem ┆ il  ┆ yps ┆ ed  ┆ Pas ┆ tra ┆     ┆ rid ┆ dua ┆ Pas ┆ 46. ┆ dua ┆ an  ┆     ┆ 17  ┆ 357 ┆     ┆ 6-1 ┆     ┆ h   ┆     ┆     ┆     ┆     ┆     ┆     ┆     ┆     │\n",
       "│     ┆ ion ┆ (3, ┆ km/ ┆ tas ┆ ban ┆ 201 ┆     ┆ sch ┆ ft  ┆     ┆ 0   ┆     ┆ lif ┆ 0   ┆ con ┆ ld' ┆     ┆ ers ┆ 4,5 ┆ sJe ┆     ┆  m) ┆ er  ┆ e   ┆ gue ┆ lam ┆ ava ┆ er  ┆ ber ┆ 186 ┆ e:  ┆ Off ┆ s   ┆ nsf ┆     ┆ er  ┆ l   ┆ s   ┆ 6   ┆ l   ┆ Mou ┆     ┆     ┆     ┆     ┆ 6   ┆     ┆     ┆     ┆     ┆     ┆     ┆     ┆     ┆     ┆     │\n",
       "│     ┆ Rol ┆ 280 ┆ h)  ┆ y   ┆ kru ┆ 7   ┆     ┆ ell ┆ 3 i ┆     ┆ m)  ┆     ┆ t   ┆     ┆ tai ┆ s   ┆     ┆ per ┆ g   ┆ ff  ┆     ┆     ┆ 201 ┆ ava ┆ s   ┆ ina ┆ ila ┆ 201 ┆ 201 ┆ 0   ┆ The ┆ ici ┆ Ava ┆ er  ┆     ┆ lin ┆ rat ┆ ava ┆ mph ┆ lap ┆ nta ┆     ┆     ┆     ┆     ┆     ┆     ┆     ┆     ┆     ┆     ┆     ┆     ┆     ┆     ┆     │\n",
       "│     ┆ ler ┆ .8  ┆     ┆ Way ┆ ptc ┆     ┆     ┆ Com ┆ n)  ┆     ┆     ┆     ┆ hil ┆     ┆ nin ┆ Fai ┆     ┆ hou ┆     ┆ Gra ┆     ┆     ┆ 1[1 ┆ ila ┆ Und ┆ ted ┆ ble ┆ 1[1 ┆ 9[1 ┆ (as ┆ Rid ┆ al  ┆ ila ┆ fro ┆     ┆ e   ┆ che ┆ ila ┆ (0  ┆ bar ┆ in  ┆     ┆     ┆     ┆     ┆     ┆     ┆     ┆     ┆     ┆     ┆     ┆     ┆     ┆     ┆     │\n",
       "│     ┆ Coa ┆ ft) ┆     ┆ Myr ┆ y;  ┆     ┆     ┆ pan ┆     ┆     ┆     ┆     ┆ l   ┆     ┆ g   ┆ r   ┆     ┆ r   ┆     ┆ mke ┆     ┆     ┆ ]   ┆ ble ┆ er  ┆ woo ┆     ┆ ]   ┆ ]   ┆ cou ┆ e   ┆ Web ┆ ble ┆ m   ┆     ┆ ava ┆ tin ┆ ble ┆ to  ┆     ┆ Rai ┆     ┆     ┆     ┆     ┆     ┆     ┆     ┆     ┆     ┆     ┆     ┆     ┆     ┆     ┆     │\n",
       "│     ┆ ste ┆     ┆     ┆ tle ┆ rid ┆     ┆     ┆ y   ┆     ┆     ┆     ┆     ┆     ┆     ┆ 10  ┆     ┆     ┆     ┆     ┆     ┆     ┆     ┆     ┆     ┆ the ┆ d   ┆     ┆     ┆     ┆ ntr ┆     ┆ sit ┆     ┆ whe ┆     ┆ ila ┆ g   ┆     ┆ 75  ┆     ┆ lro ┆     ┆     ┆     ┆     ┆     ┆     ┆     ┆     ┆     ┆     ┆     ┆     ┆     ┆     ┆     │\n",
       "│     ┆ r   ┆     ┆     ┆ Bea ┆ es  ┆     ┆     ┆     ┆     ┆     ┆     ┆     ┆     ┆     ┆ car ┆     ┆     ┆     ┆     ┆     ┆     ┆     ┆     ┆     ┆ Sea ┆ str ┆     ┆     ┆     ┆ y   ┆     ┆ e   ┆     ┆ elc ┆     ┆ ble ┆ lap ┆     ┆ km/ ┆     ┆ ad  ┆     ┆     ┆     ┆     ┆     ┆     ┆     ┆     ┆     ┆     ┆     ┆     ┆     ┆     ┆     │\n",
       "│     ┆     ┆     ┆     ┆ ch, ┆ di… ┆     ┆     ┆     ┆     ┆     ┆     ┆     ┆     ┆     ┆ s.  ┆     ┆     ┆     ┆     ┆     ┆     ┆     ┆     ┆     ┆ : … ┆ ips ┆     ┆     ┆     ┆ est ┆     ┆     ┆     ┆ hai ┆     ┆     ┆ bar ┆     ┆ h)  ┆     ┆     ┆     ┆     ┆     ┆     ┆     ┆     ┆     ┆     ┆     ┆     ┆     ┆     ┆     ┆     ┆     │\n",
       "│     ┆     ┆     ┆     ┆ …   ┆     ┆     ┆     ┆     ┆     ┆     ┆     ┆     ┆     ┆     ┆ Ri… ┆     ┆     ┆     ┆     ┆     ┆     ┆     ┆     ┆     ┆     ┆ …   ┆     ┆     ┆     ┆ a…  ┆     ┆     ┆     ┆ r   ┆     ┆     ┆ ,…  ┆     ┆ …   ┆     ┆     ┆     ┆     ┆     ┆     ┆     ┆     ┆     ┆     ┆     ┆     ┆     ┆     ┆     ┆     ┆     │\n",
       "│ 25% ┆ nul ┆ nul ┆ nul ┆ nul ┆ nul ┆ nul ┆ nul ┆ nul ┆ nul ┆ nul ┆ nul ┆ 0.0 ┆ nul ┆ nul ┆ nul ┆ nul ┆ nul ┆ nul ┆ nul ┆ nul ┆ nul ┆ nul ┆ nul ┆ nul ┆ nul ┆ nul ┆ nul ┆ nul ┆ nul ┆ nul ┆ nul ┆ nul ┆ nul ┆ nul ┆ nul ┆ nul ┆ nul ┆ nul ┆ nul ┆ nul ┆ nul ┆ 198 ┆ 35. ┆ -84 ┆ nul ┆ nul ┆ nul ┆ nul ┆ 40. ┆ nul ┆ 37. ┆ 44. ┆ nul ┆ 51. ┆ 0.0 ┆ 3.4 │\n",
       "│     ┆ l   ┆ l   ┆ l   ┆ l   ┆ l   ┆ l   ┆ l   ┆ l   ┆ l   ┆ l   ┆ l   ┆     ┆ l   ┆ l   ┆ l   ┆ l   ┆ l   ┆ l   ┆ l   ┆ l   ┆ l   ┆ l   ┆ l   ┆ l   ┆ l   ┆ l   ┆ l   ┆ l   ┆ l   ┆ l   ┆ l   ┆ l   ┆ l   ┆ l   ┆ l   ┆ l   ┆ l   ┆ l   ┆ l   ┆ l   ┆ l   ┆ 9.0 ┆ 031 ┆ .55 ┆ l   ┆ l   ┆ l   ┆ l   ┆ 0   ┆ l   ┆ 3   ┆ 0   ┆ l   ┆ 8   ┆     ┆     │\n",
       "│     ┆     ┆     ┆     ┆     ┆     ┆     ┆     ┆     ┆     ┆     ┆     ┆     ┆     ┆     ┆     ┆     ┆     ┆     ┆     ┆     ┆     ┆     ┆     ┆     ┆     ┆     ┆     ┆     ┆     ┆     ┆     ┆     ┆     ┆     ┆     ┆     ┆     ┆     ┆     ┆     ┆     ┆     ┆ 2   ┆ 22  ┆     ┆     ┆     ┆     ┆     ┆     ┆     ┆     ┆     ┆     ┆     ┆     │\n",
       "│ 50% ┆ nul ┆ nul ┆ nul ┆ nul ┆ nul ┆ nul ┆ nul ┆ nul ┆ nul ┆ nul ┆ nul ┆ 0.0 ┆ nul ┆ nul ┆ nul ┆ nul ┆ nul ┆ nul ┆ nul ┆ nul ┆ nul ┆ nul ┆ nul ┆ nul ┆ nul ┆ nul ┆ nul ┆ nul ┆ nul ┆ nul ┆ nul ┆ nul ┆ nul ┆ nul ┆ nul ┆ nul ┆ nul ┆ nul ┆ nul ┆ nul ┆ nul ┆ 200 ┆ 40. ┆ -76 ┆ nul ┆ nul ┆ nul ┆ nul ┆ 50. ┆ nul ┆ 49. ┆ 79. ┆ nul ┆ 91. ┆ 0.0 ┆ 4.0 │\n",
       "│     ┆ l   ┆ l   ┆ l   ┆ l   ┆ l   ┆ l   ┆ l   ┆ l   ┆ l   ┆ l   ┆ l   ┆     ┆ l   ┆ l   ┆ l   ┆ l   ┆ l   ┆ l   ┆ l   ┆ l   ┆ l   ┆ l   ┆ l   ┆ l   ┆ l   ┆ l   ┆ l   ┆ l   ┆ l   ┆ l   ┆ l   ┆ l   ┆ l   ┆ l   ┆ l   ┆ l   ┆ l   ┆ l   ┆ l   ┆ l   ┆ l   ┆ 0.0 ┆ 289 ┆ .65 ┆ l   ┆ l   ┆ l   ┆ l   ┆ 0   ┆ l   ┆ 7   ┆ 0   ┆ l   ┆ 2   ┆     ┆     │\n",
       "│     ┆     ┆     ┆     ┆     ┆     ┆     ┆     ┆     ┆     ┆     ┆     ┆     ┆     ┆     ┆     ┆     ┆     ┆     ┆     ┆     ┆     ┆     ┆     ┆     ┆     ┆     ┆     ┆     ┆     ┆     ┆     ┆     ┆     ┆     ┆     ┆     ┆     ┆     ┆     ┆     ┆     ┆     ┆ 9   ┆ 36  ┆     ┆     ┆     ┆     ┆     ┆     ┆     ┆     ┆     ┆     ┆     ┆     │\n",
       "│ 75% ┆ nul ┆ nul ┆ nul ┆ nul ┆ nul ┆ nul ┆ nul ┆ nul ┆ nul ┆ nul ┆ nul ┆ 3.0 ┆ nul ┆ nul ┆ nul ┆ nul ┆ nul ┆ nul ┆ nul ┆ nul ┆ nul ┆ nul ┆ nul ┆ nul ┆ nul ┆ nul ┆ nul ┆ nul ┆ nul ┆ nul ┆ nul ┆ nul ┆ nul ┆ nul ┆ nul ┆ nul ┆ nul ┆ nul ┆ nul ┆ nul ┆ nul ┆ 201 ┆ 44. ┆ 2.7 ┆ nul ┆ nul ┆ nul ┆ nul ┆ 63. ┆ nul ┆ 58. ┆ 113 ┆ nul ┆ 131 ┆ 2.0 ┆ 4.5 │\n",
       "│     ┆ l   ┆ l   ┆ l   ┆ l   ┆ l   ┆ l   ┆ l   ┆ l   ┆ l   ┆ l   ┆ l   ┆     ┆ l   ┆ l   ┆ l   ┆ l   ┆ l   ┆ l   ┆ l   ┆ l   ┆ l   ┆ l   ┆ l   ┆ l   ┆ l   ┆ l   ┆ l   ┆ l   ┆ l   ┆ l   ┆ l   ┆ l   ┆ l   ┆ l   ┆ l   ┆ l   ┆ l   ┆ l   ┆ l   ┆ l   ┆ l   ┆ 0.0 ┆ 799 ┆ 777 ┆ l   ┆ l   ┆ l   ┆ l   ┆ 0   ┆ l   ┆ 0   ┆ .0  ┆ l   ┆ .2  ┆     ┆     │\n",
       "│     ┆     ┆     ┆     ┆     ┆     ┆     ┆     ┆     ┆     ┆     ┆     ┆     ┆     ┆     ┆     ┆     ┆     ┆     ┆     ┆     ┆     ┆     ┆     ┆     ┆     ┆     ┆     ┆     ┆     ┆     ┆     ┆     ┆     ┆     ┆     ┆     ┆     ┆     ┆     ┆     ┆     ┆     ┆ 6   ┆     ┆     ┆     ┆     ┆     ┆     ┆     ┆     ┆     ┆     ┆     ┆     ┆     │\n",
       "│ max ┆ Zyd ┆ 975 ┆ 98. ┆ Đại ┆ clo ┆ Sep ┆ –   ┆ Zie ┆ Mus ┆ woo ┆ 99  ┆ 14. ┆ ver ┆ €8, ┆ sin ┆ Đại ┆ ~3: ┆ ~70 ┆ Bet ┆ Zie ┆ 97° ┆ 9 f ┆ Sep ┆ Fas ┆ Zam ┆ ste ┆ Fas ┆ Sep ┆ Sep ┆ May ┆ iSp ┆ www ┆ Fla ┆ Mus ┆ Val ┆ Sin ┆ Sea ┆ Fla ┆ 6 - ┆ T-b ┆ Zam ┆ 202 ┆ 63. ┆ 153 ┆ Woo ┆ 202 ┆ 98. ┆ 99. ┆ 240 ┆ mph ┆ 149 ┆ 393 ┆ m   ┆ 377 ┆ 14. ┆ 12. │\n",
       "│     ┆ eco ┆ .3  ┆ 3   ┆ Nam ┆ sed ┆ tem ┆ Ste ┆ rer ┆ t   ┆ d   ┆ ft  ┆ 0   ┆ tic ┆ 500 ┆ gle ┆ Cun ┆ 00  ┆ 0   ┆ wee ┆ rer ┆     ┆ t   ┆ tem ┆ t   ┆ bez ┆ el  ┆ tra ┆ tem ┆ tem ┆  28 ┆ eed ┆ .su ┆ sh  ┆ t   ┆ kyr ┆ gle ┆ t   ┆ sh  ┆ 45  ┆ ars ┆ bez ┆ 2.0 ┆ 230 ┆ .42 ┆ d   ┆ 2-0 ┆ 3   ┆ 9   ┆ .0  ┆     ┆ .1  ┆ 7.0 ┆     ┆ .3  ┆ 0   ┆ 0   │\n",
       "│     ┆ Scr ┆ m   ┆ km/ ┆ Văn ┆ for ┆ ber ┆ el  ┆     ┆ be  ┆ out ┆ (30 ┆     ┆ al  ┆ ,00 ┆ car ┆ g   ┆     ┆ rid ┆ n 3 ┆     ┆     ┆ (2. ┆ ber ┆ Lan ┆ i   ┆ twi ┆ ck  ┆ ber ┆ ber ┆ ,   ┆     ┆ zuk ┆ Pas ┆ tra ┆ ie  ┆ rid ┆ Bel ┆ Pas ┆ mph ┆ Wit ┆ i   ┆     ┆ 9   ┆ 65  ┆     ┆ 3-0 ┆ km/ ┆ km/ ┆     ┆     ┆     ┆     ┆     ┆     ┆     ┆     │\n",
       "│     ┆ eam ┆ (3, ┆ h   ┆ Hiế ┆ mai ┆  8, ┆     ┆     ┆ abl ┆ -an ┆ m)  ┆     ┆ Cha ┆ 0   ┆ tra ┆ Lạc ┆     ┆ ers ┆ and ┆     ┆     ┆ 7 m ┆  17 ┆ e   ┆ Zin ┆ ste ┆ ava ┆  17 ┆  9, ┆ 199 ┆     ┆ aci ┆ s   ┆ nsf ┆     ┆ er  ┆ t / ┆ s   ┆ in  ┆ h   ┆ Zin ┆     ┆     ┆     ┆     ┆ 1   ┆ h   ┆ h   ┆     ┆     ┆     ┆     ┆     ┆     ┆     ┆     │\n",
       "│     ┆     ┆ 200 ┆ (61 ┆ n   ┆ nte ┆  19 ┆     ┆     ┆ e   ┆ d-b ┆     ┆     ┆ in  ┆     ┆ ins ┆ Cản ┆     ┆ per ┆ 4   ┆     ┆     ┆ )   ┆ , 2 ┆ ava ┆ ger ┆ r   ┆ ila ┆ , 2 ┆  19 ┆ 9;  ┆     ┆ rcu ┆ Ava ┆ er  ┆     ┆ lin ┆ Lap ┆ ava ┆ 2   ┆ Sea ┆ ger ┆     ┆     ┆     ┆     ┆     ┆     ┆     ┆     ┆     ┆     ┆     ┆     ┆     ┆     ┆     │\n",
       "│     ┆     ┆  ft ┆ .1  ┆     ┆ nan ┆ 92  ┆     ┆     ┆ to  ┆ ack ┆     ┆     ┆ lif ┆     ┆ tra ┆ h   ┆     ┆ hou ┆ Gs  ┆     ┆     ┆     ┆ 020 ┆ ila ┆     ┆     ┆ ble ┆ 020 ┆ 45  ┆ 22  ┆     ┆ it. ┆ ila ┆ fro ┆     ┆ e   ┆ Bar ┆ ila ┆ sec ┆ tbe ┆     ┆     ┆     ┆     ┆     ┆     ┆     ┆     ┆     ┆     ┆     ┆     ┆     ┆     ┆     ┆     │\n",
       "│     ┆     ┆ )   ┆ mph ┆     ┆ ce  ┆     ┆     ┆     ┆ str ┆     ┆     ┆     ┆ t   ┆     ┆ ins ┆ Hồ  ┆     ┆ r   ┆     ┆     ┆     ┆     ┆     ┆ ble ┆     ┆     ┆     ┆     ┆     ┆ yea ┆     ┆ jp  ┆ ble ┆ m   ┆     ┆ ava ┆     ┆ ble ┆ ond ┆ lt  ┆     ┆     ┆     ┆     ┆     ┆     ┆     ┆     ┆     ┆     ┆     ┆     ┆     ┆     ┆     ┆     │\n",
       "│     ┆     ┆     ┆ )   ┆     ┆ as  ┆     ┆     ┆     ┆ add ┆     ┆     ┆     ┆     ┆     ┆ wit ┆     ┆     ┆ (Es ┆     ┆     ┆     ┆     ┆     ┆     ┆     ┆     ┆     ┆     ┆     ┆ rs  ┆     ┆     ┆     ┆ whe ┆     ┆ ila ┆     ┆     ┆ s   ┆     ┆     ┆     ┆     ┆     ┆     ┆     ┆     ┆     ┆     ┆     ┆     ┆     ┆     ┆     ┆     ┆     │\n",
       "│     ┆     ┆     ┆     ┆     ┆ of  ┆     ┆     ┆     ┆ le  ┆     ┆     ┆     ┆     ┆     ┆ h … ┆     ┆     ┆ tim ┆     ┆     ┆     ┆     ┆     ┆     ┆     ┆     ┆     ┆     ┆     ┆ ago ┆     ┆     ┆     ┆ elc ┆     ┆ ble ┆     ┆     ┆     ┆     ┆     ┆     ┆     ┆     ┆     ┆     ┆     ┆     ┆     ┆     ┆     ┆     ┆     ┆     ┆     ┆     │\n",
       "│     ┆     ┆     ┆     ┆     ┆ j…  ┆     ┆     ┆     ┆ sea ┆     ┆     ┆     ┆     ┆     ┆     ┆     ┆     ┆ ate ┆     ┆     ┆     ┆     ┆     ┆     ┆     ┆     ┆     ┆     ┆     ┆     ┆     ┆     ┆     ┆ hai ┆     ┆     ┆     ┆     ┆     ┆     ┆     ┆     ┆     ┆     ┆     ┆     ┆     ┆     ┆     ┆     ┆     ┆     ┆     ┆     ┆     ┆     │\n",
       "│     ┆     ┆     ┆     ┆     ┆     ┆     ┆     ┆     ┆ t … ┆     ┆     ┆     ┆     ┆     ┆     ┆     ┆     ┆ …   ┆     ┆     ┆     ┆     ┆     ┆     ┆     ┆     ┆     ┆     ┆     ┆     ┆     ┆     ┆     ┆ r   ┆     ┆     ┆     ┆     ┆     ┆     ┆     ┆     ┆     ┆     ┆     ┆     ┆     ┆     ┆     ┆     ┆     ┆     ┆     ┆     ┆     ┆     │\n",
       "└─────┴─────┴─────┴─────┴─────┴─────┴─────┴─────┴─────┴─────┴─────┴─────┴─────┴─────┴─────┴─────┴─────┴─────┴─────┴─────┴─────┴─────┴─────┴─────┴─────┴─────┴─────┴─────┴─────┴─────┴─────┴─────┴─────┴─────┴─────┴─────┴─────┴─────┴─────┴─────┴─────┴─────┴─────┴─────┴─────┴─────┴─────┴─────┴─────┴─────┴─────┴─────┴─────┴─────┴─────┴─────┴─────┘"
      ]
     },
     "execution_count": 8,
     "metadata": {},
     "output_type": "execute_result"
    }
   ],
   "source": [
    "df.describe()"
   ]
  },
  {
   "cell_type": "markdown",
   "id": "bfcd8290",
   "metadata": {},
   "source": [
    "### Step 2: Data Preperation\n",
    "* Dropping irrelevant columns and rows\n",
    "* Identifying duplicated columns\n",
    "* Renaming Columns"
   ]
  },
  {
   "cell_type": "code",
   "execution_count": 3,
   "id": "4a5f6635",
   "metadata": {},
   "outputs": [],
   "source": [
    "# Filtering out columns that won't be used in the analysis\n",
    "coaster = df[\n",
    "    [\n",
    "        \"coaster_name\",\n",
    "        # 'Length', 'Speed',\n",
    "        \"Location\",\n",
    "        \"Status\",\n",
    "        # 'Opening date',\n",
    "        #   'Type',\n",
    "        \"Manufacturer\",\n",
    "        #        'Inversions', 'G-force', # Using the clean data columns for these\n",
    "        \"year_introduced\",\n",
    "        \"Cost\",\n",
    "        \"latitude\",\n",
    "        \"longitude\",\n",
    "        \"Type_Main\",\n",
    "        \"opening_date_clean\",\n",
    "        #'speed1', 'speed2', 'speed1_value', 'speed1_unit', --- taken out due to the main speed_mph column (repetitive information)\n",
    "        \"speed_mph\",\n",
    "        #'height_value', 'height_unit', --- taken out due to the main height_ft column (repetitive information)\n",
    "        \"height_ft\",\n",
    "        \"Inversions_clean\",\n",
    "        \"Gforce_clean\",\n",
    "    ]\n",
    "].clone()"
   ]
  },
  {
   "cell_type": "code",
   "execution_count": 4,
   "id": "51f157a1",
   "metadata": {},
   "outputs": [],
   "source": [
    "# Changing the opening date data type to -- datetime\n",
    "coaster = coaster.with_columns(\n",
    "    pl.col(\"opening_date_clean\")\n",
    "    .str.to_datetime(strict=False)  # parse to datetime\n",
    "    .dt.date()  # keep only the date part (removing time)\n",
    "    .alias(\"opening_date_clean\")\n",
    ")"
   ]
  },
  {
   "cell_type": "code",
   "execution_count": 5,
   "id": "c171c268",
   "metadata": {},
   "outputs": [],
   "source": [
    "# Fixing the datatype of the speed column\n",
    "coaster = coaster.with_columns(pl.col(\"speed_mph\").cast(pl.Float64, strict=False))"
   ]
  },
  {
   "cell_type": "code",
   "execution_count": null,
   "id": "be233bb9",
   "metadata": {},
   "outputs": [],
   "source": [
    "# Cleaning out the cost column using regular expressions\n",
    "coaster = coaster.with_columns(\n",
    "    pl.col(\"Cost\")\n",
    "    .cast(pl.Utf8)\n",
    "    .str.to_lowercase()\n",
    "    # remove references/annotations\n",
    "    .str.replace_all(r\"\\[.*?\\]|\\(.*?\\)|approx.*|about.*|rebuild.*|est.*\", \"\")\n",
    "    # normalize currency markers\n",
    "    .str.replace_all(r\"us\\$|usd|\\$\", \" USD \")\n",
    "    .str.replace_all(r\"£|gbp\", \" GBP \")\n",
    "    .str.replace_all(r\"€|eur\", \" EUR \")\n",
    "    .str.replace_all(r\"¥|yen|jpy\", \" JPY \")\n",
    "    .str.replace_all(r\"rmb|cny\", \" CNY \")\n",
    "    .str.replace_all(r\"sek\", \" SEK \")\n",
    "    .str.replace_all(r\"aud|a\\$\", \" AUD \")\n",
    "    .str.replace_all(r\"cad|c\\$\", \" CAD \")\n",
    "    # --- handle multipliers BEFORE extraction ---\n",
    "    .str.replace_all(r\" billion\", \"e9\")\n",
    "    .str.replace_all(r\" million\", \"e6\")\n",
    "    .str.replace_all(r\"\\bm\\b\", \"e6\")\n",
    "    # fix European style (26.000.000 → 26,000,000)\n",
    "    .str.replace_all(r\"(\\d)\\.(\\d{3})(\\D|$)\", r\"\\1,\\2\\3\")\n",
    "    # extract first number or scientific\n",
    "    .str.extract(r\"([\\d\\.,]+e\\d+|[\\d\\.,]+)\", 1)\n",
    "    # remove commas\n",
    "    .str.replace_all(\",\", \"\")\n",
    "    .alias(\"Cost_Clean\")\n",
    ").with_columns(pl.col(\"Cost_Clean\").cast(pl.Float64, strict=False))"
   ]
  },
  {
   "cell_type": "code",
   "execution_count": 7,
   "id": "73f03540",
   "metadata": {},
   "outputs": [],
   "source": [
    "# Renaming all the columns for consistency\n",
    "coaster = coaster.drop(\"Cost\").rename(\n",
    "    {\n",
    "        \"coaster_name\": \"Coaster_Name\",\n",
    "        \"year_introduced\": \"Year_Introduced\",\n",
    "        \"opening_date_clean\": \"Opening_Date\",\n",
    "        \"speed_mph\": \"Speed_mph\",\n",
    "        \"height_ft\": \"Height_ft\",\n",
    "        \"Inversions_clean\": \"Inversions\",\n",
    "        \"Gforce_clean\": \"Gforce\",\n",
    "        \"Cost_Clean\": \"Cost\",\n",
    "    }\n",
    ")"
   ]
  },
  {
   "cell_type": "code",
   "execution_count": 8,
   "id": "a4239a94",
   "metadata": {},
   "outputs": [
    {
     "data": {
      "text/html": [
       "<div><style>\n",
       ".dataframe > thead > tr,\n",
       ".dataframe > tbody > tr {\n",
       "  text-align: right;\n",
       "  white-space: pre-wrap;\n",
       "}\n",
       "</style>\n",
       "<small>shape: (1, 14)</small><table border=\"1\" class=\"dataframe\"><thead><tr><th>Coaster_Name</th><th>Location</th><th>Status</th><th>Manufacturer</th><th>Year_Introduced</th><th>latitude</th><th>longitude</th><th>Type_Main</th><th>Opening_Date</th><th>Speed_mph</th><th>Height_ft</th><th>Inversions</th><th>Gforce</th><th>Cost</th></tr><tr><td>u32</td><td>u32</td><td>u32</td><td>u32</td><td>u32</td><td>u32</td><td>u32</td><td>u32</td><td>u32</td><td>u32</td><td>u32</td><td>u32</td><td>u32</td><td>u32</td></tr></thead><tbody><tr><td>0</td><td>0</td><td>213</td><td>59</td><td>0</td><td>275</td><td>275</td><td>0</td><td>250</td><td>150</td><td>916</td><td>0</td><td>725</td><td>710</td></tr></tbody></table></div>"
      ],
      "text/plain": [
       "shape: (1, 14)\n",
       "┌─────┬─────┬─────┬─────┬─────┬─────┬─────┬────────┬────────┬───────┬───────┬───────┬───────┬──────┐\n",
       "│ Coa ┆ Loc ┆ Sta ┆ Man ┆ Yea ┆ lat ┆ lon ┆ Type_M ┆ Openin ┆ Speed ┆ Heigh ┆ Inver ┆ Gforc ┆ Cost │\n",
       "│ ste ┆ ati ┆ tus ┆ ufa ┆ r_I ┆ itu ┆ git ┆ ain    ┆ g_Date ┆ _mph  ┆ t_ft  ┆ sions ┆ e     ┆ ---  │\n",
       "│ r_N ┆ on  ┆ --- ┆ ctu ┆ ntr ┆ de  ┆ ude ┆ ---    ┆ ---    ┆ ---   ┆ ---   ┆ ---   ┆ ---   ┆ u32  │\n",
       "│ ame ┆ --- ┆ u32 ┆ rer ┆ odu ┆ --- ┆ --- ┆ u32    ┆ u32    ┆ u32   ┆ u32   ┆ u32   ┆ u32   ┆      │\n",
       "│ --- ┆ u32 ┆     ┆ --- ┆ ced ┆ u32 ┆ u32 ┆        ┆        ┆       ┆       ┆       ┆       ┆      │\n",
       "│ u32 ┆     ┆     ┆ u32 ┆ --- ┆     ┆     ┆        ┆        ┆       ┆       ┆       ┆       ┆      │\n",
       "│     ┆     ┆     ┆     ┆ u32 ┆     ┆     ┆        ┆        ┆       ┆       ┆       ┆       ┆      │\n",
       "╞═════╪═════╪═════╪═════╪═════╪═════╪═════╪════════╪════════╪═══════╪═══════╪═══════╪═══════╪══════╡\n",
       "│ 0   ┆ 0   ┆ 213 ┆ 59  ┆ 0   ┆ 275 ┆ 275 ┆ 0      ┆ 250    ┆ 150   ┆ 916   ┆ 0     ┆ 725   ┆ 710  │\n",
       "└─────┴─────┴─────┴─────┴─────┴─────┴─────┴────────┴────────┴───────┴───────┴───────┴───────┴──────┘"
      ]
     },
     "execution_count": 8,
     "metadata": {},
     "output_type": "execute_result"
    }
   ],
   "source": [
    "# Counting nulls per column\n",
    "coaster.select([pl.col(col).is_null().sum().alias(col) for col in coaster.columns])"
   ]
  },
  {
   "cell_type": "code",
   "execution_count": 9,
   "id": "1665f045",
   "metadata": {},
   "outputs": [
    {
     "data": {
      "text/html": [
       "<div><style>\n",
       ".dataframe > thead > tr,\n",
       ".dataframe > tbody > tr {\n",
       "  text-align: right;\n",
       "  white-space: pre-wrap;\n",
       "}\n",
       "</style>\n",
       "<small>shape: (0, 14)</small><table border=\"1\" class=\"dataframe\"><thead><tr><th>Coaster_Name</th><th>Location</th><th>Status</th><th>Manufacturer</th><th>Year_Introduced</th><th>latitude</th><th>longitude</th><th>Type_Main</th><th>Opening_Date</th><th>Speed_mph</th><th>Height_ft</th><th>Inversions</th><th>Gforce</th><th>Cost</th></tr><tr><td>str</td><td>str</td><td>str</td><td>str</td><td>i64</td><td>f64</td><td>f64</td><td>str</td><td>date</td><td>f64</td><td>f64</td><td>i64</td><td>f64</td><td>f64</td></tr></thead><tbody></tbody></table></div>"
      ],
      "text/plain": [
       "shape: (0, 14)\n",
       "┌─────┬─────┬─────┬─────┬─────┬─────┬─────┬────────┬────────┬───────┬───────┬───────┬───────┬──────┐\n",
       "│ Coa ┆ Loc ┆ Sta ┆ Man ┆ Yea ┆ lat ┆ lon ┆ Type_M ┆ Openin ┆ Speed ┆ Heigh ┆ Inver ┆ Gforc ┆ Cost │\n",
       "│ ste ┆ ati ┆ tus ┆ ufa ┆ r_I ┆ itu ┆ git ┆ ain    ┆ g_Date ┆ _mph  ┆ t_ft  ┆ sions ┆ e     ┆ ---  │\n",
       "│ r_N ┆ on  ┆ --- ┆ ctu ┆ ntr ┆ de  ┆ ude ┆ ---    ┆ ---    ┆ ---   ┆ ---   ┆ ---   ┆ ---   ┆ f64  │\n",
       "│ ame ┆ --- ┆ str ┆ rer ┆ odu ┆ --- ┆ --- ┆ str    ┆ date   ┆ f64   ┆ f64   ┆ i64   ┆ f64   ┆      │\n",
       "│ --- ┆ str ┆     ┆ --- ┆ ced ┆ f64 ┆ f64 ┆        ┆        ┆       ┆       ┆       ┆       ┆      │\n",
       "│ str ┆     ┆     ┆ str ┆ --- ┆     ┆     ┆        ┆        ┆       ┆       ┆       ┆       ┆      │\n",
       "│     ┆     ┆     ┆     ┆ i64 ┆     ┆     ┆        ┆        ┆       ┆       ┆       ┆       ┆      │\n",
       "╞═════╪═════╪═════╪═════╪═════╪═════╪═════╪════════╪════════╪═══════╪═══════╪═══════╪═══════╪══════╡\n",
       "└─────┴─────┴─────┴─────┴─────┴─────┴─────┴────────┴────────┴───────┴───────┴───────┴───────┴──────┘"
      ]
     },
     "execution_count": 9,
     "metadata": {},
     "output_type": "execute_result"
    }
   ],
   "source": [
    "# Finding duplicated rows (entire row)\n",
    "coaster.filter(coaster.is_duplicated())"
   ]
  },
  {
   "cell_type": "code",
   "execution_count": 10,
   "id": "f4d416dc",
   "metadata": {},
   "outputs": [
    {
     "data": {
      "text/html": [
       "<div><style>\n",
       ".dataframe > thead > tr,\n",
       ".dataframe > tbody > tr {\n",
       "  text-align: right;\n",
       "  white-space: pre-wrap;\n",
       "}\n",
       "</style>\n",
       "<small>shape: (173, 14)</small><table border=\"1\" class=\"dataframe\"><thead><tr><th>Coaster_Name</th><th>Location</th><th>Status</th><th>Manufacturer</th><th>Year_Introduced</th><th>latitude</th><th>longitude</th><th>Type_Main</th><th>Opening_Date</th><th>Speed_mph</th><th>Height_ft</th><th>Inversions</th><th>Gforce</th><th>Cost</th></tr><tr><td>str</td><td>str</td><td>str</td><td>str</td><td>i64</td><td>f64</td><td>f64</td><td>str</td><td>date</td><td>f64</td><td>f64</td><td>i64</td><td>f64</td><td>f64</td></tr></thead><tbody><tr><td>&quot;Derby Racer&quot;</td><td>&quot;Revere Beach&quot;</td><td>&quot;Removed&quot;</td><td>&quot;Fred W. Pearce&quot;</td><td>1911</td><td>42.42</td><td>-70.986</td><td>&quot;Wood&quot;</td><td>1911-01-01</td><td>null</td><td>null</td><td>0</td><td>null</td><td>140000.0</td></tr><tr><td>&quot;Zippin Pippin&quot;</td><td>&quot;Other&quot;</td><td>null</td><td>&quot;The Gravity Group&quot;</td><td>1912</td><td>null</td><td>null</td><td>&quot;Wood&quot;</td><td>null</td><td>40.0</td><td>null</td><td>0</td><td>null</td><td>null</td></tr><tr><td>&quot;Crystal Beach Cyclone&quot;</td><td>&quot;Crystal Beach Park&quot;</td><td>&quot;Removed&quot;</td><td>&quot;Traver Engineering&quot;</td><td>1926</td><td>42.8617</td><td>-79.0598</td><td>&quot;Wood&quot;</td><td>1926-01-01</td><td>60.0</td><td>null</td><td>0</td><td>4.0</td><td>176000.0</td></tr><tr><td>&quot;Crystal Beach Cyclone&quot;</td><td>&quot;Crystal Beach Park&quot;</td><td>&quot;Removed&quot;</td><td>&quot;Traver Engineering&quot;</td><td>1927</td><td>42.8617</td><td>-79.0598</td><td>&quot;Wood&quot;</td><td>1926-01-01</td><td>60.0</td><td>null</td><td>0</td><td>4.0</td><td>176000.0</td></tr><tr><td>&quot;Blue Streak (Conneaut Lake)&quot;</td><td>&quot;Conneaut Lake Park&quot;</td><td>&quot;Closed&quot;</td><td>null</td><td>1937</td><td>41.6349</td><td>-80.318</td><td>&quot;Wood&quot;</td><td>1938-05-23</td><td>50.0</td><td>null</td><td>0</td><td>null</td><td>null</td></tr><tr><td>&hellip;</td><td>&hellip;</td><td>&hellip;</td><td>&hellip;</td><td>&hellip;</td><td>&hellip;</td><td>&hellip;</td><td>&hellip;</td><td>&hellip;</td><td>&hellip;</td><td>&hellip;</td><td>&hellip;</td><td>&hellip;</td><td>&hellip;</td></tr><tr><td>&quot;Lil&#x27; Devil Coaster&quot;</td><td>&quot;Six Flags Great Adventure&quot;</td><td>&quot;Operating&quot;</td><td>&quot;Zamperla&quot;</td><td>2021</td><td>40.1343</td><td>-74.4434</td><td>&quot;Steel&quot;</td><td>1999-01-01</td><td>null</td><td>null</td><td>0</td><td>null</td><td>null</td></tr><tr><td>&quot;Little Dipper (Conneaut Lake P…</td><td>&quot;Conneaut Lake Park&quot;</td><td>&quot;Operating&quot;</td><td>&quot;Allan Herschell Company&quot;</td><td>2021</td><td>41.6343</td><td>-80.3165</td><td>&quot;Steel&quot;</td><td>1950-01-01</td><td>null</td><td>null</td><td>0</td><td>null</td><td>null</td></tr><tr><td>&quot;Iron Gwazi&quot;</td><td>&quot;Busch Gardens Tampa Bay&quot;</td><td>&quot;Under construction&quot;</td><td>&quot;Rocky Mountain Construction&quot;</td><td>2022</td><td>28.0339</td><td>-82.4231</td><td>&quot;Steel&quot;</td><td>null</td><td>76.0</td><td>null</td><td>2</td><td>null</td><td>null</td></tr><tr><td>&quot;American Dreier Looping&quot;</td><td>&quot;Other&quot;</td><td>null</td><td>&quot;Anton Schwarzkopf&quot;</td><td>2022</td><td>null</td><td>null</td><td>&quot;Steel&quot;</td><td>null</td><td>53.0</td><td>null</td><td>3</td><td>4.7</td><td>null</td></tr><tr><td>&quot;Tron Lightcycle Power Run&quot;</td><td>&quot;Other&quot;</td><td>null</td><td>&quot;Vekoma&quot;</td><td>2022</td><td>null</td><td>null</td><td>&quot;Steel&quot;</td><td>2016-06-16</td><td>59.3</td><td>null</td><td>0</td><td>4.0</td><td>null</td></tr></tbody></table></div>"
      ],
      "text/plain": [
       "shape: (173, 14)\n",
       "┌─────┬─────┬─────┬─────┬─────┬─────┬─────┬────────┬───────┬───────┬───────┬───────┬───────┬───────┐\n",
       "│ Coa ┆ Loc ┆ Sta ┆ Man ┆ Yea ┆ lat ┆ lon ┆ Type_M ┆ Openi ┆ Speed ┆ Heigh ┆ Inver ┆ Gforc ┆ Cost  │\n",
       "│ ste ┆ ati ┆ tus ┆ ufa ┆ r_I ┆ itu ┆ git ┆ ain    ┆ ng_Da ┆ _mph  ┆ t_ft  ┆ sions ┆ e     ┆ ---   │\n",
       "│ r_N ┆ on  ┆ --- ┆ ctu ┆ ntr ┆ de  ┆ ude ┆ ---    ┆ te    ┆ ---   ┆ ---   ┆ ---   ┆ ---   ┆ f64   │\n",
       "│ ame ┆ --- ┆ str ┆ rer ┆ odu ┆ --- ┆ --- ┆ str    ┆ ---   ┆ f64   ┆ f64   ┆ i64   ┆ f64   ┆       │\n",
       "│ --- ┆ str ┆     ┆ --- ┆ ced ┆ f64 ┆ f64 ┆        ┆ date  ┆       ┆       ┆       ┆       ┆       │\n",
       "│ str ┆     ┆     ┆ str ┆ --- ┆     ┆     ┆        ┆       ┆       ┆       ┆       ┆       ┆       │\n",
       "│     ┆     ┆     ┆     ┆ i64 ┆     ┆     ┆        ┆       ┆       ┆       ┆       ┆       ┆       │\n",
       "╞═════╪═════╪═════╪═════╪═════╪═════╪═════╪════════╪═══════╪═══════╪═══════╪═══════╪═══════╪═══════╡\n",
       "│ Der ┆ Rev ┆ Rem ┆ Fre ┆ 191 ┆ 42. ┆ -70 ┆ Wood   ┆ 1911- ┆ null  ┆ null  ┆ 0     ┆ null  ┆ 14000 │\n",
       "│ by  ┆ ere ┆ ove ┆ d   ┆ 1   ┆ 42  ┆ .98 ┆        ┆ 01-01 ┆       ┆       ┆       ┆       ┆ 0.0   │\n",
       "│ Rac ┆ Bea ┆ d   ┆ W.  ┆     ┆     ┆ 6   ┆        ┆       ┆       ┆       ┆       ┆       ┆       │\n",
       "│ er  ┆ ch  ┆     ┆ Pea ┆     ┆     ┆     ┆        ┆       ┆       ┆       ┆       ┆       ┆       │\n",
       "│     ┆     ┆     ┆ rce ┆     ┆     ┆     ┆        ┆       ┆       ┆       ┆       ┆       ┆       │\n",
       "│ Zip ┆ Oth ┆ nul ┆ The ┆ 191 ┆ nul ┆ nul ┆ Wood   ┆ null  ┆ 40.0  ┆ null  ┆ 0     ┆ null  ┆ null  │\n",
       "│ pin ┆ er  ┆ l   ┆ Gra ┆ 2   ┆ l   ┆ l   ┆        ┆       ┆       ┆       ┆       ┆       ┆       │\n",
       "│ Pip ┆     ┆     ┆ vit ┆     ┆     ┆     ┆        ┆       ┆       ┆       ┆       ┆       ┆       │\n",
       "│ pin ┆     ┆     ┆ y   ┆     ┆     ┆     ┆        ┆       ┆       ┆       ┆       ┆       ┆       │\n",
       "│     ┆     ┆     ┆ Gro ┆     ┆     ┆     ┆        ┆       ┆       ┆       ┆       ┆       ┆       │\n",
       "│     ┆     ┆     ┆ up  ┆     ┆     ┆     ┆        ┆       ┆       ┆       ┆       ┆       ┆       │\n",
       "│ Cry ┆ Cry ┆ Rem ┆ Tra ┆ 192 ┆ 42. ┆ -79 ┆ Wood   ┆ 1926- ┆ 60.0  ┆ null  ┆ 0     ┆ 4.0   ┆ 17600 │\n",
       "│ sta ┆ sta ┆ ove ┆ ver ┆ 6   ┆ 861 ┆ .05 ┆        ┆ 01-01 ┆       ┆       ┆       ┆       ┆ 0.0   │\n",
       "│ l   ┆ l   ┆ d   ┆ Eng ┆     ┆ 7   ┆ 98  ┆        ┆       ┆       ┆       ┆       ┆       ┆       │\n",
       "│ Bea ┆ Bea ┆     ┆ ine ┆     ┆     ┆     ┆        ┆       ┆       ┆       ┆       ┆       ┆       │\n",
       "│ ch  ┆ ch  ┆     ┆ eri ┆     ┆     ┆     ┆        ┆       ┆       ┆       ┆       ┆       ┆       │\n",
       "│ Cyc ┆ Par ┆     ┆ ng  ┆     ┆     ┆     ┆        ┆       ┆       ┆       ┆       ┆       ┆       │\n",
       "│ lon ┆ k   ┆     ┆     ┆     ┆     ┆     ┆        ┆       ┆       ┆       ┆       ┆       ┆       │\n",
       "│ e   ┆     ┆     ┆     ┆     ┆     ┆     ┆        ┆       ┆       ┆       ┆       ┆       ┆       │\n",
       "│ Cry ┆ Cry ┆ Rem ┆ Tra ┆ 192 ┆ 42. ┆ -79 ┆ Wood   ┆ 1926- ┆ 60.0  ┆ null  ┆ 0     ┆ 4.0   ┆ 17600 │\n",
       "│ sta ┆ sta ┆ ove ┆ ver ┆ 7   ┆ 861 ┆ .05 ┆        ┆ 01-01 ┆       ┆       ┆       ┆       ┆ 0.0   │\n",
       "│ l   ┆ l   ┆ d   ┆ Eng ┆     ┆ 7   ┆ 98  ┆        ┆       ┆       ┆       ┆       ┆       ┆       │\n",
       "│ Bea ┆ Bea ┆     ┆ ine ┆     ┆     ┆     ┆        ┆       ┆       ┆       ┆       ┆       ┆       │\n",
       "│ ch  ┆ ch  ┆     ┆ eri ┆     ┆     ┆     ┆        ┆       ┆       ┆       ┆       ┆       ┆       │\n",
       "│ Cyc ┆ Par ┆     ┆ ng  ┆     ┆     ┆     ┆        ┆       ┆       ┆       ┆       ┆       ┆       │\n",
       "│ lon ┆ k   ┆     ┆     ┆     ┆     ┆     ┆        ┆       ┆       ┆       ┆       ┆       ┆       │\n",
       "│ e   ┆     ┆     ┆     ┆     ┆     ┆     ┆        ┆       ┆       ┆       ┆       ┆       ┆       │\n",
       "│ Blu ┆ Con ┆ Clo ┆ nul ┆ 193 ┆ 41. ┆ -80 ┆ Wood   ┆ 1938- ┆ 50.0  ┆ null  ┆ 0     ┆ null  ┆ null  │\n",
       "│ e   ┆ nea ┆ sed ┆ l   ┆ 7   ┆ 634 ┆ .31 ┆        ┆ 05-23 ┆       ┆       ┆       ┆       ┆       │\n",
       "│ Str ┆ ut  ┆     ┆     ┆     ┆ 9   ┆ 8   ┆        ┆       ┆       ┆       ┆       ┆       ┆       │\n",
       "│ eak ┆ Lak ┆     ┆     ┆     ┆     ┆     ┆        ┆       ┆       ┆       ┆       ┆       ┆       │\n",
       "│ (Co ┆ e   ┆     ┆     ┆     ┆     ┆     ┆        ┆       ┆       ┆       ┆       ┆       ┆       │\n",
       "│ nne ┆ Par ┆     ┆     ┆     ┆     ┆     ┆        ┆       ┆       ┆       ┆       ┆       ┆       │\n",
       "│ aut ┆ k   ┆     ┆     ┆     ┆     ┆     ┆        ┆       ┆       ┆       ┆       ┆       ┆       │\n",
       "│ Lak ┆     ┆     ┆     ┆     ┆     ┆     ┆        ┆       ┆       ┆       ┆       ┆       ┆       │\n",
       "│ e)  ┆     ┆     ┆     ┆     ┆     ┆     ┆        ┆       ┆       ┆       ┆       ┆       ┆       │\n",
       "│ …   ┆ …   ┆ …   ┆ …   ┆ …   ┆ …   ┆ …   ┆ …      ┆ …     ┆ …     ┆ …     ┆ …     ┆ …     ┆ …     │\n",
       "│ Lil ┆ Six ┆ Ope ┆ Zam ┆ 202 ┆ 40. ┆ -74 ┆ Steel  ┆ 1999- ┆ null  ┆ null  ┆ 0     ┆ null  ┆ null  │\n",
       "│ '   ┆ Fla ┆ rat ┆ per ┆ 1   ┆ 134 ┆ .44 ┆        ┆ 01-01 ┆       ┆       ┆       ┆       ┆       │\n",
       "│ Dev ┆ gs  ┆ ing ┆ la  ┆     ┆ 3   ┆ 34  ┆        ┆       ┆       ┆       ┆       ┆       ┆       │\n",
       "│ il  ┆ Gre ┆     ┆     ┆     ┆     ┆     ┆        ┆       ┆       ┆       ┆       ┆       ┆       │\n",
       "│ Coa ┆ at  ┆     ┆     ┆     ┆     ┆     ┆        ┆       ┆       ┆       ┆       ┆       ┆       │\n",
       "│ ste ┆ Adv ┆     ┆     ┆     ┆     ┆     ┆        ┆       ┆       ┆       ┆       ┆       ┆       │\n",
       "│ r   ┆ ent ┆     ┆     ┆     ┆     ┆     ┆        ┆       ┆       ┆       ┆       ┆       ┆       │\n",
       "│     ┆ ure ┆     ┆     ┆     ┆     ┆     ┆        ┆       ┆       ┆       ┆       ┆       ┆       │\n",
       "│ Lit ┆ Con ┆ Ope ┆ All ┆ 202 ┆ 41. ┆ -80 ┆ Steel  ┆ 1950- ┆ null  ┆ null  ┆ 0     ┆ null  ┆ null  │\n",
       "│ tle ┆ nea ┆ rat ┆ an  ┆ 1   ┆ 634 ┆ .31 ┆        ┆ 01-01 ┆       ┆       ┆       ┆       ┆       │\n",
       "│ Dip ┆ ut  ┆ ing ┆ Her ┆     ┆ 3   ┆ 65  ┆        ┆       ┆       ┆       ┆       ┆       ┆       │\n",
       "│ per ┆ Lak ┆     ┆ sch ┆     ┆     ┆     ┆        ┆       ┆       ┆       ┆       ┆       ┆       │\n",
       "│ (Co ┆ e   ┆     ┆ ell ┆     ┆     ┆     ┆        ┆       ┆       ┆       ┆       ┆       ┆       │\n",
       "│ nne ┆ Par ┆     ┆ Com ┆     ┆     ┆     ┆        ┆       ┆       ┆       ┆       ┆       ┆       │\n",
       "│ aut ┆ k   ┆     ┆ pan ┆     ┆     ┆     ┆        ┆       ┆       ┆       ┆       ┆       ┆       │\n",
       "│ Lak ┆     ┆     ┆ y   ┆     ┆     ┆     ┆        ┆       ┆       ┆       ┆       ┆       ┆       │\n",
       "│ e   ┆     ┆     ┆     ┆     ┆     ┆     ┆        ┆       ┆       ┆       ┆       ┆       ┆       │\n",
       "│ P…  ┆     ┆     ┆     ┆     ┆     ┆     ┆        ┆       ┆       ┆       ┆       ┆       ┆       │\n",
       "│ Iro ┆ Bus ┆ Und ┆ Roc ┆ 202 ┆ 28. ┆ -82 ┆ Steel  ┆ null  ┆ 76.0  ┆ null  ┆ 2     ┆ null  ┆ null  │\n",
       "│ n   ┆ ch  ┆ er  ┆ ky  ┆ 2   ┆ 033 ┆ .42 ┆        ┆       ┆       ┆       ┆       ┆       ┆       │\n",
       "│ Gwa ┆ Gar ┆ con ┆ Mou ┆     ┆ 9   ┆ 31  ┆        ┆       ┆       ┆       ┆       ┆       ┆       │\n",
       "│ zi  ┆ den ┆ str ┆ nta ┆     ┆     ┆     ┆        ┆       ┆       ┆       ┆       ┆       ┆       │\n",
       "│     ┆ s   ┆ uct ┆ in  ┆     ┆     ┆     ┆        ┆       ┆       ┆       ┆       ┆       ┆       │\n",
       "│     ┆ Tam ┆ ion ┆ Con ┆     ┆     ┆     ┆        ┆       ┆       ┆       ┆       ┆       ┆       │\n",
       "│     ┆ pa  ┆     ┆ str ┆     ┆     ┆     ┆        ┆       ┆       ┆       ┆       ┆       ┆       │\n",
       "│     ┆ Bay ┆     ┆ uct ┆     ┆     ┆     ┆        ┆       ┆       ┆       ┆       ┆       ┆       │\n",
       "│     ┆     ┆     ┆ ion ┆     ┆     ┆     ┆        ┆       ┆       ┆       ┆       ┆       ┆       │\n",
       "│ Ame ┆ Oth ┆ nul ┆ Ant ┆ 202 ┆ nul ┆ nul ┆ Steel  ┆ null  ┆ 53.0  ┆ null  ┆ 3     ┆ 4.7   ┆ null  │\n",
       "│ ric ┆ er  ┆ l   ┆ on  ┆ 2   ┆ l   ┆ l   ┆        ┆       ┆       ┆       ┆       ┆       ┆       │\n",
       "│ an  ┆     ┆     ┆ Sch ┆     ┆     ┆     ┆        ┆       ┆       ┆       ┆       ┆       ┆       │\n",
       "│ Dre ┆     ┆     ┆ war ┆     ┆     ┆     ┆        ┆       ┆       ┆       ┆       ┆       ┆       │\n",
       "│ ier ┆     ┆     ┆ zko ┆     ┆     ┆     ┆        ┆       ┆       ┆       ┆       ┆       ┆       │\n",
       "│ Loo ┆     ┆     ┆ pf  ┆     ┆     ┆     ┆        ┆       ┆       ┆       ┆       ┆       ┆       │\n",
       "│ pin ┆     ┆     ┆     ┆     ┆     ┆     ┆        ┆       ┆       ┆       ┆       ┆       ┆       │\n",
       "│ g   ┆     ┆     ┆     ┆     ┆     ┆     ┆        ┆       ┆       ┆       ┆       ┆       ┆       │\n",
       "│ Tro ┆ Oth ┆ nul ┆ Vek ┆ 202 ┆ nul ┆ nul ┆ Steel  ┆ 2016- ┆ 59.3  ┆ null  ┆ 0     ┆ 4.0   ┆ null  │\n",
       "│ n   ┆ er  ┆ l   ┆ oma ┆ 2   ┆ l   ┆ l   ┆        ┆ 06-16 ┆       ┆       ┆       ┆       ┆       │\n",
       "│ Lig ┆     ┆     ┆     ┆     ┆     ┆     ┆        ┆       ┆       ┆       ┆       ┆       ┆       │\n",
       "│ htc ┆     ┆     ┆     ┆     ┆     ┆     ┆        ┆       ┆       ┆       ┆       ┆       ┆       │\n",
       "│ ycl ┆     ┆     ┆     ┆     ┆     ┆     ┆        ┆       ┆       ┆       ┆       ┆       ┆       │\n",
       "│ e   ┆     ┆     ┆     ┆     ┆     ┆     ┆        ┆       ┆       ┆       ┆       ┆       ┆       │\n",
       "│ Pow ┆     ┆     ┆     ┆     ┆     ┆     ┆        ┆       ┆       ┆       ┆       ┆       ┆       │\n",
       "│ er  ┆     ┆     ┆     ┆     ┆     ┆     ┆        ┆       ┆       ┆       ┆       ┆       ┆       │\n",
       "│ Run ┆     ┆     ┆     ┆     ┆     ┆     ┆        ┆       ┆       ┆       ┆       ┆       ┆       │\n",
       "└─────┴─────┴─────┴─────┴─────┴─────┴─────┴────────┴───────┴───────┴───────┴───────┴───────┴───────┘"
      ]
     },
     "execution_count": 10,
     "metadata": {},
     "output_type": "execute_result"
    }
   ],
   "source": [
    "# Finding duplicated rows based on \"Coaster_Name\"\n",
    "coaster.filter(coaster.select(pl.col(\"Coaster_Name\")).is_duplicated())"
   ]
  },
  {
   "cell_type": "code",
   "execution_count": 11,
   "id": "31cd3276",
   "metadata": {},
   "outputs": [
    {
     "data": {
      "text/html": [
       "<div><style>\n",
       ".dataframe > thead > tr,\n",
       ".dataframe > tbody > tr {\n",
       "  text-align: right;\n",
       "  white-space: pre-wrap;\n",
       "}\n",
       "</style>\n",
       "<small>shape: (2, 14)</small><table border=\"1\" class=\"dataframe\"><thead><tr><th>Coaster_Name</th><th>Location</th><th>Status</th><th>Manufacturer</th><th>Year_Introduced</th><th>latitude</th><th>longitude</th><th>Type_Main</th><th>Opening_Date</th><th>Speed_mph</th><th>Height_ft</th><th>Inversions</th><th>Gforce</th><th>Cost</th></tr><tr><td>str</td><td>str</td><td>str</td><td>str</td><td>i64</td><td>f64</td><td>f64</td><td>str</td><td>date</td><td>f64</td><td>f64</td><td>i64</td><td>f64</td><td>f64</td></tr></thead><tbody><tr><td>&quot;Crystal Beach Cyclone&quot;</td><td>&quot;Crystal Beach Park&quot;</td><td>&quot;Removed&quot;</td><td>&quot;Traver Engineering&quot;</td><td>1926</td><td>42.8617</td><td>-79.0598</td><td>&quot;Wood&quot;</td><td>1926-01-01</td><td>60.0</td><td>null</td><td>0</td><td>4.0</td><td>176000.0</td></tr><tr><td>&quot;Crystal Beach Cyclone&quot;</td><td>&quot;Crystal Beach Park&quot;</td><td>&quot;Removed&quot;</td><td>&quot;Traver Engineering&quot;</td><td>1927</td><td>42.8617</td><td>-79.0598</td><td>&quot;Wood&quot;</td><td>1926-01-01</td><td>60.0</td><td>null</td><td>0</td><td>4.0</td><td>176000.0</td></tr></tbody></table></div>"
      ],
      "text/plain": [
       "shape: (2, 14)\n",
       "┌─────┬─────┬─────┬─────┬─────┬─────┬─────┬────────┬───────┬───────┬───────┬───────┬───────┬───────┐\n",
       "│ Coa ┆ Loc ┆ Sta ┆ Man ┆ Yea ┆ lat ┆ lon ┆ Type_M ┆ Openi ┆ Speed ┆ Heigh ┆ Inver ┆ Gforc ┆ Cost  │\n",
       "│ ste ┆ ati ┆ tus ┆ ufa ┆ r_I ┆ itu ┆ git ┆ ain    ┆ ng_Da ┆ _mph  ┆ t_ft  ┆ sions ┆ e     ┆ ---   │\n",
       "│ r_N ┆ on  ┆ --- ┆ ctu ┆ ntr ┆ de  ┆ ude ┆ ---    ┆ te    ┆ ---   ┆ ---   ┆ ---   ┆ ---   ┆ f64   │\n",
       "│ ame ┆ --- ┆ str ┆ rer ┆ odu ┆ --- ┆ --- ┆ str    ┆ ---   ┆ f64   ┆ f64   ┆ i64   ┆ f64   ┆       │\n",
       "│ --- ┆ str ┆     ┆ --- ┆ ced ┆ f64 ┆ f64 ┆        ┆ date  ┆       ┆       ┆       ┆       ┆       │\n",
       "│ str ┆     ┆     ┆ str ┆ --- ┆     ┆     ┆        ┆       ┆       ┆       ┆       ┆       ┆       │\n",
       "│     ┆     ┆     ┆     ┆ i64 ┆     ┆     ┆        ┆       ┆       ┆       ┆       ┆       ┆       │\n",
       "╞═════╪═════╪═════╪═════╪═════╪═════╪═════╪════════╪═══════╪═══════╪═══════╪═══════╪═══════╪═══════╡\n",
       "│ Cry ┆ Cry ┆ Rem ┆ Tra ┆ 192 ┆ 42. ┆ -79 ┆ Wood   ┆ 1926- ┆ 60.0  ┆ null  ┆ 0     ┆ 4.0   ┆ 17600 │\n",
       "│ sta ┆ sta ┆ ove ┆ ver ┆ 6   ┆ 861 ┆ .05 ┆        ┆ 01-01 ┆       ┆       ┆       ┆       ┆ 0.0   │\n",
       "│ l   ┆ l   ┆ d   ┆ Eng ┆     ┆ 7   ┆ 98  ┆        ┆       ┆       ┆       ┆       ┆       ┆       │\n",
       "│ Bea ┆ Bea ┆     ┆ ine ┆     ┆     ┆     ┆        ┆       ┆       ┆       ┆       ┆       ┆       │\n",
       "│ ch  ┆ ch  ┆     ┆ eri ┆     ┆     ┆     ┆        ┆       ┆       ┆       ┆       ┆       ┆       │\n",
       "│ Cyc ┆ Par ┆     ┆ ng  ┆     ┆     ┆     ┆        ┆       ┆       ┆       ┆       ┆       ┆       │\n",
       "│ lon ┆ k   ┆     ┆     ┆     ┆     ┆     ┆        ┆       ┆       ┆       ┆       ┆       ┆       │\n",
       "│ e   ┆     ┆     ┆     ┆     ┆     ┆     ┆        ┆       ┆       ┆       ┆       ┆       ┆       │\n",
       "│ Cry ┆ Cry ┆ Rem ┆ Tra ┆ 192 ┆ 42. ┆ -79 ┆ Wood   ┆ 1926- ┆ 60.0  ┆ null  ┆ 0     ┆ 4.0   ┆ 17600 │\n",
       "│ sta ┆ sta ┆ ove ┆ ver ┆ 7   ┆ 861 ┆ .05 ┆        ┆ 01-01 ┆       ┆       ┆       ┆       ┆ 0.0   │\n",
       "│ l   ┆ l   ┆ d   ┆ Eng ┆     ┆ 7   ┆ 98  ┆        ┆       ┆       ┆       ┆       ┆       ┆       │\n",
       "│ Bea ┆ Bea ┆     ┆ ine ┆     ┆     ┆     ┆        ┆       ┆       ┆       ┆       ┆       ┆       │\n",
       "│ ch  ┆ ch  ┆     ┆ eri ┆     ┆     ┆     ┆        ┆       ┆       ┆       ┆       ┆       ┆       │\n",
       "│ Cyc ┆ Par ┆     ┆ ng  ┆     ┆     ┆     ┆        ┆       ┆       ┆       ┆       ┆       ┆       │\n",
       "│ lon ┆ k   ┆     ┆     ┆     ┆     ┆     ┆        ┆       ┆       ┆       ┆       ┆       ┆       │\n",
       "│ e   ┆     ┆     ┆     ┆     ┆     ┆     ┆        ┆       ┆       ┆       ┆       ┆       ┆       │\n",
       "└─────┴─────┴─────┴─────┴─────┴─────┴─────┴────────┴───────┴───────┴───────┴───────┴───────┴───────┘"
      ]
     },
     "execution_count": 11,
     "metadata": {},
     "output_type": "execute_result"
    }
   ],
   "source": [
    "# Query for a specific roller coaster\n",
    "coaster.filter(pl.col(\"Coaster_Name\") == \"Crystal Beach Cyclone\")"
   ]
  },
  {
   "cell_type": "code",
   "execution_count": 12,
   "id": "96a3598f",
   "metadata": {},
   "outputs": [],
   "source": [
    "# Drop duplicates based on multiple columns\n",
    "coaster = coaster.unique(\n",
    "    subset=[\"Coaster_Name\", \"Location\", \"Opening_Date\", \"Speed_mph\"]\n",
    ")"
   ]
  },
  {
   "cell_type": "code",
   "execution_count": 13,
   "id": "e0fe61d1",
   "metadata": {},
   "outputs": [],
   "source": [
    "coaster.write_csv(\"coaster_db_clean.csv\")"
   ]
  },
  {
   "cell_type": "markdown",
   "id": "22435b15",
   "metadata": {},
   "source": [
    "### Step 3: Filtering and Grouping"
   ]
  },
  {
   "cell_type": "code",
   "execution_count": 20,
   "id": "1f1acb3d",
   "metadata": {},
   "outputs": [
    {
     "data": {
      "text/html": [
       "<div><style>\n",
       ".dataframe > thead > tr,\n",
       ".dataframe > tbody > tr {\n",
       "  text-align: right;\n",
       "  white-space: pre-wrap;\n",
       "}\n",
       "</style>\n",
       "<small>shape: (101, 2)</small><table border=\"1\" class=\"dataframe\"><thead><tr><th>Year_Introduced</th><th>len</th></tr><tr><td>i64</td><td>u32</td></tr></thead><tbody><tr><td>1904</td><td>1</td></tr><tr><td>1895</td><td>1</td></tr><tr><td>1914</td><td>1</td></tr><tr><td>1919</td><td>1</td></tr><tr><td>1908</td><td>1</td></tr><tr><td>&hellip;</td><td>&hellip;</td></tr><tr><td>2002</td><td>28</td></tr><tr><td>2001</td><td>29</td></tr><tr><td>1998</td><td>30</td></tr><tr><td>2000</td><td>45</td></tr><tr><td>1999</td><td>46</td></tr></tbody></table></div>"
      ],
      "text/plain": [
       "shape: (101, 2)\n",
       "┌─────────────────┬─────┐\n",
       "│ Year_Introduced ┆ len │\n",
       "│ ---             ┆ --- │\n",
       "│ i64             ┆ u32 │\n",
       "╞═════════════════╪═════╡\n",
       "│ 1904            ┆ 1   │\n",
       "│ 1895            ┆ 1   │\n",
       "│ 1914            ┆ 1   │\n",
       "│ 1919            ┆ 1   │\n",
       "│ 1908            ┆ 1   │\n",
       "│ …               ┆ …   │\n",
       "│ 2002            ┆ 28  │\n",
       "│ 2001            ┆ 29  │\n",
       "│ 1998            ┆ 30  │\n",
       "│ 2000            ┆ 45  │\n",
       "│ 1999            ┆ 46  │\n",
       "└─────────────────┴─────┘"
      ]
     },
     "execution_count": 20,
     "metadata": {},
     "output_type": "execute_result"
    }
   ],
   "source": [
    "# Value counts of \"Year_Introduced\"\n",
    "coaster.group_by(\"Year_Introduced\").agg(pl.len()).sort(\"len\")"
   ]
  },
  {
   "cell_type": "code",
   "execution_count": null,
   "id": "ee63aacb",
   "metadata": {},
   "outputs": [],
   "source": [
    "# Roller coasters with speeds > 80 mph\n",
    "coaster.filter(pl.col(\"Speed_mph\") > 80)"
   ]
  },
  {
   "cell_type": "code",
   "execution_count": null,
   "id": "cd4ee00d",
   "metadata": {},
   "outputs": [],
   "source": [
    "# Top 10 Manufacturers by number of coasters\n",
    "coaster.group_by(\"Manufacturer\").agg(pl.len().alias(\"Count\")).sort(\n",
    "    \"Count\", descending=True\n",
    ").head(10)"
   ]
  },
  {
   "cell_type": "code",
   "execution_count": null,
   "id": "65d074f3",
   "metadata": {},
   "outputs": [],
   "source": [
    "# Average Speed per Manufacturer\n",
    "coaster.group_by(\"Manufacturer\").agg(\n",
    "    pl.mean(\"Speed_mph\").alias(\"Avg_Speed\")\n",
    ").drop_nulls().sort(\"Avg_Speed\", descending=True).head(10)"
   ]
  },
  {
   "cell_type": "code",
   "execution_count": null,
   "id": "ae38694b",
   "metadata": {},
   "outputs": [],
   "source": [
    "# Checking for max height by Location\n",
    "coaster.group_by(\"Location\").agg(\n",
    "    pl.col(\"Height_ft\").max().alias(\"Max_Height\")\n",
    ").drop_nulls().sort(\"Max_Height\", descending=True)"
   ]
  },
  {
   "cell_type": "markdown",
   "id": "0da8f188",
   "metadata": {},
   "source": [
    "### Step 4: Visualizing a distrubution"
   ]
  },
  {
   "cell_type": "code",
   "execution_count": 35,
   "id": "a946d410",
   "metadata": {},
   "outputs": [
    {
     "data": {
      "image/png": "[encoded data removed]",
      "text/plain": [
       "<Figure size 1000x600 with 1 Axes>"
      ]
     },
     "metadata": {},
     "output_type": "display_data"
    }
   ],
   "source": [
    "# Drop nulls and convert to numpy\n",
    "speed_data = coaster.select(\"Speed_mph\").drop_nulls().to_numpy().flatten()\n",
    "\n",
    "# Summary stats\n",
    "mean_speed = speed_data.mean()\n",
    "median_speed = np.median(speed_data)\n",
    "std_speed = speed_data.std()\n",
    "\n",
    "# Plot\n",
    "plt.figure(figsize=(10, 6))\n",
    "plt.hist(speed_data, bins=25, color=\"steelblue\", edgecolor=\"black\", alpha=0.7)\n",
    "\n",
    "# Add vertical lines for mean & median\n",
    "plt.axvline(\n",
    "    mean_speed,\n",
    "    color=\"red\",\n",
    "    linestyle=\"dashed\",\n",
    "    linewidth=2,\n",
    "    label=f\"Mean = {mean_speed:.2f}\",\n",
    ")\n",
    "plt.axvline(\n",
    "    median_speed,\n",
    "    color=\"green\",\n",
    "    linestyle=\"dashed\",\n",
    "    linewidth=2,\n",
    "    label=f\"Median = {median_speed:.2f}\",\n",
    ")\n",
    "\n",
    "# Add annotation box with summary stats\n",
    "textstr = (\n",
    "    f\"Mean: {mean_speed:.2f}\\n\"\n",
    "    f\"Median: {median_speed:.2f}\\n\"\n",
    "    f\"Std Dev: {std_speed:.2f}\\n\"\n",
    "    f\"Count: {len(speed_data)}\"\n",
    ")\n",
    "\n",
    "props = dict(boxstyle=\"round\", facecolor=\"white\", alpha=0.8)\n",
    "plt.gca().text(\n",
    "    0.70,\n",
    "    0.95,\n",
    "    textstr,\n",
    "    transform=plt.gca().transAxes,\n",
    "    fontsize=10,\n",
    "    verticalalignment=\"top\",\n",
    "    bbox=props,\n",
    ")\n",
    "\n",
    "# Titles and labels\n",
    "plt.title(\"Distribution of Roller Coaster Speeds\", fontsize=14, weight=\"bold\")\n",
    "plt.xlabel(\"Speed (mph)\", fontsize=12)\n",
    "plt.ylabel(\"Number of Coasters\", fontsize=12)\n",
    "plt.legend()\n",
    "\n",
    "plt.show()"
   ]
  }
 ],
 "metadata": {
  "kernelspec": {
   "display_name": "base",
   "language": "python",
   "name": "python3"
  },
  "language_info": {
   "codemirror_mode": {
    "name": "ipython",
    "version": 3
   },
   "file_extension": ".py",
   "mimetype": "text/x-python",
   "name": "python",
   "nbconvert_exporter": "python",
   "pygments_lexer": "ipython3",
   "version": "3.12.11"
  }
 },
 "nbformat": 4,
 "nbformat_minor": 5
}
